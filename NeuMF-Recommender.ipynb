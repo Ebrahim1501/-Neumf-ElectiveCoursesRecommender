{
  "cells": [
    {
      "cell_type": "markdown",
      "source": [
        "# **import libraries**"
      ],
      "metadata": {
        "id": "rZWaycMZ9T3k"
      }
    },
    {
      "cell_type": "code",
      "source": [
        "\n",
        "import numpy as np\n",
        "import pandas as pd\n",
        "from keras.layers import Input,Embedding,Flatten,Concatenate,Dot,Dense,Dropout,BatchNormalization\n",
        "from keras.models import Model\n",
        "from keras.optimizers import Adam ,SGD\n",
        "from keras.callbacks import EarlyStopping\n",
        "from sklearn.model_selection import train_test_split\n",
        "import random\n",
        "import matplotlib.pyplot as plt\n",
        "import seaborn as sns\n",
        "import pickle\n",
        "import pickle as pkl\n",
        "\n",
        "#from utils import * # py file containing all necessary functions\n",
        "\n",
        "\n",
        "\n",
        "\n",
        "\n",
        "import os\n",
        "\n",
        "encodings = ['utf-8-sig', 'latin1', 'iso-8859-1', 'cp1252']\n",
        "for encoding in encodings:#find right encoding to read the csv file\n",
        "    try:\n",
        "        dataset = pd.read_csv('/content/Sampledata2.csv', encoding=encoding)\n",
        "        print(\"File loaded successfully using encoding:\", encoding)\n",
        "        break\n",
        "    except UnicodeDecodeError:\n",
        "        print(\"Error decoding file with encoding:\", encoding)\n"
      ],
      "metadata": {
        "id": "w3dlAS0Z5vX6",
        "outputId": "5027dd23-455a-49ce-dacf-d564345a9a31",
        "colab": {
          "base_uri": "https://localhost:8080/"
        }
      },
      "execution_count": 443,
      "outputs": [
        {
          "output_type": "stream",
          "name": "stdout",
          "text": [
            "Error decoding file with encoding: utf-8-sig\n",
            "File loaded successfully using encoding: latin1\n"
          ]
        }
      ]
    },
    {
      "cell_type": "markdown",
      "source": [
        "# **Utility functions**"
      ],
      "metadata": {
        "id": "cosp6cx4vufv"
      }
    },
    {
      "cell_type": "code",
      "source": [
        "def augment_data(dataset: pd.DataFrame, target_col: str, threshold: float, duplication_factor=1) -> pd.DataFrame:\n",
        "  \"\"\"\n",
        "  Augments a dataset by duplicating rows with target values below a threshold\n",
        "  and adding random noise to the target column.\n",
        "\n",
        "  Args:\n",
        "      dataset (pd.DataFrame): The dataset to be augmented.\n",
        "\n",
        "      target_col (str): The name of the column containing the target variable.\n",
        "\n",
        "      threshold (float): The threshold value for target variable duplication.\n",
        "          Rows with target values less than or equal to the threshold are duplicated.\n",
        "\n",
        "      duplication_factor (int, optional): The number of times to duplicate rows\n",
        "          that meet the threshold criteria. Defaults to 1 (duplicate once).\n",
        "\n",
        "  Returns:\n",
        "      pd.DataFrame: The augmented dataset containing both original and duplicated rows.\n",
        "  \"\"\"\n",
        "\n",
        "  augmented_rows = []\n",
        "\n",
        "  for index, row in dataset.iterrows():\n",
        "    # Check if target value meets duplication criteria\n",
        "    if row[target_col] <= threshold:\n",
        "      for _ in range(duplication_factor):\n",
        "        # Generate random noise within a selected range\n",
        "        noise = np.random.uniform(low=-1, high=1)\n",
        "        augmented_value = row[target_col] + noise\n",
        "\n",
        "        # Create a new row with augmented target value\n",
        "        augmented_row = {}\n",
        "        for col in dataset.columns:\n",
        "          augmented_row[col] = row[col] if col != target_col else augmented_value\n",
        "        augmented_rows.append(augmented_row)\n",
        "    else:\n",
        "      # Add original row if it doesn't qualify for augmentation\n",
        "      augmented_rows.append(row.to_dict())\n",
        "\n",
        "  # Concatenate original dataset with augmented rows\n",
        "  augmented_dataset = pd.DataFrame(augmented_rows)\n",
        "\n",
        "  return augmented_dataset\n",
        "\n",
        "\n",
        "\n",
        "\n",
        "\n",
        "\n",
        "def serialize(obj, filename):\n",
        "  \"\"\"Serializes a Python object to a file using pickle.\n",
        "\n",
        "  Args:\n",
        "    obj: The Python object to serialize.\n",
        "    filename: The name of the file to save the serialized object to.\n",
        "  \"\"\"\n",
        "\n",
        "\n",
        "\n",
        "  with open(filename, 'wb') as file:\n",
        "    pickle.dump(obj, file)\n",
        "\n",
        "\n",
        "\n",
        "def deserialize_object(filename):\n",
        "  \"\"\"Deserializes a Python object from a file using pickle.\n",
        "\n",
        "  Args:\n",
        "    filename: The name of the file containing the serialized object.\n",
        "\n",
        "  Returns:\n",
        "    The deserialized Python object.\n",
        "  \"\"\"\n",
        "\n",
        "  with open(filename, 'rb') as file:\n",
        "    return pickle.load(file)\n",
        "\n",
        "\n",
        "\n",
        "\n",
        "\n",
        "def get_topk_recommendations(model, student_id, courses, k=5):\n",
        "    \"\"\"Get Top k recommendations based on student_id.\n",
        "\n",
        "    Args:\n",
        "    model: pre-trained recommendation model.\n",
        "    student_id: the encoded id for the desired student.\n",
        "    courses: list of courses encoded ID's.\n",
        "    k: number of top Recommended objects.\n",
        "\n",
        "    Returns:\n",
        "    List of course IDs recommended for the student.\n",
        "    \"\"\"\n",
        "\n",
        "    student_input = np.array([student_id])\n",
        "    student_input = np.repeat(student_input, len(courses))\n",
        "    course_inputs = np.array(courses)\n",
        "    student_input = student_input.reshape(-1, 1)  # Shape (len(courses), 1)\n",
        "    course_inputs = course_inputs.reshape(-1, 1)    # Shape (len(courses), 1)\n",
        "\n",
        "    predictions = model.predict([student_input, course_inputs])\n",
        "    predictions = predictions.flatten()\n",
        "\n",
        "    predictions_df = pd.DataFrame({'course_id': courses, 'prediction': predictions})\n",
        "\n",
        "    topk = predictions_df.nlargest(k, 'prediction')  # Get top k recommendations\n",
        "\n",
        "    return topk['course_id']\n",
        "\n",
        "\n",
        "\n",
        "    def calculate_hitrate_at_k(validation_df, top_k_list):\n",
        "     hit_rates = []\n",
        "\n",
        "     for K in top_k_list:\n",
        "        hits = 0\n",
        "        total_students = validation_df['student_id'].nunique()\n",
        "\n",
        "        for student_id in validation_df['student_id'].unique():\n",
        "\n",
        "            student_data = validation_df[validation_df['student_id'] == student_id]\n",
        "\n",
        "\n",
        "            top_k_predictions = student_data.nlargest(K, 'prediction')\n",
        "\n",
        "            if any(top_k_predictions['total'] >= student_data['total'].max()):\n",
        "                hits += 1\n",
        "\n",
        "\n",
        "        hit_rate = hits / total_students\n",
        "        hit_rates.append(hit_rate)\n",
        "\n",
        "    return hit_rates\n",
        "\n",
        "\n",
        "\n"
      ],
      "metadata": {
        "id": "dlbUIGhV4i8v"
      },
      "execution_count": 444,
      "outputs": []
    },
    {
      "cell_type": "markdown",
      "metadata": {
        "id": "48nFngnyvufz"
      },
      "source": [
        " # **EDA:**\n",
        "\n",
        "---\n",
        "\n"
      ]
    },
    {
      "cell_type": "code",
      "execution_count": 445,
      "metadata": {
        "colab": {
          "base_uri": "https://localhost:8080/",
          "height": 363
        },
        "id": "xR694WANvSaE",
        "outputId": "dafd269a-b7c1-490d-9152-d29def1bb2dd"
      },
      "outputs": [
        {
          "output_type": "execute_result",
          "data": {
            "text/plain": [
              "   student serial  Unnamed: 1  Year  term Crs Code  \\\n",
              "0           16260           2  2008     1    EC339   \n",
              "1           16260           2  2008     1    EE418   \n",
              "2           16260           2  2008     1    NE364   \n",
              "3           16260           2  2008     2    CC331   \n",
              "4           16260           2  2008     2    CC341   \n",
              "5           16260           2  2008     2    CC418   \n",
              "6           16260           2  2008     2    CC524   \n",
              "7           16260           2  2008     2    EE419   \n",
              "8           16260           2  2008     2    IM423   \n",
              "9           16260           2  2008     3    EE419   \n",
              "\n",
              "                      Course Name    7th   12th  year work  final  total Grade  \n",
              "0                  ELECTRONICS II   22.0   14.0        7.0   20.0   63.0     C  \n",
              "1       AUTOMATIC CONTROL SYSTEMS   22.0   12.0        6.0   18.0   58.0    C-  \n",
              "2             Engineering Economy   25.0    9.0        6.0   26.0   66.0    C+  \n",
              "3  DATA & COMPUTER COMMUNICATIONS    8.0  999.0      999.0  999.0  999.0     W  \n",
              "4       DIGITAL ELECTRONICSÿÿÿÿÿÿ  999.0  999.0      999.0  999.0  999.0     W  \n",
              "5               Operating Systems  777.0  777.0      777.0  777.0  777.0     W  \n",
              "6                 NEURAL NETWORKS  999.0  999.0      999.0  999.0  999.0     W  \n",
              "7      MODERN CONTROL ENGINEERING  999.0  999.0      999.0  999.0  999.0     W  \n",
              "8             OPERATIONS RESEARCH    0.0    0.0        0.0  999.0  999.0     W  \n",
              "9      MODERN CONTROL ENGINEERING   17.0    9.5        4.5   25.0   56.0    C-  "
            ],
            "text/html": [
              "\n",
              "  <div id=\"df-ebe4b09a-f2ad-4a55-90b0-b11e97bb03e0\" class=\"colab-df-container\">\n",
              "    <div>\n",
              "<style scoped>\n",
              "    .dataframe tbody tr th:only-of-type {\n",
              "        vertical-align: middle;\n",
              "    }\n",
              "\n",
              "    .dataframe tbody tr th {\n",
              "        vertical-align: top;\n",
              "    }\n",
              "\n",
              "    .dataframe thead th {\n",
              "        text-align: right;\n",
              "    }\n",
              "</style>\n",
              "<table border=\"1\" class=\"dataframe\">\n",
              "  <thead>\n",
              "    <tr style=\"text-align: right;\">\n",
              "      <th></th>\n",
              "      <th>student serial</th>\n",
              "      <th>Unnamed: 1</th>\n",
              "      <th>Year</th>\n",
              "      <th>term</th>\n",
              "      <th>Crs Code</th>\n",
              "      <th>Course Name</th>\n",
              "      <th>7th</th>\n",
              "      <th>12th</th>\n",
              "      <th>year work</th>\n",
              "      <th>final</th>\n",
              "      <th>total</th>\n",
              "      <th>Grade</th>\n",
              "    </tr>\n",
              "  </thead>\n",
              "  <tbody>\n",
              "    <tr>\n",
              "      <th>0</th>\n",
              "      <td>16260</td>\n",
              "      <td>2</td>\n",
              "      <td>2008</td>\n",
              "      <td>1</td>\n",
              "      <td>EC339</td>\n",
              "      <td>ELECTRONICS II</td>\n",
              "      <td>22.0</td>\n",
              "      <td>14.0</td>\n",
              "      <td>7.0</td>\n",
              "      <td>20.0</td>\n",
              "      <td>63.0</td>\n",
              "      <td>C</td>\n",
              "    </tr>\n",
              "    <tr>\n",
              "      <th>1</th>\n",
              "      <td>16260</td>\n",
              "      <td>2</td>\n",
              "      <td>2008</td>\n",
              "      <td>1</td>\n",
              "      <td>EE418</td>\n",
              "      <td>AUTOMATIC CONTROL SYSTEMS</td>\n",
              "      <td>22.0</td>\n",
              "      <td>12.0</td>\n",
              "      <td>6.0</td>\n",
              "      <td>18.0</td>\n",
              "      <td>58.0</td>\n",
              "      <td>C-</td>\n",
              "    </tr>\n",
              "    <tr>\n",
              "      <th>2</th>\n",
              "      <td>16260</td>\n",
              "      <td>2</td>\n",
              "      <td>2008</td>\n",
              "      <td>1</td>\n",
              "      <td>NE364</td>\n",
              "      <td>Engineering Economy</td>\n",
              "      <td>25.0</td>\n",
              "      <td>9.0</td>\n",
              "      <td>6.0</td>\n",
              "      <td>26.0</td>\n",
              "      <td>66.0</td>\n",
              "      <td>C+</td>\n",
              "    </tr>\n",
              "    <tr>\n",
              "      <th>3</th>\n",
              "      <td>16260</td>\n",
              "      <td>2</td>\n",
              "      <td>2008</td>\n",
              "      <td>2</td>\n",
              "      <td>CC331</td>\n",
              "      <td>DATA &amp; COMPUTER COMMUNICATIONS</td>\n",
              "      <td>8.0</td>\n",
              "      <td>999.0</td>\n",
              "      <td>999.0</td>\n",
              "      <td>999.0</td>\n",
              "      <td>999.0</td>\n",
              "      <td>W</td>\n",
              "    </tr>\n",
              "    <tr>\n",
              "      <th>4</th>\n",
              "      <td>16260</td>\n",
              "      <td>2</td>\n",
              "      <td>2008</td>\n",
              "      <td>2</td>\n",
              "      <td>CC341</td>\n",
              "      <td>DIGITAL ELECTRONICSÿÿÿÿÿÿ</td>\n",
              "      <td>999.0</td>\n",
              "      <td>999.0</td>\n",
              "      <td>999.0</td>\n",
              "      <td>999.0</td>\n",
              "      <td>999.0</td>\n",
              "      <td>W</td>\n",
              "    </tr>\n",
              "    <tr>\n",
              "      <th>5</th>\n",
              "      <td>16260</td>\n",
              "      <td>2</td>\n",
              "      <td>2008</td>\n",
              "      <td>2</td>\n",
              "      <td>CC418</td>\n",
              "      <td>Operating Systems</td>\n",
              "      <td>777.0</td>\n",
              "      <td>777.0</td>\n",
              "      <td>777.0</td>\n",
              "      <td>777.0</td>\n",
              "      <td>777.0</td>\n",
              "      <td>W</td>\n",
              "    </tr>\n",
              "    <tr>\n",
              "      <th>6</th>\n",
              "      <td>16260</td>\n",
              "      <td>2</td>\n",
              "      <td>2008</td>\n",
              "      <td>2</td>\n",
              "      <td>CC524</td>\n",
              "      <td>NEURAL NETWORKS</td>\n",
              "      <td>999.0</td>\n",
              "      <td>999.0</td>\n",
              "      <td>999.0</td>\n",
              "      <td>999.0</td>\n",
              "      <td>999.0</td>\n",
              "      <td>W</td>\n",
              "    </tr>\n",
              "    <tr>\n",
              "      <th>7</th>\n",
              "      <td>16260</td>\n",
              "      <td>2</td>\n",
              "      <td>2008</td>\n",
              "      <td>2</td>\n",
              "      <td>EE419</td>\n",
              "      <td>MODERN CONTROL ENGINEERING</td>\n",
              "      <td>999.0</td>\n",
              "      <td>999.0</td>\n",
              "      <td>999.0</td>\n",
              "      <td>999.0</td>\n",
              "      <td>999.0</td>\n",
              "      <td>W</td>\n",
              "    </tr>\n",
              "    <tr>\n",
              "      <th>8</th>\n",
              "      <td>16260</td>\n",
              "      <td>2</td>\n",
              "      <td>2008</td>\n",
              "      <td>2</td>\n",
              "      <td>IM423</td>\n",
              "      <td>OPERATIONS RESEARCH</td>\n",
              "      <td>0.0</td>\n",
              "      <td>0.0</td>\n",
              "      <td>0.0</td>\n",
              "      <td>999.0</td>\n",
              "      <td>999.0</td>\n",
              "      <td>W</td>\n",
              "    </tr>\n",
              "    <tr>\n",
              "      <th>9</th>\n",
              "      <td>16260</td>\n",
              "      <td>2</td>\n",
              "      <td>2008</td>\n",
              "      <td>3</td>\n",
              "      <td>EE419</td>\n",
              "      <td>MODERN CONTROL ENGINEERING</td>\n",
              "      <td>17.0</td>\n",
              "      <td>9.5</td>\n",
              "      <td>4.5</td>\n",
              "      <td>25.0</td>\n",
              "      <td>56.0</td>\n",
              "      <td>C-</td>\n",
              "    </tr>\n",
              "  </tbody>\n",
              "</table>\n",
              "</div>\n",
              "    <div class=\"colab-df-buttons\">\n",
              "\n",
              "  <div class=\"colab-df-container\">\n",
              "    <button class=\"colab-df-convert\" onclick=\"convertToInteractive('df-ebe4b09a-f2ad-4a55-90b0-b11e97bb03e0')\"\n",
              "            title=\"Convert this dataframe to an interactive table.\"\n",
              "            style=\"display:none;\">\n",
              "\n",
              "  <svg xmlns=\"http://www.w3.org/2000/svg\" height=\"24px\" viewBox=\"0 -960 960 960\">\n",
              "    <path d=\"M120-120v-720h720v720H120Zm60-500h600v-160H180v160Zm220 220h160v-160H400v160Zm0 220h160v-160H400v160ZM180-400h160v-160H180v160Zm440 0h160v-160H620v160ZM180-180h160v-160H180v160Zm440 0h160v-160H620v160Z\"/>\n",
              "  </svg>\n",
              "    </button>\n",
              "\n",
              "  <style>\n",
              "    .colab-df-container {\n",
              "      display:flex;\n",
              "      gap: 12px;\n",
              "    }\n",
              "\n",
              "    .colab-df-convert {\n",
              "      background-color: #E8F0FE;\n",
              "      border: none;\n",
              "      border-radius: 50%;\n",
              "      cursor: pointer;\n",
              "      display: none;\n",
              "      fill: #1967D2;\n",
              "      height: 32px;\n",
              "      padding: 0 0 0 0;\n",
              "      width: 32px;\n",
              "    }\n",
              "\n",
              "    .colab-df-convert:hover {\n",
              "      background-color: #E2EBFA;\n",
              "      box-shadow: 0px 1px 2px rgba(60, 64, 67, 0.3), 0px 1px 3px 1px rgba(60, 64, 67, 0.15);\n",
              "      fill: #174EA6;\n",
              "    }\n",
              "\n",
              "    .colab-df-buttons div {\n",
              "      margin-bottom: 4px;\n",
              "    }\n",
              "\n",
              "    [theme=dark] .colab-df-convert {\n",
              "      background-color: #3B4455;\n",
              "      fill: #D2E3FC;\n",
              "    }\n",
              "\n",
              "    [theme=dark] .colab-df-convert:hover {\n",
              "      background-color: #434B5C;\n",
              "      box-shadow: 0px 1px 3px 1px rgba(0, 0, 0, 0.15);\n",
              "      filter: drop-shadow(0px 1px 2px rgba(0, 0, 0, 0.3));\n",
              "      fill: #FFFFFF;\n",
              "    }\n",
              "  </style>\n",
              "\n",
              "    <script>\n",
              "      const buttonEl =\n",
              "        document.querySelector('#df-ebe4b09a-f2ad-4a55-90b0-b11e97bb03e0 button.colab-df-convert');\n",
              "      buttonEl.style.display =\n",
              "        google.colab.kernel.accessAllowed ? 'block' : 'none';\n",
              "\n",
              "      async function convertToInteractive(key) {\n",
              "        const element = document.querySelector('#df-ebe4b09a-f2ad-4a55-90b0-b11e97bb03e0');\n",
              "        const dataTable =\n",
              "          await google.colab.kernel.invokeFunction('convertToInteractive',\n",
              "                                                    [key], {});\n",
              "        if (!dataTable) return;\n",
              "\n",
              "        const docLinkHtml = 'Like what you see? Visit the ' +\n",
              "          '<a target=\"_blank\" href=https://colab.research.google.com/notebooks/data_table.ipynb>data table notebook</a>'\n",
              "          + ' to learn more about interactive tables.';\n",
              "        element.innerHTML = '';\n",
              "        dataTable['output_type'] = 'display_data';\n",
              "        await google.colab.output.renderOutput(dataTable, element);\n",
              "        const docLink = document.createElement('div');\n",
              "        docLink.innerHTML = docLinkHtml;\n",
              "        element.appendChild(docLink);\n",
              "      }\n",
              "    </script>\n",
              "  </div>\n",
              "\n",
              "\n",
              "<div id=\"df-5d8cd60b-d1df-495a-bd76-25ef934beaeb\">\n",
              "  <button class=\"colab-df-quickchart\" onclick=\"quickchart('df-5d8cd60b-d1df-495a-bd76-25ef934beaeb')\"\n",
              "            title=\"Suggest charts\"\n",
              "            style=\"display:none;\">\n",
              "\n",
              "<svg xmlns=\"http://www.w3.org/2000/svg\" height=\"24px\"viewBox=\"0 0 24 24\"\n",
              "     width=\"24px\">\n",
              "    <g>\n",
              "        <path d=\"M19 3H5c-1.1 0-2 .9-2 2v14c0 1.1.9 2 2 2h14c1.1 0 2-.9 2-2V5c0-1.1-.9-2-2-2zM9 17H7v-7h2v7zm4 0h-2V7h2v10zm4 0h-2v-4h2v4z\"/>\n",
              "    </g>\n",
              "</svg>\n",
              "  </button>\n",
              "\n",
              "<style>\n",
              "  .colab-df-quickchart {\n",
              "      --bg-color: #E8F0FE;\n",
              "      --fill-color: #1967D2;\n",
              "      --hover-bg-color: #E2EBFA;\n",
              "      --hover-fill-color: #174EA6;\n",
              "      --disabled-fill-color: #AAA;\n",
              "      --disabled-bg-color: #DDD;\n",
              "  }\n",
              "\n",
              "  [theme=dark] .colab-df-quickchart {\n",
              "      --bg-color: #3B4455;\n",
              "      --fill-color: #D2E3FC;\n",
              "      --hover-bg-color: #434B5C;\n",
              "      --hover-fill-color: #FFFFFF;\n",
              "      --disabled-bg-color: #3B4455;\n",
              "      --disabled-fill-color: #666;\n",
              "  }\n",
              "\n",
              "  .colab-df-quickchart {\n",
              "    background-color: var(--bg-color);\n",
              "    border: none;\n",
              "    border-radius: 50%;\n",
              "    cursor: pointer;\n",
              "    display: none;\n",
              "    fill: var(--fill-color);\n",
              "    height: 32px;\n",
              "    padding: 0;\n",
              "    width: 32px;\n",
              "  }\n",
              "\n",
              "  .colab-df-quickchart:hover {\n",
              "    background-color: var(--hover-bg-color);\n",
              "    box-shadow: 0 1px 2px rgba(60, 64, 67, 0.3), 0 1px 3px 1px rgba(60, 64, 67, 0.15);\n",
              "    fill: var(--button-hover-fill-color);\n",
              "  }\n",
              "\n",
              "  .colab-df-quickchart-complete:disabled,\n",
              "  .colab-df-quickchart-complete:disabled:hover {\n",
              "    background-color: var(--disabled-bg-color);\n",
              "    fill: var(--disabled-fill-color);\n",
              "    box-shadow: none;\n",
              "  }\n",
              "\n",
              "  .colab-df-spinner {\n",
              "    border: 2px solid var(--fill-color);\n",
              "    border-color: transparent;\n",
              "    border-bottom-color: var(--fill-color);\n",
              "    animation:\n",
              "      spin 1s steps(1) infinite;\n",
              "  }\n",
              "\n",
              "  @keyframes spin {\n",
              "    0% {\n",
              "      border-color: transparent;\n",
              "      border-bottom-color: var(--fill-color);\n",
              "      border-left-color: var(--fill-color);\n",
              "    }\n",
              "    20% {\n",
              "      border-color: transparent;\n",
              "      border-left-color: var(--fill-color);\n",
              "      border-top-color: var(--fill-color);\n",
              "    }\n",
              "    30% {\n",
              "      border-color: transparent;\n",
              "      border-left-color: var(--fill-color);\n",
              "      border-top-color: var(--fill-color);\n",
              "      border-right-color: var(--fill-color);\n",
              "    }\n",
              "    40% {\n",
              "      border-color: transparent;\n",
              "      border-right-color: var(--fill-color);\n",
              "      border-top-color: var(--fill-color);\n",
              "    }\n",
              "    60% {\n",
              "      border-color: transparent;\n",
              "      border-right-color: var(--fill-color);\n",
              "    }\n",
              "    80% {\n",
              "      border-color: transparent;\n",
              "      border-right-color: var(--fill-color);\n",
              "      border-bottom-color: var(--fill-color);\n",
              "    }\n",
              "    90% {\n",
              "      border-color: transparent;\n",
              "      border-bottom-color: var(--fill-color);\n",
              "    }\n",
              "  }\n",
              "</style>\n",
              "\n",
              "  <script>\n",
              "    async function quickchart(key) {\n",
              "      const quickchartButtonEl =\n",
              "        document.querySelector('#' + key + ' button');\n",
              "      quickchartButtonEl.disabled = true;  // To prevent multiple clicks.\n",
              "      quickchartButtonEl.classList.add('colab-df-spinner');\n",
              "      try {\n",
              "        const charts = await google.colab.kernel.invokeFunction(\n",
              "            'suggestCharts', [key], {});\n",
              "      } catch (error) {\n",
              "        console.error('Error during call to suggestCharts:', error);\n",
              "      }\n",
              "      quickchartButtonEl.classList.remove('colab-df-spinner');\n",
              "      quickchartButtonEl.classList.add('colab-df-quickchart-complete');\n",
              "    }\n",
              "    (() => {\n",
              "      let quickchartButtonEl =\n",
              "        document.querySelector('#df-5d8cd60b-d1df-495a-bd76-25ef934beaeb button');\n",
              "      quickchartButtonEl.style.display =\n",
              "        google.colab.kernel.accessAllowed ? 'block' : 'none';\n",
              "    })();\n",
              "  </script>\n",
              "</div>\n",
              "\n",
              "    </div>\n",
              "  </div>\n"
            ],
            "application/vnd.google.colaboratory.intrinsic+json": {
              "type": "dataframe",
              "variable_name": "dataset",
              "summary": "{\n  \"name\": \"dataset\",\n  \"rows\": 86874,\n  \"fields\": [\n    {\n      \"column\": \"student serial\",\n      \"properties\": {\n        \"dtype\": \"number\",\n        \"std\": 9506,\n        \"min\": 40,\n        \"max\": 32733,\n        \"num_unique_values\": 1518,\n        \"samples\": [\n          13193,\n          31595,\n          6620\n        ],\n        \"semantic_type\": \"\",\n        \"description\": \"\"\n      }\n    },\n    {\n      \"column\": \"Unnamed: 1\",\n      \"properties\": {\n        \"dtype\": \"number\",\n        \"std\": 0,\n        \"min\": 1,\n        \"max\": 2,\n        \"num_unique_values\": 2,\n        \"samples\": [\n          1,\n          2\n        ],\n        \"semantic_type\": \"\",\n        \"description\": \"\"\n      }\n    },\n    {\n      \"column\": \"Year\",\n      \"properties\": {\n        \"dtype\": \"number\",\n        \"std\": 6,\n        \"min\": 1970,\n        \"max\": 2023,\n        \"num_unique_values\": 23,\n        \"samples\": [\n          2017,\n          2005\n        ],\n        \"semantic_type\": \"\",\n        \"description\": \"\"\n      }\n    },\n    {\n      \"column\": \"term\",\n      \"properties\": {\n        \"dtype\": \"number\",\n        \"std\": 0,\n        \"min\": 1,\n        \"max\": 3,\n        \"num_unique_values\": 3,\n        \"samples\": [\n          1,\n          2\n        ],\n        \"semantic_type\": \"\",\n        \"description\": \"\"\n      }\n    },\n    {\n      \"column\": \"Crs Code\",\n      \"properties\": {\n        \"dtype\": \"category\",\n        \"num_unique_values\": 128,\n        \"samples\": [\n          \"EC320\",\n          \"ME151\"\n        ],\n        \"semantic_type\": \"\",\n        \"description\": \"\"\n      }\n    },\n    {\n      \"column\": \"Course Name\",\n      \"properties\": {\n        \"dtype\": \"category\",\n        \"num_unique_values\": 126,\n        \"samples\": [\n          \"COMPUTER DESIGN & PERFORMANCE EVAL.\",\n          \"SENIOR PROJECT II\"\n        ],\n        \"semantic_type\": \"\",\n        \"description\": \"\"\n      }\n    },\n    {\n      \"column\": \"7th\",\n      \"properties\": {\n        \"dtype\": \"number\",\n        \"std\": 138.59043090130632,\n        \"min\": 0.0,\n        \"max\": 999.0,\n        \"num_unique_values\": 102,\n        \"samples\": [\n          15.5,\n          23.75\n        ],\n        \"semantic_type\": \"\",\n        \"description\": \"\"\n      }\n    },\n    {\n      \"column\": \"12th\",\n      \"properties\": {\n        \"dtype\": \"number\",\n        \"std\": 155.95581555855696,\n        \"min\": 0.0,\n        \"max\": 999.0,\n        \"num_unique_values\": 79,\n        \"samples\": [\n          7.75,\n          14.0\n        ],\n        \"semantic_type\": \"\",\n        \"description\": \"\"\n      }\n    },\n    {\n      \"column\": \"year work\",\n      \"properties\": {\n        \"dtype\": \"number\",\n        \"std\": 177.663579708363,\n        \"min\": 0.0,\n        \"max\": 999.0,\n        \"num_unique_values\": 54,\n        \"samples\": [\n          6.5,\n          8.89\n        ],\n        \"semantic_type\": \"\",\n        \"description\": \"\"\n      }\n    },\n    {\n      \"column\": \"final\",\n      \"properties\": {\n        \"dtype\": \"number\",\n        \"std\": 198.414153551623,\n        \"min\": -1.0,\n        \"max\": 999.0,\n        \"num_unique_values\": 107,\n        \"samples\": [\n          39.5,\n          32.5\n        ],\n        \"semantic_type\": \"\",\n        \"description\": \"\"\n      }\n    },\n    {\n      \"column\": \"total\",\n      \"properties\": {\n        \"dtype\": \"number\",\n        \"std\": 187.68587487743673,\n        \"min\": 0.0,\n        \"max\": 999.0,\n        \"num_unique_values\": 223,\n        \"samples\": [\n          76.0,\n          23.0\n        ],\n        \"semantic_type\": \"\",\n        \"description\": \"\"\n      }\n    },\n    {\n      \"column\": \"Grade\",\n      \"properties\": {\n        \"dtype\": \"category\",\n        \"num_unique_values\": 17,\n        \"samples\": [\n          \"C\",\n          \"C-\"\n        ],\n        \"semantic_type\": \"\",\n        \"description\": \"\"\n      }\n    }\n  ]\n}"
            }
          },
          "metadata": {},
          "execution_count": 445
        }
      ],
      "source": [
        "dataset.head(10)\n"
      ]
    },
    {
      "cell_type": "code",
      "execution_count": 446,
      "metadata": {
        "colab": {
          "base_uri": "https://localhost:8080/"
        },
        "id": "oT9rtBu0vuf0",
        "outputId": "590e5d2c-7d89-4ea2-a8f7-7d4611daaec7"
      },
      "outputs": [
        {
          "output_type": "stream",
          "name": "stdout",
          "text": [
            "total number of rows: 86874 number of coulmns: 12 \n",
            "\n",
            "===========Stats===========\n",
            "\n",
            "<class 'pandas.core.frame.DataFrame'>\n",
            "RangeIndex: 86874 entries, 0 to 86873\n",
            "Data columns (total 12 columns):\n",
            " #   Column          Non-Null Count  Dtype  \n",
            "---  ------          --------------  -----  \n",
            " 0   student serial  86874 non-null  int64  \n",
            " 1   Unnamed: 1      86874 non-null  int64  \n",
            " 2   Year            86874 non-null  int64  \n",
            " 3   term            86874 non-null  int64  \n",
            " 4   Crs Code        86874 non-null  object \n",
            " 5   Course Name     86874 non-null  object \n",
            " 6   7th             86874 non-null  float64\n",
            " 7   12th            86874 non-null  float64\n",
            " 8   year work       86874 non-null  float64\n",
            " 9   final           86874 non-null  float64\n",
            " 10  total           86874 non-null  float64\n",
            " 11  Grade           86874 non-null  object \n",
            "dtypes: float64(5), int64(4), object(3)\n",
            "memory usage: 8.0+ MB\n",
            "None \n",
            "\n",
            "total number of students 1518\n",
            "number of courses 126\n",
            "============================\n",
            "\n"
          ]
        }
      ],
      "source": [
        "\n",
        "(records,number_of_columns)=dataset.shape\n",
        "print(\"total number of rows:\",records,\"number of coulmns:\",number_of_columns,\"\\n\")\n",
        "print(\"===========Stats===========\\n\")\n",
        "print(dataset.info(),'\\n')\n",
        "\n",
        "\n",
        "print(\"total number of students\",len(dataset['student serial'].unique()))\n",
        "\n",
        "print(\"number of courses\",len(dataset['Course Name'].unique()))\n",
        "#print(\"grades values\",dataset['Grade'].unique())\n",
        "print(\"============================\\n\")\n",
        "\n"
      ]
    },
    {
      "cell_type": "markdown",
      "source": [
        " ## **Checking For Nulls**"
      ],
      "metadata": {
        "id": "lWJcg3di9csJ"
      }
    },
    {
      "cell_type": "code",
      "execution_count": 447,
      "metadata": {
        "colab": {
          "base_uri": "https://localhost:8080/",
          "height": 460
        },
        "id": "uxwtHkpOvuf1",
        "outputId": "fb8857b4-8278-42a4-de20-5bd49eb92d7f"
      },
      "outputs": [
        {
          "output_type": "execute_result",
          "data": {
            "text/plain": [
              "student serial      0\n",
              "Unnamed: 1          0\n",
              "Year                0\n",
              "term                0\n",
              "Crs Code            0\n",
              "Course Name         0\n",
              "7th               0.0\n",
              "12th              0.0\n",
              "year work         0.0\n",
              "final             0.0\n",
              "total             0.0\n",
              "Grade               0\n",
              "dtype: object"
            ],
            "text/html": [
              "<div>\n",
              "<style scoped>\n",
              "    .dataframe tbody tr th:only-of-type {\n",
              "        vertical-align: middle;\n",
              "    }\n",
              "\n",
              "    .dataframe tbody tr th {\n",
              "        vertical-align: top;\n",
              "    }\n",
              "\n",
              "    .dataframe thead th {\n",
              "        text-align: right;\n",
              "    }\n",
              "</style>\n",
              "<table border=\"1\" class=\"dataframe\">\n",
              "  <thead>\n",
              "    <tr style=\"text-align: right;\">\n",
              "      <th></th>\n",
              "      <th>0</th>\n",
              "    </tr>\n",
              "  </thead>\n",
              "  <tbody>\n",
              "    <tr>\n",
              "      <th>student serial</th>\n",
              "      <td>0</td>\n",
              "    </tr>\n",
              "    <tr>\n",
              "      <th>Unnamed: 1</th>\n",
              "      <td>0</td>\n",
              "    </tr>\n",
              "    <tr>\n",
              "      <th>Year</th>\n",
              "      <td>0</td>\n",
              "    </tr>\n",
              "    <tr>\n",
              "      <th>term</th>\n",
              "      <td>0</td>\n",
              "    </tr>\n",
              "    <tr>\n",
              "      <th>Crs Code</th>\n",
              "      <td>0</td>\n",
              "    </tr>\n",
              "    <tr>\n",
              "      <th>Course Name</th>\n",
              "      <td>0</td>\n",
              "    </tr>\n",
              "    <tr>\n",
              "      <th>7th</th>\n",
              "      <td>0.0</td>\n",
              "    </tr>\n",
              "    <tr>\n",
              "      <th>12th</th>\n",
              "      <td>0.0</td>\n",
              "    </tr>\n",
              "    <tr>\n",
              "      <th>year work</th>\n",
              "      <td>0.0</td>\n",
              "    </tr>\n",
              "    <tr>\n",
              "      <th>final</th>\n",
              "      <td>0.0</td>\n",
              "    </tr>\n",
              "    <tr>\n",
              "      <th>total</th>\n",
              "      <td>0.0</td>\n",
              "    </tr>\n",
              "    <tr>\n",
              "      <th>Grade</th>\n",
              "      <td>0</td>\n",
              "    </tr>\n",
              "  </tbody>\n",
              "</table>\n",
              "</div><br><label><b>dtype:</b> object</label>"
            ]
          },
          "metadata": {},
          "execution_count": 447
        }
      ],
      "source": [
        "duplicate_rows = dataset[dataset.duplicated()]\n",
        "duplicate_rows.sum()"
      ]
    },
    {
      "cell_type": "markdown",
      "source": [
        "## **Exploring Course Coulmn**"
      ],
      "metadata": {
        "id": "8KeEpsLcJTGS"
      }
    },
    {
      "cell_type": "code",
      "execution_count": 448,
      "metadata": {
        "colab": {
          "base_uri": "https://localhost:8080/"
        },
        "id": "4xGUmO94yu_Z",
        "outputId": "32cfd3ef-4f0b-4aa0-f099-d9cece4b3f97"
      },
      "outputs": [
        {
          "output_type": "stream",
          "name": "stdout",
          "text": [
            "ELECTRONICS II\n",
            "AUTOMATIC CONTROL SYSTEMS\n",
            "Engineering Economy\n",
            "DATA & COMPUTER COMMUNICATIONS\n",
            "DIGITAL ELECTRONICSÿÿÿÿÿÿ\n",
            "Operating Systems\n",
            "NEURAL NETWORKS\n",
            "MODERN CONTROL ENGINEERING\n",
            "OPERATIONS RESEARCH\n",
            "DATA ACQUISITION SYSTEMS\n",
            "COMPUTER GRAPHICS\n",
            "INTRO.TO SOFTWARE ENG\n",
            "DATA SECURITY\n",
            "Computing Algorithms\n",
            "INTERNATIONAL OPERATIONS MANAGEMENT\n",
            "ENVIRONMENTAL SCIENCE & TECH.\n",
            "SENIOR PROJECT I\n",
            "Computing Systems\n",
            "COMPUTER NETWORKS\n",
            "SENIOR PROJECT II\n",
            "Introduction To Artificial Intelligence\n",
            "ADVANCED NETWORKS\n",
            "PRACTICAL TRAINING\n",
            "MICROPROCESSORS SYSTEMS\n",
            "TECHNICAL REPORT WRITING\n",
            "Systems Programming\n",
            "Image Processing and Pattern Recognition\n",
            "PHYSICS I\n",
            "CHEMISTRY\n",
            "MATHEMATICS I\n",
            "ENGINEERING MECHANICS I\n",
            "INTRO.TO COMPUTER\n",
            "INDUSTRIAL RELATIONS\n",
            "ESP I\n",
            "PHYSICS II\n",
            "MATHEMATICS II\n",
            "ENGINEERING MECHANICS II\n",
            "STRUCTURED PROGRAMMING\n",
            "MANUFACTURING TECHNOLOGY\n",
            "ESP II\n",
            "ENGINEERING DRAWING & PROJECTION\n",
            "MATHEMATICS III\n",
            "PROGRAMMING APPLICATIONS\n",
            "SOLID STATE ELECTRONICS\n",
            "ELECTRICAL CIRCUITS I\n",
            "AESTHETIC EDU.&ART APPRECIATION\n",
            "MATHEMATICS IV\n",
            "Data Structure\n",
            "DIGITAL LOGIC DESIGNÿÿÿÿÿ\n",
            "MEASUREMENTS & INSTRUMENT\n",
            "Electronics I\n",
            "ELECTRICAL CIRCUITS II\n",
            "MATHEMATICS V\n",
            "DIGITAL SYSTEMS DESIGN\n",
            "ADVANCED PROGRAMMINGÿÿÿÿÿ\n",
            "COMMUNICATION THEORY\n",
            "ELECTRICAL POWER&MACHINES\n",
            "MATHEMATICS VI\n",
            "Discrete Mathematics\n",
            "Computer Architecture\n",
            "Object-Oriented Programming\n",
            "Numerical Analysis\n",
            "Database Systems\n",
            "Intro.To Communi.Systems\n",
            "Modelling & Simulation\n",
            "MICROCOMPUTER BASED DESIGN\n",
            "Scientific Thinking\n",
            "COMPUTER-AIDED DESIGN\n",
            "ASSEMBLY LANGUAGEÿÿÿÿÿÿÿÿ\n",
            "DISTRIBUTED & PARALLEL SYSTEMS\n",
            "INTELLIGENT ROBOTICS\n",
            "Practical Training\n",
            "DISCRETE MATHEMATICS\n",
            "COMPUTER DESIGN & PERFORMANCE EVAL.\n",
            "SELECTED TOPICS IN COMPUTING\n",
            "Solid State Electronics\n",
            "COMPUTER FORENSICS\n",
            "Web Engineering\n",
            "Cloud Computing\n",
            "Mobile Applications\n",
            "INTERNETWORK SECURITY\n",
            "COMPUTER ORGANIZATION\n",
            "COMPUTER NETWORKS II\n",
            "LEADERSHIP I\n",
            "MARINE SAFETY\n",
            "PHYSICAL EDUCATION I\n",
            "MECHANICAL ENG.DRAWING\n",
            "Mathematics 0\n",
            "ESP 02\n",
            "SELECTED TOPICS IN NETWORKS\n",
            "Introduction to Data Mining\n",
            "COMPUTER SYSTEMS ENGINEERING\n",
            "MANUFACTURING PROCESSES\n",
            "MATERIAL SCIENCE\n",
            "INTERNETWORK PROGRAMMING\n",
            "Numerical Methods\n",
            "COMPUTER SYSTEMS PERFORMANCE ANALYSIS\n",
            "Introduction to Big Data Management\n",
            "Embeded Systems Desin\n",
            "THERMOFLUIDS\n",
            "Statistics & Numerical Methods\n",
            "ELEC.MEASUR.& INSTROM. II\n",
            "ELECTRICAL MACHINES I\n",
            "INTR.TO POWER ENGINEERING\n",
            "MEASUREMENTS & INSTRUMENTATION\n",
            "INTRODUCTION TO PROGRAMMING\n",
            "ELECTRIC &MAGNETIC FIELDS I\n",
            "Cyber Security\n",
            "Applied Programming\n",
            "Multimedia&Virtual Reality Systems\n",
            "THERMODYNAMICS I\n",
            "CONSTRUCTION ENG. DRAWINGS\n",
            "STRUCTURAL ANALYSIS 1\n",
            "TESTING OF MATERIALS\n",
            "CONSTRUCTION SURVEYING 1\n",
            "ELECTRICAL ENG.FUNDAMENT\n",
            "Creative Awareness\n",
            "VISUAL STUDIES 2 (THEORY OF COLORS)\n",
            "HISTORY & THEORY OF ARCHITCTURE 1\n",
            "ELECTRICAL MEAS.&INSTRUMENTATION I\n",
            "VISUAL STUDIES 1\n",
            "HISTORY OF ARCHITCTURE & TECHNOLOGY\n",
            "MANAGEMENT OF ENERGY RESOURCES\n",
            "ELECTRONIC DEVICES I\n",
            "ELECTRONIC DEVICES II\n",
            "ANALOG & DIGITAL CIRCUIT ANALYSIS\n"
          ]
        }
      ],
      "source": [
        "courses_name=dataset['Course Name'].unique()\n",
        "for course_name in courses_name:#print each course in seperate line....\n",
        "  print(course_name)"
      ]
    },
    {
      "cell_type": "markdown",
      "source": [
        "## **Considering Elective courses Only**"
      ],
      "metadata": {
        "id": "PiiCxxnBNRjl"
      }
    },
    {
      "cell_type": "code",
      "execution_count": 449,
      "metadata": {
        "id": "907AWg6tvuf4"
      },
      "outputs": [],
      "source": [
        "#selecting all the 23 elective courses only\n",
        "elective_courses = [\n",
        "    'Computing Algorithms',\n",
        "    'DATA SECURITY',\n",
        "    'INTRO.TO SOFTWARE ENG',\n",
        "    'NEURAL NETWORKS',\n",
        "    'Image Processing and Pattern Recognition',\n",
        "    'INTELLIGENT ROBOTICS',\n",
        "    'ASSEMBLY LANGUAGEÿÿÿÿÿÿÿÿ',\n",
        "    'DISTRIBUTED & PARALLEL SYSTEMS',\n",
        "    'COMPUTER DESIGN & PERFORMANCE EVAL.',\n",
        "    'Cloud Computing',\n",
        "    'Mobile Applications',\n",
        "    'INTERNETWORK SECURITY',\n",
        "    'Web Engineering',\n",
        "    'Introduction to Data Mining',\n",
        "    'INTERNETWORK PROGRAMMING',\n",
        "    'COMPUTER SYSTEMS PERFORMANCE ANALYSIS',\n",
        "    'Introduction to Big Data Management',\n",
        "    'Embeded Systems Desin',\n",
        "    'Cyber Security',\n",
        "    'Multimedia&Virtual Reality Systems',\n",
        "    'Modelling & Simulation',\n",
        "    'MICROCOMPUTER BASED DESIGN',\n",
        "    'COMPUTER SYSTEMS ENGINEERING'\n",
        "]\n",
        "dataset=dataset[dataset['Course Name'].isin(elective_courses)]\n"
      ]
    },
    {
      "cell_type": "code",
      "source": [
        "print(\" num of rows:\",dataset.shape[0],\"num of columns:\",dataset.shape[1])"
      ],
      "metadata": {
        "colab": {
          "base_uri": "https://localhost:8080/"
        },
        "id": "ymzPq3llgP_k",
        "outputId": "75a71bac-7705-49fc-ee51-9358fe73f80e"
      },
      "execution_count": 450,
      "outputs": [
        {
          "output_type": "stream",
          "name": "stdout",
          "text": [
            " num of rows: 5969 num of columns: 12\n"
          ]
        }
      ]
    },
    {
      "cell_type": "markdown",
      "source": [
        "## **Courses count distribution**"
      ],
      "metadata": {
        "id": "LRayL8V8hsr4"
      }
    },
    {
      "cell_type": "code",
      "source": [
        "courses_count=dataset['Course Name'].value_counts()\n",
        "for course in courses_count.index:\n",
        "  print(course,':',courses_count[course])"
      ],
      "metadata": {
        "colab": {
          "base_uri": "https://localhost:8080/"
        },
        "id": "r7OS8RWIgxBw",
        "outputId": "93115c10-eca2-406b-cdb1-283c2e8ae4d2"
      },
      "execution_count": 451,
      "outputs": [
        {
          "output_type": "stream",
          "name": "stdout",
          "text": [
            "DATA SECURITY : 896\n",
            "NEURAL NETWORKS : 697\n",
            "Computing Algorithms : 686\n",
            "Image Processing and Pattern Recognition : 624\n",
            "INTRO.TO SOFTWARE ENG : 598\n",
            "Web Engineering : 565\n",
            "DISTRIBUTED & PARALLEL SYSTEMS : 213\n",
            "Mobile Applications : 211\n",
            "Introduction to Big Data Management : 199\n",
            "Introduction to Data Mining : 153\n",
            "Cloud Computing : 138\n",
            "INTELLIGENT ROBOTICS : 137\n",
            "ASSEMBLY LANGUAGEÿÿÿÿÿÿÿÿ : 124\n",
            "MICROCOMPUTER BASED DESIGN : 121\n",
            "COMPUTER DESIGN & PERFORMANCE EVAL. : 121\n",
            "Multimedia&Virtual Reality Systems : 111\n",
            "Modelling & Simulation : 83\n",
            "Cyber Security : 74\n",
            "Embeded Systems Desin : 70\n",
            "INTERNETWORK SECURITY : 47\n",
            "INTERNETWORK PROGRAMMING : 45\n",
            "COMPUTER SYSTEMS PERFORMANCE ANALYSIS : 35\n",
            "COMPUTER SYSTEMS ENGINEERING : 21\n"
          ]
        }
      ]
    },
    {
      "cell_type": "code",
      "source": [
        "plt.figure(figsize=(20,10))\n",
        "sns.barplot(x=courses_count.index, y=courses_count.values, palette=\"viridis\")\n",
        "\n",
        "\n",
        "plt.title(\"Grade Distribution\", fontsize=16)\n",
        "plt.xlabel(\"Grade\", fontsize=14)\n",
        "plt.ylabel(\"Count\", fontsize=14)\n",
        "plt.xticks(rotation=90, fontsize=12)\n",
        "\n",
        "plt.show()"
      ],
      "metadata": {
        "colab": {
          "base_uri": "https://localhost:8080/",
          "height": 1000
        },
        "id": "DCOOlTsthzEJ",
        "outputId": "52162f53-4c01-4a16-a8e5-264712d0a7bc"
      },
      "execution_count": 452,
      "outputs": [
        {
          "output_type": "stream",
          "name": "stderr",
          "text": [
            "<ipython-input-452-2b48cf568844>:2: FutureWarning: \n",
            "\n",
            "Passing `palette` without assigning `hue` is deprecated and will be removed in v0.14.0. Assign the `x` variable to `hue` and set `legend=False` for the same effect.\n",
            "\n",
            "  sns.barplot(x=courses_count.index, y=courses_count.values, palette=\"viridis\")\n"
          ]
        },
        {
          "output_type": "display_data",
          "data": {
            "text/plain": [
              "<Figure size 2000x1000 with 1 Axes>"
            ],
            "image/png": "[encoded data removed]"
          },
          "metadata": {}
        }
      ]
    },
    {
      "cell_type": "markdown",
      "source": [
        "## **grades distribution**\n"
      ],
      "metadata": {
        "id": "BqKmVA-693DY"
      }
    },
    {
      "cell_type": "code",
      "execution_count": 453,
      "metadata": {
        "colab": {
          "base_uri": "https://localhost:8080/",
          "height": 617
        },
        "id": "f1qKyuPlvuf1",
        "outputId": "33a250ac-9a0e-450a-9f4c-d0c620765eba"
      },
      "outputs": [
        {
          "output_type": "execute_result",
          "data": {
            "text/plain": [
              "Grade\n",
              "A+    937\n",
              "A-    779\n",
              "B+    769\n",
              "A     748\n",
              "B     615\n",
              "B-    552\n",
              "C+    411\n",
              "C     335\n",
              "D     262\n",
              "C-    223\n",
              "W     137\n",
              "F      79\n",
              "P      61\n",
              "D+     42\n",
              "Tr     18\n",
              "U       1\n",
              "Name: count, dtype: int64"
            ],
            "text/html": [
              "<div>\n",
              "<style scoped>\n",
              "    .dataframe tbody tr th:only-of-type {\n",
              "        vertical-align: middle;\n",
              "    }\n",
              "\n",
              "    .dataframe tbody tr th {\n",
              "        vertical-align: top;\n",
              "    }\n",
              "\n",
              "    .dataframe thead th {\n",
              "        text-align: right;\n",
              "    }\n",
              "</style>\n",
              "<table border=\"1\" class=\"dataframe\">\n",
              "  <thead>\n",
              "    <tr style=\"text-align: right;\">\n",
              "      <th></th>\n",
              "      <th>count</th>\n",
              "    </tr>\n",
              "    <tr>\n",
              "      <th>Grade</th>\n",
              "      <th></th>\n",
              "    </tr>\n",
              "  </thead>\n",
              "  <tbody>\n",
              "    <tr>\n",
              "      <th>A+</th>\n",
              "      <td>937</td>\n",
              "    </tr>\n",
              "    <tr>\n",
              "      <th>A-</th>\n",
              "      <td>779</td>\n",
              "    </tr>\n",
              "    <tr>\n",
              "      <th>B+</th>\n",
              "      <td>769</td>\n",
              "    </tr>\n",
              "    <tr>\n",
              "      <th>A</th>\n",
              "      <td>748</td>\n",
              "    </tr>\n",
              "    <tr>\n",
              "      <th>B</th>\n",
              "      <td>615</td>\n",
              "    </tr>\n",
              "    <tr>\n",
              "      <th>B-</th>\n",
              "      <td>552</td>\n",
              "    </tr>\n",
              "    <tr>\n",
              "      <th>C+</th>\n",
              "      <td>411</td>\n",
              "    </tr>\n",
              "    <tr>\n",
              "      <th>C</th>\n",
              "      <td>335</td>\n",
              "    </tr>\n",
              "    <tr>\n",
              "      <th>D</th>\n",
              "      <td>262</td>\n",
              "    </tr>\n",
              "    <tr>\n",
              "      <th>C-</th>\n",
              "      <td>223</td>\n",
              "    </tr>\n",
              "    <tr>\n",
              "      <th>W</th>\n",
              "      <td>137</td>\n",
              "    </tr>\n",
              "    <tr>\n",
              "      <th>F</th>\n",
              "      <td>79</td>\n",
              "    </tr>\n",
              "    <tr>\n",
              "      <th>P</th>\n",
              "      <td>61</td>\n",
              "    </tr>\n",
              "    <tr>\n",
              "      <th>D+</th>\n",
              "      <td>42</td>\n",
              "    </tr>\n",
              "    <tr>\n",
              "      <th>Tr</th>\n",
              "      <td>18</td>\n",
              "    </tr>\n",
              "    <tr>\n",
              "      <th>U</th>\n",
              "      <td>1</td>\n",
              "    </tr>\n",
              "  </tbody>\n",
              "</table>\n",
              "</div><br><label><b>dtype:</b> int64</label>"
            ]
          },
          "metadata": {},
          "execution_count": 453
        }
      ],
      "source": [
        "grades_count=dataset['Grade'].value_counts()\n",
        "grades_count"
      ]
    },
    {
      "cell_type": "code",
      "source": [
        "plt.figure(figsize=(20,10))\n",
        "sns.barplot(x=grades_count.index, y=grades_count.values, palette=\"viridis\")\n",
        "\n",
        "\n",
        "plt.title(\"Grade Distribution\", fontsize=16)\n",
        "plt.xlabel(\"Grade\", fontsize=14)\n",
        "plt.ylabel(\"Count\", fontsize=14)\n",
        "\n",
        "plt.show()"
      ],
      "metadata": {
        "colab": {
          "base_uri": "https://localhost:8080/",
          "height": 782
        },
        "id": "KK94DHhNDysD",
        "outputId": "a7b84919-f181-4746-8dfe-958a1c7c3aa8"
      },
      "execution_count": 454,
      "outputs": [
        {
          "output_type": "stream",
          "name": "stderr",
          "text": [
            "<ipython-input-454-f447c1054669>:2: FutureWarning: \n",
            "\n",
            "Passing `palette` without assigning `hue` is deprecated and will be removed in v0.14.0. Assign the `x` variable to `hue` and set `legend=False` for the same effect.\n",
            "\n",
            "  sns.barplot(x=grades_count.index, y=grades_count.values, palette=\"viridis\")\n"
          ]
        },
        {
          "output_type": "display_data",
          "data": {
            "text/plain": [
              "<Figure size 2000x1000 with 1 Axes>"
            ],
            "image/png": "[encoded data removed]"
          },
          "metadata": {}
        }
      ]
    },
    {
      "cell_type": "markdown",
      "source": [
        "**Show Grades perecentages**"
      ],
      "metadata": {
        "id": "b237FP46jaFZ"
      }
    },
    {
      "cell_type": "code",
      "source": [
        "grades_count_percentage=(grades_count/(dataset.shape[0]))*100\n",
        "grades_count_percentage"
      ],
      "metadata": {
        "colab": {
          "base_uri": "https://localhost:8080/",
          "height": 617
        },
        "id": "TXi3y-GKEXe7",
        "outputId": "5093be35-700d-4f71-f9e6-fe4230cd2991"
      },
      "execution_count": 455,
      "outputs": [
        {
          "output_type": "execute_result",
          "data": {
            "text/plain": [
              "Grade\n",
              "A+    15.697772\n",
              "A-    13.050762\n",
              "B+    12.883230\n",
              "A     12.531412\n",
              "B     10.303233\n",
              "B-     9.247780\n",
              "C+     6.885575\n",
              "C      5.612330\n",
              "D      4.389345\n",
              "C-     3.735969\n",
              "W      2.295192\n",
              "F      1.323505\n",
              "P      1.021947\n",
              "D+     0.703635\n",
              "Tr     0.301558\n",
              "U      0.016753\n",
              "Name: count, dtype: float64"
            ],
            "text/html": [
              "<div>\n",
              "<style scoped>\n",
              "    .dataframe tbody tr th:only-of-type {\n",
              "        vertical-align: middle;\n",
              "    }\n",
              "\n",
              "    .dataframe tbody tr th {\n",
              "        vertical-align: top;\n",
              "    }\n",
              "\n",
              "    .dataframe thead th {\n",
              "        text-align: right;\n",
              "    }\n",
              "</style>\n",
              "<table border=\"1\" class=\"dataframe\">\n",
              "  <thead>\n",
              "    <tr style=\"text-align: right;\">\n",
              "      <th></th>\n",
              "      <th>count</th>\n",
              "    </tr>\n",
              "    <tr>\n",
              "      <th>Grade</th>\n",
              "      <th></th>\n",
              "    </tr>\n",
              "  </thead>\n",
              "  <tbody>\n",
              "    <tr>\n",
              "      <th>A+</th>\n",
              "      <td>15.697772</td>\n",
              "    </tr>\n",
              "    <tr>\n",
              "      <th>A-</th>\n",
              "      <td>13.050762</td>\n",
              "    </tr>\n",
              "    <tr>\n",
              "      <th>B+</th>\n",
              "      <td>12.883230</td>\n",
              "    </tr>\n",
              "    <tr>\n",
              "      <th>A</th>\n",
              "      <td>12.531412</td>\n",
              "    </tr>\n",
              "    <tr>\n",
              "      <th>B</th>\n",
              "      <td>10.303233</td>\n",
              "    </tr>\n",
              "    <tr>\n",
              "      <th>B-</th>\n",
              "      <td>9.247780</td>\n",
              "    </tr>\n",
              "    <tr>\n",
              "      <th>C+</th>\n",
              "      <td>6.885575</td>\n",
              "    </tr>\n",
              "    <tr>\n",
              "      <th>C</th>\n",
              "      <td>5.612330</td>\n",
              "    </tr>\n",
              "    <tr>\n",
              "      <th>D</th>\n",
              "      <td>4.389345</td>\n",
              "    </tr>\n",
              "    <tr>\n",
              "      <th>C-</th>\n",
              "      <td>3.735969</td>\n",
              "    </tr>\n",
              "    <tr>\n",
              "      <th>W</th>\n",
              "      <td>2.295192</td>\n",
              "    </tr>\n",
              "    <tr>\n",
              "      <th>F</th>\n",
              "      <td>1.323505</td>\n",
              "    </tr>\n",
              "    <tr>\n",
              "      <th>P</th>\n",
              "      <td>1.021947</td>\n",
              "    </tr>\n",
              "    <tr>\n",
              "      <th>D+</th>\n",
              "      <td>0.703635</td>\n",
              "    </tr>\n",
              "    <tr>\n",
              "      <th>Tr</th>\n",
              "      <td>0.301558</td>\n",
              "    </tr>\n",
              "    <tr>\n",
              "      <th>U</th>\n",
              "      <td>0.016753</td>\n",
              "    </tr>\n",
              "  </tbody>\n",
              "</table>\n",
              "</div><br><label><b>dtype:</b> float64</label>"
            ]
          },
          "metadata": {},
          "execution_count": 455
        }
      ]
    },
    {
      "cell_type": "markdown",
      "source": [
        "**final grade distribution**"
      ],
      "metadata": {
        "id": "PMBM7BTKo35b"
      }
    },
    {
      "cell_type": "code",
      "source": [
        "\n",
        "plt.figure(figsize=(10, 6))\n",
        "sns.kdeplot(dataset['total'], shade=True, color='skyblue', alpha=0.6)\n",
        "plt.title(\"Density Plot of Total Numerical Scores\", fontsize=16)\n",
        "plt.xlabel(\"Total Score\", fontsize=14)\n",
        "plt.ylabel(\"Density\", fontsize=14)\n",
        "plt.tight_layout()\n",
        "plt.show()\n"
      ],
      "metadata": {
        "colab": {
          "base_uri": "https://localhost:8080/",
          "height": 716
        },
        "id": "1l2V8ODFlDfd",
        "outputId": "43041d46-b368-478e-a723-6badd110e594"
      },
      "execution_count": 456,
      "outputs": [
        {
          "output_type": "stream",
          "name": "stderr",
          "text": [
            "<ipython-input-456-84326d18d356>:2: FutureWarning: \n",
            "\n",
            "`shade` is now deprecated in favor of `fill`; setting `fill=True`.\n",
            "This will become an error in seaborn v0.14.0; please update your code.\n",
            "\n",
            "  sns.kdeplot(dataset['total'], shade=True, color='skyblue', alpha=0.6)\n"
          ]
        },
        {
          "output_type": "display_data",
          "data": {
            "text/plain": [
              "<Figure size 1000x600 with 1 Axes>"
            ],
            "image/png": "[encoded data removed]"
          },
          "metadata": {}
        }
      ]
    },
    {
      "cell_type": "code",
      "execution_count": 457,
      "metadata": {
        "colab": {
          "base_uri": "https://localhost:8080/",
          "height": 335
        },
        "id": "-Awz5A5Wvuf2",
        "outputId": "f9223287-e0a9-4085-e0f8-43b9192cd9ff"
      },
      "outputs": [
        {
          "output_type": "execute_result",
          "data": {
            "text/plain": [
              "count    5969.000000\n",
              "mean      106.416669\n",
              "std       149.979668\n",
              "min         8.000000\n",
              "25%        70.500000\n",
              "50%        82.000000\n",
              "75%        92.000000\n",
              "max       999.000000\n",
              "Name: total, dtype: float64"
            ],
            "text/html": [
              "<div>\n",
              "<style scoped>\n",
              "    .dataframe tbody tr th:only-of-type {\n",
              "        vertical-align: middle;\n",
              "    }\n",
              "\n",
              "    .dataframe tbody tr th {\n",
              "        vertical-align: top;\n",
              "    }\n",
              "\n",
              "    .dataframe thead th {\n",
              "        text-align: right;\n",
              "    }\n",
              "</style>\n",
              "<table border=\"1\" class=\"dataframe\">\n",
              "  <thead>\n",
              "    <tr style=\"text-align: right;\">\n",
              "      <th></th>\n",
              "      <th>total</th>\n",
              "    </tr>\n",
              "  </thead>\n",
              "  <tbody>\n",
              "    <tr>\n",
              "      <th>count</th>\n",
              "      <td>5969.000000</td>\n",
              "    </tr>\n",
              "    <tr>\n",
              "      <th>mean</th>\n",
              "      <td>106.416669</td>\n",
              "    </tr>\n",
              "    <tr>\n",
              "      <th>std</th>\n",
              "      <td>149.979668</td>\n",
              "    </tr>\n",
              "    <tr>\n",
              "      <th>min</th>\n",
              "      <td>8.000000</td>\n",
              "    </tr>\n",
              "    <tr>\n",
              "      <th>25%</th>\n",
              "      <td>70.500000</td>\n",
              "    </tr>\n",
              "    <tr>\n",
              "      <th>50%</th>\n",
              "      <td>82.000000</td>\n",
              "    </tr>\n",
              "    <tr>\n",
              "      <th>75%</th>\n",
              "      <td>92.000000</td>\n",
              "    </tr>\n",
              "    <tr>\n",
              "      <th>max</th>\n",
              "      <td>999.000000</td>\n",
              "    </tr>\n",
              "  </tbody>\n",
              "</table>\n",
              "</div><br><label><b>dtype:</b> float64</label>"
            ]
          },
          "metadata": {},
          "execution_count": 457
        }
      ],
      "source": [
        "dataset['total'].describe()"
      ]
    },
    {
      "cell_type": "markdown",
      "source": [
        "**Grades for students having final score>100**"
      ],
      "metadata": {
        "id": "SE17DYvlpcW_"
      }
    },
    {
      "cell_type": "code",
      "source": [
        "outliers=dataset[dataset['total'] > 100]\n",
        "outliers_count=outliers['Grade'].value_counts()\n",
        "outliers_count\n"
      ],
      "metadata": {
        "colab": {
          "base_uri": "https://localhost:8080/",
          "height": 460
        },
        "id": "-kr7tQ7NmWpb",
        "outputId": "0dc352af-e463-4272-d29b-0b89dd65c8f3"
      },
      "execution_count": 458,
      "outputs": [
        {
          "output_type": "execute_result",
          "data": {
            "text/plain": [
              "Grade\n",
              "W     137\n",
              "Tr     18\n",
              "A+      9\n",
              "A       5\n",
              "C+      4\n",
              "C       4\n",
              "F       3\n",
              "B+      3\n",
              "A-      2\n",
              "B       1\n",
              "U       1\n",
              "Name: count, dtype: int64"
            ],
            "text/html": [
              "<div>\n",
              "<style scoped>\n",
              "    .dataframe tbody tr th:only-of-type {\n",
              "        vertical-align: middle;\n",
              "    }\n",
              "\n",
              "    .dataframe tbody tr th {\n",
              "        vertical-align: top;\n",
              "    }\n",
              "\n",
              "    .dataframe thead th {\n",
              "        text-align: right;\n",
              "    }\n",
              "</style>\n",
              "<table border=\"1\" class=\"dataframe\">\n",
              "  <thead>\n",
              "    <tr style=\"text-align: right;\">\n",
              "      <th></th>\n",
              "      <th>count</th>\n",
              "    </tr>\n",
              "    <tr>\n",
              "      <th>Grade</th>\n",
              "      <th></th>\n",
              "    </tr>\n",
              "  </thead>\n",
              "  <tbody>\n",
              "    <tr>\n",
              "      <th>W</th>\n",
              "      <td>137</td>\n",
              "    </tr>\n",
              "    <tr>\n",
              "      <th>Tr</th>\n",
              "      <td>18</td>\n",
              "    </tr>\n",
              "    <tr>\n",
              "      <th>A+</th>\n",
              "      <td>9</td>\n",
              "    </tr>\n",
              "    <tr>\n",
              "      <th>A</th>\n",
              "      <td>5</td>\n",
              "    </tr>\n",
              "    <tr>\n",
              "      <th>C+</th>\n",
              "      <td>4</td>\n",
              "    </tr>\n",
              "    <tr>\n",
              "      <th>C</th>\n",
              "      <td>4</td>\n",
              "    </tr>\n",
              "    <tr>\n",
              "      <th>F</th>\n",
              "      <td>3</td>\n",
              "    </tr>\n",
              "    <tr>\n",
              "      <th>B+</th>\n",
              "      <td>3</td>\n",
              "    </tr>\n",
              "    <tr>\n",
              "      <th>A-</th>\n",
              "      <td>2</td>\n",
              "    </tr>\n",
              "    <tr>\n",
              "      <th>B</th>\n",
              "      <td>1</td>\n",
              "    </tr>\n",
              "    <tr>\n",
              "      <th>U</th>\n",
              "      <td>1</td>\n",
              "    </tr>\n",
              "  </tbody>\n",
              "</table>\n",
              "</div><br><label><b>dtype:</b> int64</label>"
            ]
          },
          "metadata": {},
          "execution_count": 458
        }
      ]
    },
    {
      "cell_type": "code",
      "source": [
        "plt.figure(figsize=(10, 6))\n",
        "outliers_count.plot(kind='bar', color='skyblue', edgecolor='black')\n",
        "plt.xlabel(\"Grade\", fontsize=14)\n",
        "plt.ylabel(\"Count\", fontsize=14)\n",
        "plt.tight_layout()\n",
        "plt.show()"
      ],
      "metadata": {
        "colab": {
          "base_uri": "https://localhost:8080/",
          "height": 607
        },
        "id": "zUnvudqurm5u",
        "outputId": "c68c6f45-33b1-4437-9a0d-f7ceb0e40197"
      },
      "execution_count": 459,
      "outputs": [
        {
          "output_type": "display_data",
          "data": {
            "text/plain": [
              "<Figure size 1000x600 with 1 Axes>"
            ],
            "image/png": "[encoded data removed]"
          },
          "metadata": {}
        }
      ]
    },
    {
      "cell_type": "code",
      "source": [
        "print(\"portion of the upnoraml values to the total dataset population:\",len(outliers)/len(dataset)*100,\"%\")"
      ],
      "metadata": {
        "colab": {
          "base_uri": "https://localhost:8080/"
        },
        "id": "cWRxuwEipuyD",
        "outputId": "504cc23a-6943-4549-e96a-19ee5e33d228"
      },
      "execution_count": 460,
      "outputs": [
        {
          "output_type": "stream",
          "name": "stdout",
          "text": [
            "portion of the upnoraml values to the total dataset population: 3.132853074216787 %\n"
          ]
        }
      ]
    },
    {
      "cell_type": "markdown",
      "metadata": {
        "id": "cGbGDJlPvuf2"
      },
      "source": [
        " # **Cleaning And Preprocessing**\n",
        "\n",
        "---\n",
        "\n"
      ]
    },
    {
      "cell_type": "markdown",
      "source": [
        "## **Removing unecessary columns**"
      ],
      "metadata": {
        "id": "0Yw9S-IGMT_p"
      }
    },
    {
      "cell_type": "code",
      "execution_count": 461,
      "metadata": {
        "id": "mPwV8f6Ivuf2"
      },
      "outputs": [],
      "source": [
        "columns_to_drop=['Unnamed: 1','Year','term','Crs Code','7th','12th','year work','final']#only the total numerical grade is Needed in Recommendation process\n",
        "dataset.drop(columns_to_drop,axis=1,inplace=True)"
      ]
    },
    {
      "cell_type": "code",
      "source": [
        "dataset.columns"
      ],
      "metadata": {
        "colab": {
          "base_uri": "https://localhost:8080/"
        },
        "id": "icSo1Wr5OUm2",
        "outputId": "62d938a2-2046-46f5-aab2-d8a08109b08e"
      },
      "execution_count": 462,
      "outputs": [
        {
          "output_type": "execute_result",
          "data": {
            "text/plain": [
              "Index(['student serial', 'Course Name', 'total', 'Grade'], dtype='object')"
            ]
          },
          "metadata": {},
          "execution_count": 462
        }
      ]
    },
    {
      "cell_type": "markdown",
      "metadata": {
        "id": "axK4mFBdvuf3"
      },
      "source": [
        "## **Removing undefined Grades(outliers)**"
      ]
    },
    {
      "cell_type": "markdown",
      "source": [
        "**selecting undefined Grades**"
      ],
      "metadata": {
        "id": "WQxkfoyFMgGP"
      }
    },
    {
      "cell_type": "code",
      "execution_count": 463,
      "metadata": {
        "id": "TyUuLBnrvuf3"
      },
      "outputs": [],
      "source": [
        "#remove records with these Grades Don't Have \"Total Final\" grade or invalid numerical grades\n",
        "\n",
        "undefined_grades=['P','Tr','U','I','W']\n",
        "numbered_undefined_grades=[777,999,888]\n"
      ]
    },
    {
      "cell_type": "markdown",
      "source": [
        "**Number of Records to be removed**"
      ],
      "metadata": {
        "id": "0bYxQWxB-r47"
      }
    },
    {
      "cell_type": "code",
      "source": [
        "\n",
        "undefined=dataset.loc[dataset['Grade'].isin(undefined_grades)|dataset['total'].isin(numbered_undefined_grades)]\n",
        "print(\"Number of records with undefined Grades:\",undefined.shape[0])"
      ],
      "metadata": {
        "colab": {
          "base_uri": "https://localhost:8080/"
        },
        "id": "AStONZeW-nXW",
        "outputId": "57bf71ab-3c98-4c49-9ca2-0d2b88ac30c9"
      },
      "execution_count": 464,
      "outputs": [
        {
          "output_type": "stream",
          "name": "stdout",
          "text": [
            "Number of records with undefined Grades: 248\n"
          ]
        }
      ]
    },
    {
      "cell_type": "markdown",
      "source": [
        "**Records removing**"
      ],
      "metadata": {
        "id": "uhoy9exoMtby"
      }
    },
    {
      "cell_type": "code",
      "source": [
        "print(\"dataset size before dropping upnormal grades:\",len(dataset))"
      ],
      "metadata": {
        "colab": {
          "base_uri": "https://localhost:8080/"
        },
        "id": "sJF7jpsPV8c0",
        "outputId": "dacadf0e-df0a-42ef-f04b-e1fd5c48c1c1"
      },
      "execution_count": 465,
      "outputs": [
        {
          "output_type": "stream",
          "name": "stdout",
          "text": [
            "dataset size before dropping upnormal grades: 5969\n"
          ]
        }
      ]
    },
    {
      "cell_type": "code",
      "execution_count": 466,
      "metadata": {
        "id": "6wg798sCvuf3"
      },
      "outputs": [],
      "source": [
        "dataset.drop(dataset.loc[dataset['Grade'].isin(undefined_grades)|dataset['total'].isin(numbered_undefined_grades)].index,axis=0,inplace=True)\n",
        "\n"
      ]
    },
    {
      "cell_type": "code",
      "source": [
        "print(\"dataset size after dropping upnormal grades:\",len(dataset))"
      ],
      "metadata": {
        "colab": {
          "base_uri": "https://localhost:8080/"
        },
        "id": "pbjFMiVoWIiE",
        "outputId": "a96ae7a5-e1ee-450e-b53d-de72dad813e3"
      },
      "execution_count": 467,
      "outputs": [
        {
          "output_type": "stream",
          "name": "stdout",
          "text": [
            "dataset size after dropping upnormal grades: 5721\n"
          ]
        }
      ]
    },
    {
      "cell_type": "markdown",
      "source": [
        "## **statistics after Outliers Removal**"
      ],
      "metadata": {
        "id": "pasUe0tcvLko"
      }
    },
    {
      "cell_type": "code",
      "source": [
        "dataset['total'].describe()"
      ],
      "metadata": {
        "colab": {
          "base_uri": "https://localhost:8080/",
          "height": 335
        },
        "id": "M1eSg6Iuuyp4",
        "outputId": "b88ec658-1aca-4f25-d1bf-04f5b8d57ba2"
      },
      "execution_count": 468,
      "outputs": [
        {
          "output_type": "execute_result",
          "data": {
            "text/plain": [
              "count    5721.000000\n",
              "mean       79.913232\n",
              "std        13.849235\n",
              "min         8.000000\n",
              "25%        70.000000\n",
              "50%        81.500000\n",
              "75%        91.000000\n",
              "max       100.000000\n",
              "Name: total, dtype: float64"
            ],
            "text/html": [
              "<div>\n",
              "<style scoped>\n",
              "    .dataframe tbody tr th:only-of-type {\n",
              "        vertical-align: middle;\n",
              "    }\n",
              "\n",
              "    .dataframe tbody tr th {\n",
              "        vertical-align: top;\n",
              "    }\n",
              "\n",
              "    .dataframe thead th {\n",
              "        text-align: right;\n",
              "    }\n",
              "</style>\n",
              "<table border=\"1\" class=\"dataframe\">\n",
              "  <thead>\n",
              "    <tr style=\"text-align: right;\">\n",
              "      <th></th>\n",
              "      <th>total</th>\n",
              "    </tr>\n",
              "  </thead>\n",
              "  <tbody>\n",
              "    <tr>\n",
              "      <th>count</th>\n",
              "      <td>5721.000000</td>\n",
              "    </tr>\n",
              "    <tr>\n",
              "      <th>mean</th>\n",
              "      <td>79.913232</td>\n",
              "    </tr>\n",
              "    <tr>\n",
              "      <th>std</th>\n",
              "      <td>13.849235</td>\n",
              "    </tr>\n",
              "    <tr>\n",
              "      <th>min</th>\n",
              "      <td>8.000000</td>\n",
              "    </tr>\n",
              "    <tr>\n",
              "      <th>25%</th>\n",
              "      <td>70.000000</td>\n",
              "    </tr>\n",
              "    <tr>\n",
              "      <th>50%</th>\n",
              "      <td>81.500000</td>\n",
              "    </tr>\n",
              "    <tr>\n",
              "      <th>75%</th>\n",
              "      <td>91.000000</td>\n",
              "    </tr>\n",
              "    <tr>\n",
              "      <th>max</th>\n",
              "      <td>100.000000</td>\n",
              "    </tr>\n",
              "  </tbody>\n",
              "</table>\n",
              "</div><br><label><b>dtype:</b> float64</label>"
            ]
          },
          "metadata": {},
          "execution_count": 468
        }
      ]
    },
    {
      "cell_type": "code",
      "execution_count": 469,
      "metadata": {
        "colab": {
          "base_uri": "https://localhost:8080/",
          "height": 716
        },
        "id": "UEX2BwZyjKp2",
        "outputId": "ed7ea9dc-44fc-45c9-beb4-9665dbbd7d8f"
      },
      "outputs": [
        {
          "output_type": "stream",
          "name": "stderr",
          "text": [
            "<ipython-input-469-84326d18d356>:2: FutureWarning: \n",
            "\n",
            "`shade` is now deprecated in favor of `fill`; setting `fill=True`.\n",
            "This will become an error in seaborn v0.14.0; please update your code.\n",
            "\n",
            "  sns.kdeplot(dataset['total'], shade=True, color='skyblue', alpha=0.6)\n"
          ]
        },
        {
          "output_type": "display_data",
          "data": {
            "text/plain": [
              "<Figure size 1000x600 with 1 Axes>"
            ],
            "image/png": "[encoded data removed]"
          },
          "metadata": {}
        }
      ],
      "source": [
        "\n",
        "plt.figure(figsize=(10, 6))\n",
        "sns.kdeplot(dataset['total'], shade=True, color='skyblue', alpha=0.6)\n",
        "plt.title(\"Density Plot of Total Numerical Scores\", fontsize=16)\n",
        "plt.xlabel(\"Total Score\", fontsize=14)\n",
        "plt.ylabel(\"Density\", fontsize=14)\n",
        "plt.tight_layout()\n",
        "plt.show()\n"
      ]
    },
    {
      "cell_type": "code",
      "source": [
        "'''\n",
        "dataset['total_log'] = np.log(dataset['total'])\n",
        "\n",
        "plt.figure(figsize=(10, 6))\n",
        "sns.kdeplot(dataset['total_log'], shade=True, color='skyblue', alpha=0.6)\n",
        "plt.title(\"Density Plot of Total Numerical Scores\", fontsize=16)\n",
        "plt.xlabel(\"Total Score\", fontsize=14)\n",
        "plt.ylabel(\"Density\", fontsize=14)\n",
        "plt.tight_layout()\n",
        "plt.show()\n",
        "'''"
      ],
      "metadata": {
        "colab": {
          "base_uri": "https://localhost:8080/",
          "height": 72
        },
        "id": "RgwsRdNVMnmb",
        "outputId": "2a04decc-3d47-4833-f847-bae1bec9b1f2"
      },
      "execution_count": 470,
      "outputs": [
        {
          "output_type": "execute_result",
          "data": {
            "text/plain": [
              "'\\ndataset[\\'total_log\\'] = np.log(dataset[\\'total\\'])\\n\\nplt.figure(figsize=(10, 6))\\nsns.kdeplot(dataset[\\'total_log\\'], shade=True, color=\\'skyblue\\', alpha=0.6)\\nplt.title(\"Density Plot of Total Numerical Scores\", fontsize=16)\\nplt.xlabel(\"Total Score\", fontsize=14)\\nplt.ylabel(\"Density\", fontsize=14)\\nplt.tight_layout() \\nplt.show()\\n'"
            ],
            "application/vnd.google.colaboratory.intrinsic+json": {
              "type": "string"
            }
          },
          "metadata": {},
          "execution_count": 470
        }
      ]
    },
    {
      "cell_type": "markdown",
      "source": [
        "since data is right skewed a further preprocessing required to improve the model performance towrards students with lower grades..."
      ],
      "metadata": {
        "id": "5O_UxW42z__q"
      }
    },
    {
      "cell_type": "markdown",
      "metadata": {
        "id": "kXxm74wwx_u3"
      },
      "source": [
        "## **Data Augmentation**"
      ]
    },
    {
      "cell_type": "markdown",
      "source": [
        "**setting augmentation threshold**"
      ],
      "metadata": {
        "id": "n1_dqFOX24Gw"
      }
    },
    {
      "cell_type": "code",
      "source": [
        "aug_threshold=80"
      ],
      "metadata": {
        "id": "QjIKhw6804Qc"
      },
      "execution_count": 471,
      "outputs": []
    },
    {
      "cell_type": "code",
      "execution_count": 472,
      "metadata": {
        "colab": {
          "base_uri": "https://localhost:8080/"
        },
        "id": "HVmxmkx7gRo6",
        "outputId": "fee41f2a-b424-4d13-e5ce-8bab74bf44bd"
      },
      "outputs": [
        {
          "output_type": "stream",
          "name": "stdout",
          "text": [
            "47.36934102429645% of the data samples have total grade <80\n"
          ]
        }
      ],
      "source": [
        "print(f\"{(len(dataset[dataset['total'] <= aug_threshold]) / len(dataset)) * 100}% of the data samples have total grade <{aug_threshold}\")"
      ]
    },
    {
      "cell_type": "code",
      "execution_count": 473,
      "metadata": {
        "id": "YtzYSYT6x6eG"
      },
      "outputs": [],
      "source": [
        "dataset=augment_data(dataset,'total',aug_threshold,2)#oversampling for datapoints with total grade <80 as the majority of data points are densed only between 80-100"
      ]
    },
    {
      "cell_type": "markdown",
      "source": [
        "**Distribution after upsampling**"
      ],
      "metadata": {
        "id": "2FOP8PrV1c2G"
      }
    },
    {
      "cell_type": "code",
      "execution_count": 474,
      "metadata": {
        "colab": {
          "base_uri": "https://localhost:8080/",
          "height": 716
        },
        "id": "1U_hdmBglwml",
        "outputId": "fd6e5d2b-d251-4571-e1eb-2c142dea9829"
      },
      "outputs": [
        {
          "output_type": "stream",
          "name": "stderr",
          "text": [
            "<ipython-input-474-84326d18d356>:2: FutureWarning: \n",
            "\n",
            "`shade` is now deprecated in favor of `fill`; setting `fill=True`.\n",
            "This will become an error in seaborn v0.14.0; please update your code.\n",
            "\n",
            "  sns.kdeplot(dataset['total'], shade=True, color='skyblue', alpha=0.6)\n"
          ]
        },
        {
          "output_type": "display_data",
          "data": {
            "text/plain": [
              "<Figure size 1000x600 with 1 Axes>"
            ],
            "image/png": "[encoded data removed]"
          },
          "metadata": {}
        }
      ],
      "source": [
        "\n",
        "plt.figure(figsize=(10, 6))\n",
        "sns.kdeplot(dataset['total'], shade=True, color='skyblue', alpha=0.6)\n",
        "plt.title(\"Density Plot of Total Numerical Scores\", fontsize=16)\n",
        "plt.xlabel(\"Total Score\", fontsize=14)\n",
        "plt.ylabel(\"Density\", fontsize=14)\n",
        "plt.tight_layout()\n",
        "plt.show()\n"
      ]
    },
    {
      "cell_type": "code",
      "source": [
        "dataset['total'].describe()"
      ],
      "metadata": {
        "colab": {
          "base_uri": "https://localhost:8080/",
          "height": 335
        },
        "id": "6Sd-q22LE0sn",
        "outputId": "db6a81e0-0225-4d08-fae9-d54f17a1da70"
      },
      "execution_count": 475,
      "outputs": [
        {
          "output_type": "execute_result",
          "data": {
            "text/plain": [
              "count    8431.000000\n",
              "mean       76.099237\n",
              "std        13.963178\n",
              "min         7.261108\n",
              "25%        66.899204\n",
              "50%        76.257863\n",
              "75%        87.000000\n",
              "max       100.000000\n",
              "Name: total, dtype: float64"
            ],
            "text/html": [
              "<div>\n",
              "<style scoped>\n",
              "    .dataframe tbody tr th:only-of-type {\n",
              "        vertical-align: middle;\n",
              "    }\n",
              "\n",
              "    .dataframe tbody tr th {\n",
              "        vertical-align: top;\n",
              "    }\n",
              "\n",
              "    .dataframe thead th {\n",
              "        text-align: right;\n",
              "    }\n",
              "</style>\n",
              "<table border=\"1\" class=\"dataframe\">\n",
              "  <thead>\n",
              "    <tr style=\"text-align: right;\">\n",
              "      <th></th>\n",
              "      <th>total</th>\n",
              "    </tr>\n",
              "  </thead>\n",
              "  <tbody>\n",
              "    <tr>\n",
              "      <th>count</th>\n",
              "      <td>8431.000000</td>\n",
              "    </tr>\n",
              "    <tr>\n",
              "      <th>mean</th>\n",
              "      <td>76.099237</td>\n",
              "    </tr>\n",
              "    <tr>\n",
              "      <th>std</th>\n",
              "      <td>13.963178</td>\n",
              "    </tr>\n",
              "    <tr>\n",
              "      <th>min</th>\n",
              "      <td>7.261108</td>\n",
              "    </tr>\n",
              "    <tr>\n",
              "      <th>25%</th>\n",
              "      <td>66.899204</td>\n",
              "    </tr>\n",
              "    <tr>\n",
              "      <th>50%</th>\n",
              "      <td>76.257863</td>\n",
              "    </tr>\n",
              "    <tr>\n",
              "      <th>75%</th>\n",
              "      <td>87.000000</td>\n",
              "    </tr>\n",
              "    <tr>\n",
              "      <th>max</th>\n",
              "      <td>100.000000</td>\n",
              "    </tr>\n",
              "  </tbody>\n",
              "</table>\n",
              "</div><br><label><b>dtype:</b> float64</label>"
            ]
          },
          "metadata": {},
          "execution_count": 475
        }
      ]
    },
    {
      "cell_type": "markdown",
      "source": [
        "**percent of students with grades<passing threshold**"
      ],
      "metadata": {
        "id": "EnwQKkAK6FTl"
      }
    },
    {
      "cell_type": "code",
      "execution_count": 476,
      "metadata": {
        "colab": {
          "base_uri": "https://localhost:8080/"
        },
        "id": "gmHlxbKCvuf5",
        "outputId": "61fd5cd2-aeb1-4cb2-d6e6-1126928864af"
      },
      "outputs": [
        {
          "output_type": "execute_result",
          "data": {
            "text/plain": [
              "12.845451310639309"
            ]
          },
          "metadata": {},
          "execution_count": 476
        }
      ],
      "source": [
        "\n",
        "len(dataset.loc[dataset['total'] < 60])/len(dataset)*100"
      ]
    },
    {
      "cell_type": "markdown",
      "source": [
        "to prevent the model from recommending courses that may lead to failure, it's important to assign higher weights to students with failing grades. This ensures the model is more cautious with their predictions, prioritizing success and avoiding overestimating their chances in challenging courses. This approach helps guide students toward more suitable options and improves their academic outcomes."
      ],
      "metadata": {
        "id": "6SpYyUv86VxM"
      }
    },
    {
      "cell_type": "code",
      "execution_count": 477,
      "metadata": {
        "colab": {
          "base_uri": "https://localhost:8080/",
          "height": 206
        },
        "id": "Qnd_4UsP2cZK",
        "outputId": "1807cf89-70de-40df-eebe-f3dab66a6515"
      },
      "outputs": [
        {
          "output_type": "execute_result",
          "data": {
            "text/plain": [
              "   student serial            Course Name      total\n",
              "0           16260   Computing Algorithms  72.249881\n",
              "1           16260   Computing Algorithms  71.119060\n",
              "2           16260          DATA SECURITY  76.418455\n",
              "3           16260          DATA SECURITY  76.263690\n",
              "4           16260  INTRO.TO SOFTWARE ENG  75.658366"
            ],
            "text/html": [
              "\n",
              "  <div id=\"df-d7c870e4-8883-4886-a1d9-dee157f1062e\" class=\"colab-df-container\">\n",
              "    <div>\n",
              "<style scoped>\n",
              "    .dataframe tbody tr th:only-of-type {\n",
              "        vertical-align: middle;\n",
              "    }\n",
              "\n",
              "    .dataframe tbody tr th {\n",
              "        vertical-align: top;\n",
              "    }\n",
              "\n",
              "    .dataframe thead th {\n",
              "        text-align: right;\n",
              "    }\n",
              "</style>\n",
              "<table border=\"1\" class=\"dataframe\">\n",
              "  <thead>\n",
              "    <tr style=\"text-align: right;\">\n",
              "      <th></th>\n",
              "      <th>student serial</th>\n",
              "      <th>Course Name</th>\n",
              "      <th>total</th>\n",
              "    </tr>\n",
              "  </thead>\n",
              "  <tbody>\n",
              "    <tr>\n",
              "      <th>0</th>\n",
              "      <td>16260</td>\n",
              "      <td>Computing Algorithms</td>\n",
              "      <td>72.249881</td>\n",
              "    </tr>\n",
              "    <tr>\n",
              "      <th>1</th>\n",
              "      <td>16260</td>\n",
              "      <td>Computing Algorithms</td>\n",
              "      <td>71.119060</td>\n",
              "    </tr>\n",
              "    <tr>\n",
              "      <th>2</th>\n",
              "      <td>16260</td>\n",
              "      <td>DATA SECURITY</td>\n",
              "      <td>76.418455</td>\n",
              "    </tr>\n",
              "    <tr>\n",
              "      <th>3</th>\n",
              "      <td>16260</td>\n",
              "      <td>DATA SECURITY</td>\n",
              "      <td>76.263690</td>\n",
              "    </tr>\n",
              "    <tr>\n",
              "      <th>4</th>\n",
              "      <td>16260</td>\n",
              "      <td>INTRO.TO SOFTWARE ENG</td>\n",
              "      <td>75.658366</td>\n",
              "    </tr>\n",
              "  </tbody>\n",
              "</table>\n",
              "</div>\n",
              "    <div class=\"colab-df-buttons\">\n",
              "\n",
              "  <div class=\"colab-df-container\">\n",
              "    <button class=\"colab-df-convert\" onclick=\"convertToInteractive('df-d7c870e4-8883-4886-a1d9-dee157f1062e')\"\n",
              "            title=\"Convert this dataframe to an interactive table.\"\n",
              "            style=\"display:none;\">\n",
              "\n",
              "  <svg xmlns=\"http://www.w3.org/2000/svg\" height=\"24px\" viewBox=\"0 -960 960 960\">\n",
              "    <path d=\"M120-120v-720h720v720H120Zm60-500h600v-160H180v160Zm220 220h160v-160H400v160Zm0 220h160v-160H400v160ZM180-400h160v-160H180v160Zm440 0h160v-160H620v160ZM180-180h160v-160H180v160Zm440 0h160v-160H620v160Z\"/>\n",
              "  </svg>\n",
              "    </button>\n",
              "\n",
              "  <style>\n",
              "    .colab-df-container {\n",
              "      display:flex;\n",
              "      gap: 12px;\n",
              "    }\n",
              "\n",
              "    .colab-df-convert {\n",
              "      background-color: #E8F0FE;\n",
              "      border: none;\n",
              "      border-radius: 50%;\n",
              "      cursor: pointer;\n",
              "      display: none;\n",
              "      fill: #1967D2;\n",
              "      height: 32px;\n",
              "      padding: 0 0 0 0;\n",
              "      width: 32px;\n",
              "    }\n",
              "\n",
              "    .colab-df-convert:hover {\n",
              "      background-color: #E2EBFA;\n",
              "      box-shadow: 0px 1px 2px rgba(60, 64, 67, 0.3), 0px 1px 3px 1px rgba(60, 64, 67, 0.15);\n",
              "      fill: #174EA6;\n",
              "    }\n",
              "\n",
              "    .colab-df-buttons div {\n",
              "      margin-bottom: 4px;\n",
              "    }\n",
              "\n",
              "    [theme=dark] .colab-df-convert {\n",
              "      background-color: #3B4455;\n",
              "      fill: #D2E3FC;\n",
              "    }\n",
              "\n",
              "    [theme=dark] .colab-df-convert:hover {\n",
              "      background-color: #434B5C;\n",
              "      box-shadow: 0px 1px 3px 1px rgba(0, 0, 0, 0.15);\n",
              "      filter: drop-shadow(0px 1px 2px rgba(0, 0, 0, 0.3));\n",
              "      fill: #FFFFFF;\n",
              "    }\n",
              "  </style>\n",
              "\n",
              "    <script>\n",
              "      const buttonEl =\n",
              "        document.querySelector('#df-d7c870e4-8883-4886-a1d9-dee157f1062e button.colab-df-convert');\n",
              "      buttonEl.style.display =\n",
              "        google.colab.kernel.accessAllowed ? 'block' : 'none';\n",
              "\n",
              "      async function convertToInteractive(key) {\n",
              "        const element = document.querySelector('#df-d7c870e4-8883-4886-a1d9-dee157f1062e');\n",
              "        const dataTable =\n",
              "          await google.colab.kernel.invokeFunction('convertToInteractive',\n",
              "                                                    [key], {});\n",
              "        if (!dataTable) return;\n",
              "\n",
              "        const docLinkHtml = 'Like what you see? Visit the ' +\n",
              "          '<a target=\"_blank\" href=https://colab.research.google.com/notebooks/data_table.ipynb>data table notebook</a>'\n",
              "          + ' to learn more about interactive tables.';\n",
              "        element.innerHTML = '';\n",
              "        dataTable['output_type'] = 'display_data';\n",
              "        await google.colab.output.renderOutput(dataTable, element);\n",
              "        const docLink = document.createElement('div');\n",
              "        docLink.innerHTML = docLinkHtml;\n",
              "        element.appendChild(docLink);\n",
              "      }\n",
              "    </script>\n",
              "  </div>\n",
              "\n",
              "\n",
              "<div id=\"df-728d8a5b-c408-469d-84bf-28a1d851d2ec\">\n",
              "  <button class=\"colab-df-quickchart\" onclick=\"quickchart('df-728d8a5b-c408-469d-84bf-28a1d851d2ec')\"\n",
              "            title=\"Suggest charts\"\n",
              "            style=\"display:none;\">\n",
              "\n",
              "<svg xmlns=\"http://www.w3.org/2000/svg\" height=\"24px\"viewBox=\"0 0 24 24\"\n",
              "     width=\"24px\">\n",
              "    <g>\n",
              "        <path d=\"M19 3H5c-1.1 0-2 .9-2 2v14c0 1.1.9 2 2 2h14c1.1 0 2-.9 2-2V5c0-1.1-.9-2-2-2zM9 17H7v-7h2v7zm4 0h-2V7h2v10zm4 0h-2v-4h2v4z\"/>\n",
              "    </g>\n",
              "</svg>\n",
              "  </button>\n",
              "\n",
              "<style>\n",
              "  .colab-df-quickchart {\n",
              "      --bg-color: #E8F0FE;\n",
              "      --fill-color: #1967D2;\n",
              "      --hover-bg-color: #E2EBFA;\n",
              "      --hover-fill-color: #174EA6;\n",
              "      --disabled-fill-color: #AAA;\n",
              "      --disabled-bg-color: #DDD;\n",
              "  }\n",
              "\n",
              "  [theme=dark] .colab-df-quickchart {\n",
              "      --bg-color: #3B4455;\n",
              "      --fill-color: #D2E3FC;\n",
              "      --hover-bg-color: #434B5C;\n",
              "      --hover-fill-color: #FFFFFF;\n",
              "      --disabled-bg-color: #3B4455;\n",
              "      --disabled-fill-color: #666;\n",
              "  }\n",
              "\n",
              "  .colab-df-quickchart {\n",
              "    background-color: var(--bg-color);\n",
              "    border: none;\n",
              "    border-radius: 50%;\n",
              "    cursor: pointer;\n",
              "    display: none;\n",
              "    fill: var(--fill-color);\n",
              "    height: 32px;\n",
              "    padding: 0;\n",
              "    width: 32px;\n",
              "  }\n",
              "\n",
              "  .colab-df-quickchart:hover {\n",
              "    background-color: var(--hover-bg-color);\n",
              "    box-shadow: 0 1px 2px rgba(60, 64, 67, 0.3), 0 1px 3px 1px rgba(60, 64, 67, 0.15);\n",
              "    fill: var(--button-hover-fill-color);\n",
              "  }\n",
              "\n",
              "  .colab-df-quickchart-complete:disabled,\n",
              "  .colab-df-quickchart-complete:disabled:hover {\n",
              "    background-color: var(--disabled-bg-color);\n",
              "    fill: var(--disabled-fill-color);\n",
              "    box-shadow: none;\n",
              "  }\n",
              "\n",
              "  .colab-df-spinner {\n",
              "    border: 2px solid var(--fill-color);\n",
              "    border-color: transparent;\n",
              "    border-bottom-color: var(--fill-color);\n",
              "    animation:\n",
              "      spin 1s steps(1) infinite;\n",
              "  }\n",
              "\n",
              "  @keyframes spin {\n",
              "    0% {\n",
              "      border-color: transparent;\n",
              "      border-bottom-color: var(--fill-color);\n",
              "      border-left-color: var(--fill-color);\n",
              "    }\n",
              "    20% {\n",
              "      border-color: transparent;\n",
              "      border-left-color: var(--fill-color);\n",
              "      border-top-color: var(--fill-color);\n",
              "    }\n",
              "    30% {\n",
              "      border-color: transparent;\n",
              "      border-left-color: var(--fill-color);\n",
              "      border-top-color: var(--fill-color);\n",
              "      border-right-color: var(--fill-color);\n",
              "    }\n",
              "    40% {\n",
              "      border-color: transparent;\n",
              "      border-right-color: var(--fill-color);\n",
              "      border-top-color: var(--fill-color);\n",
              "    }\n",
              "    60% {\n",
              "      border-color: transparent;\n",
              "      border-right-color: var(--fill-color);\n",
              "    }\n",
              "    80% {\n",
              "      border-color: transparent;\n",
              "      border-right-color: var(--fill-color);\n",
              "      border-bottom-color: var(--fill-color);\n",
              "    }\n",
              "    90% {\n",
              "      border-color: transparent;\n",
              "      border-bottom-color: var(--fill-color);\n",
              "    }\n",
              "  }\n",
              "</style>\n",
              "\n",
              "  <script>\n",
              "    async function quickchart(key) {\n",
              "      const quickchartButtonEl =\n",
              "        document.querySelector('#' + key + ' button');\n",
              "      quickchartButtonEl.disabled = true;  // To prevent multiple clicks.\n",
              "      quickchartButtonEl.classList.add('colab-df-spinner');\n",
              "      try {\n",
              "        const charts = await google.colab.kernel.invokeFunction(\n",
              "            'suggestCharts', [key], {});\n",
              "      } catch (error) {\n",
              "        console.error('Error during call to suggestCharts:', error);\n",
              "      }\n",
              "      quickchartButtonEl.classList.remove('colab-df-spinner');\n",
              "      quickchartButtonEl.classList.add('colab-df-quickchart-complete');\n",
              "    }\n",
              "    (() => {\n",
              "      let quickchartButtonEl =\n",
              "        document.querySelector('#df-728d8a5b-c408-469d-84bf-28a1d851d2ec button');\n",
              "      quickchartButtonEl.style.display =\n",
              "        google.colab.kernel.accessAllowed ? 'block' : 'none';\n",
              "    })();\n",
              "  </script>\n",
              "</div>\n",
              "\n",
              "    </div>\n",
              "  </div>\n"
            ],
            "application/vnd.google.colaboratory.intrinsic+json": {
              "type": "dataframe",
              "variable_name": "dataset",
              "summary": "{\n  \"name\": \"dataset\",\n  \"rows\": 8431,\n  \"fields\": [\n    {\n      \"column\": \"student serial\",\n      \"properties\": {\n        \"dtype\": \"number\",\n        \"std\": 9517,\n        \"min\": 40,\n        \"max\": 32733,\n        \"num_unique_values\": 1275,\n        \"samples\": [\n          7161,\n          26376,\n          14958\n        ],\n        \"semantic_type\": \"\",\n        \"description\": \"\"\n      }\n    },\n    {\n      \"column\": \"Course Name\",\n      \"properties\": {\n        \"dtype\": \"category\",\n        \"num_unique_values\": 23,\n        \"samples\": [\n          \"Introduction to Data Mining\",\n          \"DISTRIBUTED & PARALLEL SYSTEMS\",\n          \"Computing Algorithms\"\n        ],\n        \"semantic_type\": \"\",\n        \"description\": \"\"\n      }\n    },\n    {\n      \"column\": \"total\",\n      \"properties\": {\n        \"dtype\": \"number\",\n        \"std\": 13.96317778594938,\n        \"min\": 7.261108078601277,\n        \"max\": 100.0,\n        \"num_unique_values\": 5466,\n        \"samples\": [\n          73.04356977815655,\n          32.81791414846107,\n          76.49393220361547\n        ],\n        \"semantic_type\": \"\",\n        \"description\": \"\"\n      }\n    }\n  ]\n}"
            }
          },
          "metadata": {},
          "execution_count": 477
        }
      ],
      "source": [
        "dataset.drop(columns=[\"Grade\"], inplace=True)\n",
        "dataset.head()"
      ]
    },
    {
      "cell_type": "markdown",
      "metadata": {
        "id": "TltmuSTp-Jul"
      },
      "source": [
        "## **Ecnoding Courses names and Students ID into a continous int values**"
      ]
    },
    {
      "cell_type": "markdown",
      "source": [
        "this step is neccessary as the neumf model needs continous indecies for creating the latent vectors for both courses and students"
      ],
      "metadata": {
        "id": "lNz4xQJe8tRj"
      }
    },
    {
      "cell_type": "code",
      "source": [
        "students_serial=dataset['student serial'].unique()\n",
        "courses_name=dataset['Course Name'].unique()\n",
        "encoded_students_serial = {x: i for i, x in enumerate(students_serial)}\n",
        "encoded_courses_name = {x: i for i, x in enumerate(courses_name)}\n",
        "\n",
        "dataset[\"student_id\"] = dataset[\"student serial\"].map(encoded_students_serial)\n",
        "dataset[\"course_id\"] = dataset[\"Course Name\"].map(encoded_courses_name)\n",
        "\n",
        "num_students = len(encoded_students_serial)\n",
        "num_courses = len(encoded_courses_name)\n",
        "\n",
        "#final Number of Students&courses\n",
        "print(\"Number of students:\", num_students)\n",
        "print(\"Number of courses:\", num_courses)\n"
      ],
      "metadata": {
        "colab": {
          "base_uri": "https://localhost:8080/"
        },
        "id": "l2EU2BTc7pWN",
        "outputId": "d5ae5581-e8a5-40b3-ba67-e5e1b6fb7b2a"
      },
      "execution_count": 478,
      "outputs": [
        {
          "output_type": "stream",
          "name": "stdout",
          "text": [
            "Number of students: 1275\n",
            "Number of courses: 23\n"
          ]
        }
      ]
    },
    {
      "cell_type": "markdown",
      "source": [
        "##**Total scores min-max normalization**"
      ],
      "metadata": {
        "id": "Gl5GEjzJ9ITL"
      }
    },
    {
      "cell_type": "code",
      "execution_count": 479,
      "metadata": {
        "colab": {
          "base_uri": "https://localhost:8080/"
        },
        "id": "tzmXX8rP8EUG",
        "outputId": "5c4cb826-6440-45a5-f423-ebf4f3eeb0c1"
      },
      "outputs": [
        {
          "output_type": "stream",
          "name": "stderr",
          "text": [
            "<ipython-input-479-cd7a7e27b1a7>:6: SettingWithCopyWarning: \n",
            "A value is trying to be set on a copy of a slice from a DataFrame.\n",
            "Try using .loc[row_indexer,col_indexer] = value instead\n",
            "\n",
            "See the caveats in the documentation: https://pandas.pydata.org/pandas-docs/stable/user_guide/indexing.html#returning-a-view-versus-a-copy\n",
            "  dataset['total'] = (dataset['total'] - min_rating) / (max_rating - min_rating)#Min-Max nnormalization\n"
          ]
        }
      ],
      "source": [
        "\n",
        "#re-arrange columns for simplicity\n",
        "dataset=dataset[['student_id','course_id','total']]\n",
        "\n",
        "min_rating = min(dataset[\"total\"])\n",
        "max_rating = max(dataset[\"total\"])\n",
        "dataset['total'] = (dataset['total'] - min_rating) / (max_rating - min_rating)#Min-Max nnormalization\n"
      ]
    },
    {
      "cell_type": "code",
      "execution_count": 480,
      "metadata": {
        "colab": {
          "base_uri": "https://localhost:8080/",
          "height": 363
        },
        "id": "hE4llyer-4Vf",
        "outputId": "d66d1dab-7c16-4016-f8fb-bd4248ef6e6d"
      },
      "outputs": [
        {
          "output_type": "execute_result",
          "data": {
            "text/plain": [
              "      student_id  course_id     total\n",
              "8421        1270         18  0.967651\n",
              "8422        1270         19  0.881387\n",
              "8423        1271         14  0.748848\n",
              "8424        1271         14  0.735695\n",
              "8425        1272          3  0.924519\n",
              "8426        1273          1  0.827473\n",
              "8427        1274          3  0.740912\n",
              "8428        1274          3  0.734754\n",
              "8429        1274         20  0.707257\n",
              "8430        1274         20  0.698362"
            ],
            "text/html": [
              "\n",
              "  <div id=\"df-3591afe9-14a0-453f-8a1e-7ac46bebe072\" class=\"colab-df-container\">\n",
              "    <div>\n",
              "<style scoped>\n",
              "    .dataframe tbody tr th:only-of-type {\n",
              "        vertical-align: middle;\n",
              "    }\n",
              "\n",
              "    .dataframe tbody tr th {\n",
              "        vertical-align: top;\n",
              "    }\n",
              "\n",
              "    .dataframe thead th {\n",
              "        text-align: right;\n",
              "    }\n",
              "</style>\n",
              "<table border=\"1\" class=\"dataframe\">\n",
              "  <thead>\n",
              "    <tr style=\"text-align: right;\">\n",
              "      <th></th>\n",
              "      <th>student_id</th>\n",
              "      <th>course_id</th>\n",
              "      <th>total</th>\n",
              "    </tr>\n",
              "  </thead>\n",
              "  <tbody>\n",
              "    <tr>\n",
              "      <th>8421</th>\n",
              "      <td>1270</td>\n",
              "      <td>18</td>\n",
              "      <td>0.967651</td>\n",
              "    </tr>\n",
              "    <tr>\n",
              "      <th>8422</th>\n",
              "      <td>1270</td>\n",
              "      <td>19</td>\n",
              "      <td>0.881387</td>\n",
              "    </tr>\n",
              "    <tr>\n",
              "      <th>8423</th>\n",
              "      <td>1271</td>\n",
              "      <td>14</td>\n",
              "      <td>0.748848</td>\n",
              "    </tr>\n",
              "    <tr>\n",
              "      <th>8424</th>\n",
              "      <td>1271</td>\n",
              "      <td>14</td>\n",
              "      <td>0.735695</td>\n",
              "    </tr>\n",
              "    <tr>\n",
              "      <th>8425</th>\n",
              "      <td>1272</td>\n",
              "      <td>3</td>\n",
              "      <td>0.924519</td>\n",
              "    </tr>\n",
              "    <tr>\n",
              "      <th>8426</th>\n",
              "      <td>1273</td>\n",
              "      <td>1</td>\n",
              "      <td>0.827473</td>\n",
              "    </tr>\n",
              "    <tr>\n",
              "      <th>8427</th>\n",
              "      <td>1274</td>\n",
              "      <td>3</td>\n",
              "      <td>0.740912</td>\n",
              "    </tr>\n",
              "    <tr>\n",
              "      <th>8428</th>\n",
              "      <td>1274</td>\n",
              "      <td>3</td>\n",
              "      <td>0.734754</td>\n",
              "    </tr>\n",
              "    <tr>\n",
              "      <th>8429</th>\n",
              "      <td>1274</td>\n",
              "      <td>20</td>\n",
              "      <td>0.707257</td>\n",
              "    </tr>\n",
              "    <tr>\n",
              "      <th>8430</th>\n",
              "      <td>1274</td>\n",
              "      <td>20</td>\n",
              "      <td>0.698362</td>\n",
              "    </tr>\n",
              "  </tbody>\n",
              "</table>\n",
              "</div>\n",
              "    <div class=\"colab-df-buttons\">\n",
              "\n",
              "  <div class=\"colab-df-container\">\n",
              "    <button class=\"colab-df-convert\" onclick=\"convertToInteractive('df-3591afe9-14a0-453f-8a1e-7ac46bebe072')\"\n",
              "            title=\"Convert this dataframe to an interactive table.\"\n",
              "            style=\"display:none;\">\n",
              "\n",
              "  <svg xmlns=\"http://www.w3.org/2000/svg\" height=\"24px\" viewBox=\"0 -960 960 960\">\n",
              "    <path d=\"M120-120v-720h720v720H120Zm60-500h600v-160H180v160Zm220 220h160v-160H400v160Zm0 220h160v-160H400v160ZM180-400h160v-160H180v160Zm440 0h160v-160H620v160ZM180-180h160v-160H180v160Zm440 0h160v-160H620v160Z\"/>\n",
              "  </svg>\n",
              "    </button>\n",
              "\n",
              "  <style>\n",
              "    .colab-df-container {\n",
              "      display:flex;\n",
              "      gap: 12px;\n",
              "    }\n",
              "\n",
              "    .colab-df-convert {\n",
              "      background-color: #E8F0FE;\n",
              "      border: none;\n",
              "      border-radius: 50%;\n",
              "      cursor: pointer;\n",
              "      display: none;\n",
              "      fill: #1967D2;\n",
              "      height: 32px;\n",
              "      padding: 0 0 0 0;\n",
              "      width: 32px;\n",
              "    }\n",
              "\n",
              "    .colab-df-convert:hover {\n",
              "      background-color: #E2EBFA;\n",
              "      box-shadow: 0px 1px 2px rgba(60, 64, 67, 0.3), 0px 1px 3px 1px rgba(60, 64, 67, 0.15);\n",
              "      fill: #174EA6;\n",
              "    }\n",
              "\n",
              "    .colab-df-buttons div {\n",
              "      margin-bottom: 4px;\n",
              "    }\n",
              "\n",
              "    [theme=dark] .colab-df-convert {\n",
              "      background-color: #3B4455;\n",
              "      fill: #D2E3FC;\n",
              "    }\n",
              "\n",
              "    [theme=dark] .colab-df-convert:hover {\n",
              "      background-color: #434B5C;\n",
              "      box-shadow: 0px 1px 3px 1px rgba(0, 0, 0, 0.15);\n",
              "      filter: drop-shadow(0px 1px 2px rgba(0, 0, 0, 0.3));\n",
              "      fill: #FFFFFF;\n",
              "    }\n",
              "  </style>\n",
              "\n",
              "    <script>\n",
              "      const buttonEl =\n",
              "        document.querySelector('#df-3591afe9-14a0-453f-8a1e-7ac46bebe072 button.colab-df-convert');\n",
              "      buttonEl.style.display =\n",
              "        google.colab.kernel.accessAllowed ? 'block' : 'none';\n",
              "\n",
              "      async function convertToInteractive(key) {\n",
              "        const element = document.querySelector('#df-3591afe9-14a0-453f-8a1e-7ac46bebe072');\n",
              "        const dataTable =\n",
              "          await google.colab.kernel.invokeFunction('convertToInteractive',\n",
              "                                                    [key], {});\n",
              "        if (!dataTable) return;\n",
              "\n",
              "        const docLinkHtml = 'Like what you see? Visit the ' +\n",
              "          '<a target=\"_blank\" href=https://colab.research.google.com/notebooks/data_table.ipynb>data table notebook</a>'\n",
              "          + ' to learn more about interactive tables.';\n",
              "        element.innerHTML = '';\n",
              "        dataTable['output_type'] = 'display_data';\n",
              "        await google.colab.output.renderOutput(dataTable, element);\n",
              "        const docLink = document.createElement('div');\n",
              "        docLink.innerHTML = docLinkHtml;\n",
              "        element.appendChild(docLink);\n",
              "      }\n",
              "    </script>\n",
              "  </div>\n",
              "\n",
              "\n",
              "<div id=\"df-f1c0ddb5-4e93-4326-88c4-470a1694c0d9\">\n",
              "  <button class=\"colab-df-quickchart\" onclick=\"quickchart('df-f1c0ddb5-4e93-4326-88c4-470a1694c0d9')\"\n",
              "            title=\"Suggest charts\"\n",
              "            style=\"display:none;\">\n",
              "\n",
              "<svg xmlns=\"http://www.w3.org/2000/svg\" height=\"24px\"viewBox=\"0 0 24 24\"\n",
              "     width=\"24px\">\n",
              "    <g>\n",
              "        <path d=\"M19 3H5c-1.1 0-2 .9-2 2v14c0 1.1.9 2 2 2h14c1.1 0 2-.9 2-2V5c0-1.1-.9-2-2-2zM9 17H7v-7h2v7zm4 0h-2V7h2v10zm4 0h-2v-4h2v4z\"/>\n",
              "    </g>\n",
              "</svg>\n",
              "  </button>\n",
              "\n",
              "<style>\n",
              "  .colab-df-quickchart {\n",
              "      --bg-color: #E8F0FE;\n",
              "      --fill-color: #1967D2;\n",
              "      --hover-bg-color: #E2EBFA;\n",
              "      --hover-fill-color: #174EA6;\n",
              "      --disabled-fill-color: #AAA;\n",
              "      --disabled-bg-color: #DDD;\n",
              "  }\n",
              "\n",
              "  [theme=dark] .colab-df-quickchart {\n",
              "      --bg-color: #3B4455;\n",
              "      --fill-color: #D2E3FC;\n",
              "      --hover-bg-color: #434B5C;\n",
              "      --hover-fill-color: #FFFFFF;\n",
              "      --disabled-bg-color: #3B4455;\n",
              "      --disabled-fill-color: #666;\n",
              "  }\n",
              "\n",
              "  .colab-df-quickchart {\n",
              "    background-color: var(--bg-color);\n",
              "    border: none;\n",
              "    border-radius: 50%;\n",
              "    cursor: pointer;\n",
              "    display: none;\n",
              "    fill: var(--fill-color);\n",
              "    height: 32px;\n",
              "    padding: 0;\n",
              "    width: 32px;\n",
              "  }\n",
              "\n",
              "  .colab-df-quickchart:hover {\n",
              "    background-color: var(--hover-bg-color);\n",
              "    box-shadow: 0 1px 2px rgba(60, 64, 67, 0.3), 0 1px 3px 1px rgba(60, 64, 67, 0.15);\n",
              "    fill: var(--button-hover-fill-color);\n",
              "  }\n",
              "\n",
              "  .colab-df-quickchart-complete:disabled,\n",
              "  .colab-df-quickchart-complete:disabled:hover {\n",
              "    background-color: var(--disabled-bg-color);\n",
              "    fill: var(--disabled-fill-color);\n",
              "    box-shadow: none;\n",
              "  }\n",
              "\n",
              "  .colab-df-spinner {\n",
              "    border: 2px solid var(--fill-color);\n",
              "    border-color: transparent;\n",
              "    border-bottom-color: var(--fill-color);\n",
              "    animation:\n",
              "      spin 1s steps(1) infinite;\n",
              "  }\n",
              "\n",
              "  @keyframes spin {\n",
              "    0% {\n",
              "      border-color: transparent;\n",
              "      border-bottom-color: var(--fill-color);\n",
              "      border-left-color: var(--fill-color);\n",
              "    }\n",
              "    20% {\n",
              "      border-color: transparent;\n",
              "      border-left-color: var(--fill-color);\n",
              "      border-top-color: var(--fill-color);\n",
              "    }\n",
              "    30% {\n",
              "      border-color: transparent;\n",
              "      border-left-color: var(--fill-color);\n",
              "      border-top-color: var(--fill-color);\n",
              "      border-right-color: var(--fill-color);\n",
              "    }\n",
              "    40% {\n",
              "      border-color: transparent;\n",
              "      border-right-color: var(--fill-color);\n",
              "      border-top-color: var(--fill-color);\n",
              "    }\n",
              "    60% {\n",
              "      border-color: transparent;\n",
              "      border-right-color: var(--fill-color);\n",
              "    }\n",
              "    80% {\n",
              "      border-color: transparent;\n",
              "      border-right-color: var(--fill-color);\n",
              "      border-bottom-color: var(--fill-color);\n",
              "    }\n",
              "    90% {\n",
              "      border-color: transparent;\n",
              "      border-bottom-color: var(--fill-color);\n",
              "    }\n",
              "  }\n",
              "</style>\n",
              "\n",
              "  <script>\n",
              "    async function quickchart(key) {\n",
              "      const quickchartButtonEl =\n",
              "        document.querySelector('#' + key + ' button');\n",
              "      quickchartButtonEl.disabled = true;  // To prevent multiple clicks.\n",
              "      quickchartButtonEl.classList.add('colab-df-spinner');\n",
              "      try {\n",
              "        const charts = await google.colab.kernel.invokeFunction(\n",
              "            'suggestCharts', [key], {});\n",
              "      } catch (error) {\n",
              "        console.error('Error during call to suggestCharts:', error);\n",
              "      }\n",
              "      quickchartButtonEl.classList.remove('colab-df-spinner');\n",
              "      quickchartButtonEl.classList.add('colab-df-quickchart-complete');\n",
              "    }\n",
              "    (() => {\n",
              "      let quickchartButtonEl =\n",
              "        document.querySelector('#df-f1c0ddb5-4e93-4326-88c4-470a1694c0d9 button');\n",
              "      quickchartButtonEl.style.display =\n",
              "        google.colab.kernel.accessAllowed ? 'block' : 'none';\n",
              "    })();\n",
              "  </script>\n",
              "</div>\n",
              "\n",
              "    </div>\n",
              "  </div>\n"
            ],
            "application/vnd.google.colaboratory.intrinsic+json": {
              "type": "dataframe",
              "summary": "{\n  \"name\": \"dataset\",\n  \"rows\": 10,\n  \"fields\": [\n    {\n      \"column\": \"student_id\",\n      \"properties\": {\n        \"dtype\": \"number\",\n        \"std\": 1,\n        \"min\": 1270,\n        \"max\": 1274,\n        \"num_unique_values\": 5,\n        \"samples\": [\n          1271,\n          1274,\n          1272\n        ],\n        \"semantic_type\": \"\",\n        \"description\": \"\"\n      }\n    },\n    {\n      \"column\": \"course_id\",\n      \"properties\": {\n        \"dtype\": \"number\",\n        \"std\": 8,\n        \"min\": 1,\n        \"max\": 20,\n        \"num_unique_values\": 6,\n        \"samples\": [\n          18,\n          19,\n          20\n        ],\n        \"semantic_type\": \"\",\n        \"description\": \"\"\n      }\n    },\n    {\n      \"column\": \"total\",\n      \"properties\": {\n        \"dtype\": \"number\",\n        \"std\": 0.09678865769175231,\n        \"min\": 0.6983624196150267,\n        \"max\": 0.9676511123020246,\n        \"num_unique_values\": 10,\n        \"samples\": [\n          0.7072573737538871,\n          0.8813874117740904,\n          0.8274725989441315\n        ],\n        \"semantic_type\": \"\",\n        \"description\": \"\"\n      }\n    }\n  ]\n}"
            }
          },
          "metadata": {},
          "execution_count": 480
        }
      ],
      "source": [
        "dataset.tail(10)"
      ]
    },
    {
      "cell_type": "markdown",
      "metadata": {
        "id": "X_y2Kosxvuf6"
      },
      "source": [
        "**Setting Up Training Hyperparameters**\n"
      ]
    },
    {
      "cell_type": "code",
      "execution_count": 481,
      "metadata": {
        "id": "VjRfkWZyvuf6"
      },
      "outputs": [],
      "source": [
        "learning_rate=0.001\n",
        "embedding_size=32\n",
        "batch_size=8\n",
        "epochs=100\n",
        "Top_K=5 #number of items to be recommended\n",
        "\n",
        "\n"
      ]
    },
    {
      "cell_type": "markdown",
      "source": [
        "# **Model Architecture**"
      ],
      "metadata": {
        "id": "tGUk_CyZ3ZNB"
      }
    },
    {
      "cell_type": "markdown",
      "metadata": {
        "id": "fBAaJtesvuf6"
      },
      "source": [
        "## **Matrix Factorizor**\n"
      ]
    },
    {
      "cell_type": "markdown",
      "source": [
        "**MF-Input_Layer**"
      ],
      "metadata": {
        "id": "x97vZ_KL4CyS"
      }
    },
    {
      "cell_type": "code",
      "execution_count": 482,
      "metadata": {
        "id": "vKHTDBwGvuf6"
      },
      "outputs": [],
      "source": [
        "students_input=Input(shape=(1,),name='students_input')\n",
        "courses_input=Input(shape=(1,),name='courses_input')"
      ]
    },
    {
      "cell_type": "markdown",
      "metadata": {
        "id": "VweBpsJMvuf6"
      },
      "source": [
        "**MF-embeddings**\n"
      ]
    },
    {
      "cell_type": "code",
      "execution_count": 483,
      "metadata": {
        "colab": {
          "base_uri": "https://localhost:8080/"
        },
        "id": "Bi_UqHvFvuf6",
        "outputId": "33922696-6e50-4f47-f336-c609761dc8b9"
      },
      "outputs": [
        {
          "output_type": "execute_result",
          "data": {
            "text/plain": [
              "<KerasTensor shape=(None, 1, 32), dtype=float32, sparse=False, name=keras_tensor_121>"
            ]
          },
          "metadata": {},
          "execution_count": 483
        }
      ],
      "source": [
        "mf_students_embeddings=Embedding(num_students,embedding_size,name='mf_students_embeddings')(students_input)\n",
        "mf_courses_embeddings=Embedding(num_courses,embedding_size,name='mf_courses_embeddings')(courses_input)\n",
        "mf_courses_embeddings"
      ]
    },
    {
      "cell_type": "markdown",
      "metadata": {
        "id": "Y-94YWmlvuf6"
      },
      "source": [
        "**Matrix Factorization-Layer**"
      ]
    },
    {
      "cell_type": "code",
      "execution_count": 484,
      "metadata": {
        "id": "l8genOEpvuf7"
      },
      "outputs": [],
      "source": [
        "students_vector_mf=Flatten(name='student_vector_mf')(mf_students_embeddings)\n",
        "courses_vector_mf=Flatten(name='courses_vector_mf')(mf_courses_embeddings)\n",
        "\n",
        "mf_dot_product=Dot(axes=1,name=\"mf_dot_product\")([students_vector_mf,courses_vector_mf])#MF output"
      ]
    },
    {
      "cell_type": "markdown",
      "metadata": {
        "id": "Pdr9Vf0evuf7"
      },
      "source": [
        "## **MultiLayerPreceptron**\n"
      ]
    },
    {
      "cell_type": "markdown",
      "metadata": {
        "id": "Zjr21GpPvuf7"
      },
      "source": [
        "**MLP-Embeddings**"
      ]
    },
    {
      "cell_type": "code",
      "execution_count": 485,
      "metadata": {
        "colab": {
          "base_uri": "https://localhost:8080/"
        },
        "id": "Gxxp8bVJvuf7",
        "outputId": "d865ace4-ff6f-4f07-f032-26c84a02da47"
      },
      "outputs": [
        {
          "output_type": "execute_result",
          "data": {
            "text/plain": [
              "<KerasTensor shape=(None, 1, 32), dtype=float32, sparse=False, name=keras_tensor_126>"
            ]
          },
          "metadata": {},
          "execution_count": 485
        }
      ],
      "source": [
        "mlp_students_embeddings=Embedding(num_students,embedding_size,name='mlp_students_embeddings')(students_input)\n",
        "mlp_courses_embeddings=Embedding(num_courses,embedding_size,name='mlp_courses_embeddings')(courses_input)\n",
        "mlp_courses_embeddings"
      ]
    },
    {
      "cell_type": "code",
      "execution_count": 486,
      "metadata": {
        "colab": {
          "base_uri": "https://localhost:8080/"
        },
        "id": "Z31ErKOCvuf7",
        "outputId": "088b1d52-cbc5-49c5-f1d6-96c3ce56a309"
      },
      "outputs": [
        {
          "output_type": "execute_result",
          "data": {
            "text/plain": [
              "<KerasTensor shape=(None, 64), dtype=float32, sparse=False, name=keras_tensor_129>"
            ]
          },
          "metadata": {},
          "execution_count": 486
        }
      ],
      "source": [
        "mlp_students_vector=Flatten(name='mlp_student_vector')(mlp_students_embeddings)\n",
        "mlp_courses_vector=Flatten(name='mlp_courses_vector')(mlp_courses_embeddings)\n",
        "mlp_concat_vector=Concatenate()([mlp_students_vector,mlp_courses_vector])\n",
        "mlp_concat_vector"
      ]
    },
    {
      "cell_type": "markdown",
      "metadata": {
        "id": "3pR_v0Wxvuf7"
      },
      "source": [
        "**MLP-layer**"
      ]
    },
    {
      "cell_type": "code",
      "execution_count": 487,
      "metadata": {
        "id": "RMRF0bwpvuf7"
      },
      "outputs": [],
      "source": [
        "layer1=Dense(units=128,activation='relu',name=\"layer1\")(mlp_concat_vector)\n",
        "layer1_batch_normalization=BatchNormalization(name=\"layer1_batch_normalization\")(layer1)\n",
        "layer1_drop_out=Dropout(0.5)(layer1_batch_normalization)\n",
        "\n",
        "layer2=Dense(units=64,activation='relu',name=\"layer2\")(layer1_drop_out)\n",
        "layer2_batch_normalization=BatchNormalization(name=\"layer2_batch_normalization\")(layer2)\n",
        "layer2_drop_out=Dropout(0.5)(layer2_batch_normalization)\n",
        "\n",
        "layer3=Dense(units=32,activation='relu',name=\"layer3\")(layer2_drop_out)\n"
      ]
    },
    {
      "cell_type": "markdown",
      "metadata": {
        "id": "Zk4akKtLvuf_"
      },
      "source": [
        "## **NeuMF-Model**"
      ]
    },
    {
      "cell_type": "code",
      "execution_count": 488,
      "metadata": {
        "id": "p7PD3UYevuf_"
      },
      "outputs": [],
      "source": [
        "neumf_layer=Concatenate()([mf_dot_product,layer3])\n",
        "neumf_drop_out=Dropout(0.5)(neumf_layer)\n",
        "out=Dense(units=1,activation='relu',name=\"out\")(neumf_drop_out)"
      ]
    },
    {
      "cell_type": "markdown",
      "source": [
        "# **Training**"
      ],
      "metadata": {
        "id": "FQ0zsCOF43qA"
      }
    },
    {
      "cell_type": "markdown",
      "metadata": {
        "id": "mhg4GTZcvuf5"
      },
      "source": [
        "**Train/Test Splitting**\n"
      ]
    },
    {
      "cell_type": "code",
      "execution_count": 489,
      "metadata": {
        "colab": {
          "base_uri": "https://localhost:8080/"
        },
        "id": "10oLKfGUvuf5",
        "outputId": "e171bc05-7c56-49dd-897f-e1ed126cbe9d"
      },
      "outputs": [
        {
          "output_type": "stream",
          "name": "stdout",
          "text": [
            "Training Samples Size:6744\n",
            "Validation Samples Size:1687.\n"
          ]
        }
      ],
      "source": [
        "train,validation = train_test_split(dataset, test_size=0.20, random_state=43)\n",
        "\n",
        "print(f\"Training Samples Size:{train.shape[0]}\")\n",
        "print(f\"Validation Samples Size:{validation.shape[0]}.\")"
      ]
    },
    {
      "cell_type": "code",
      "execution_count": 490,
      "metadata": {
        "id": "rwvzTDkavugA"
      },
      "outputs": [],
      "source": [
        "train_inputs = [train['student_id'], train['course_id']]\n",
        "train_target = train['total']\n",
        "\n",
        "validation_inputs = [validation['student_id'], validation['course_id']]\n",
        "validation_target = validation['total']\n",
        "\n",
        "early_stopping = EarlyStopping(monitor='val_loss',verbose=1, restore_best_weights=True,patience=4)\n"
      ]
    },
    {
      "cell_type": "markdown",
      "source": [
        "**Samples weighting for training**"
      ],
      "metadata": {
        "id": "sQXd3zos9zah"
      }
    },
    {
      "cell_type": "code",
      "source": [
        "weights = np.where(train_target <= 0.6,4, 1)  # Higher weight for 'total' <= 60 (Failed) as we don't want to recommend courses with high likelhood of failure\n"
      ],
      "metadata": {
        "id": "MOowdGNB986l"
      },
      "execution_count": 491,
      "outputs": []
    },
    {
      "cell_type": "markdown",
      "metadata": {
        "id": "LuUBLfDsvuf_"
      },
      "source": [
        "**Model Creation**"
      ]
    },
    {
      "cell_type": "code",
      "execution_count": 492,
      "metadata": {
        "colab": {
          "base_uri": "https://localhost:8080/",
          "height": 1000
        },
        "id": "79qSzDTnvuf_",
        "outputId": "627a16de-c6b9-4079-f03f-834d7098978d"
      },
      "outputs": [
        {
          "output_type": "display_data",
          "data": {
            "text/plain": [
              "\u001b[1mModel: \"model\"\u001b[0m\n"
            ],
            "text/html": [
              "<pre style=\"white-space:pre;overflow-x:auto;line-height:normal;font-family:Menlo,'DejaVu Sans Mono',consolas,'Courier New',monospace\"><span style=\"font-weight: bold\">Model: \"model\"</span>\n",
              "</pre>\n"
            ]
          },
          "metadata": {}
        },
        {
          "output_type": "display_data",
          "data": {
            "text/plain": [
              "┏━━━━━━━━━━━━━━━━━━━━━━━━━━━┳━━━━━━━━━━━━━━━━━━━━━━━━┳━━━━━━━━━━━━━━━━┳━━━━━━━━━━━━━━━━━━━━━━━━┓\n",
              "┃\u001b[1m \u001b[0m\u001b[1mLayer (type)             \u001b[0m\u001b[1m \u001b[0m┃\u001b[1m \u001b[0m\u001b[1mOutput Shape          \u001b[0m\u001b[1m \u001b[0m┃\u001b[1m \u001b[0m\u001b[1m       Param #\u001b[0m\u001b[1m \u001b[0m┃\u001b[1m \u001b[0m\u001b[1mConnected to          \u001b[0m\u001b[1m \u001b[0m┃\n",
              "┡━━━━━━━━━━━━━━━━━━━━━━━━━━━╇━━━━━━━━━━━━━━━━━━━━━━━━╇━━━━━━━━━━━━━━━━╇━━━━━━━━━━━━━━━━━━━━━━━━┩\n",
              "│ students_input            │ (\u001b[38;5;45mNone\u001b[0m, \u001b[38;5;34m1\u001b[0m)              │              \u001b[38;5;34m0\u001b[0m │ -                      │\n",
              "│ (\u001b[38;5;33mInputLayer\u001b[0m)              │                        │                │                        │\n",
              "├───────────────────────────┼────────────────────────┼────────────────┼────────────────────────┤\n",
              "│ courses_input             │ (\u001b[38;5;45mNone\u001b[0m, \u001b[38;5;34m1\u001b[0m)              │              \u001b[38;5;34m0\u001b[0m │ -                      │\n",
              "│ (\u001b[38;5;33mInputLayer\u001b[0m)              │                        │                │                        │\n",
              "├───────────────────────────┼────────────────────────┼────────────────┼────────────────────────┤\n",
              "│ mlp_students_embeddings   │ (\u001b[38;5;45mNone\u001b[0m, \u001b[38;5;34m1\u001b[0m, \u001b[38;5;34m32\u001b[0m)          │         \u001b[38;5;34m40,800\u001b[0m │ students_input[\u001b[38;5;34m0\u001b[0m][\u001b[38;5;34m0\u001b[0m]   │\n",
              "│ (\u001b[38;5;33mEmbedding\u001b[0m)               │                        │                │                        │\n",
              "├───────────────────────────┼────────────────────────┼────────────────┼────────────────────────┤\n",
              "│ mlp_courses_embeddings    │ (\u001b[38;5;45mNone\u001b[0m, \u001b[38;5;34m1\u001b[0m, \u001b[38;5;34m32\u001b[0m)          │            \u001b[38;5;34m736\u001b[0m │ courses_input[\u001b[38;5;34m0\u001b[0m][\u001b[38;5;34m0\u001b[0m]    │\n",
              "│ (\u001b[38;5;33mEmbedding\u001b[0m)               │                        │                │                        │\n",
              "├───────────────────────────┼────────────────────────┼────────────────┼────────────────────────┤\n",
              "│ mlp_student_vector        │ (\u001b[38;5;45mNone\u001b[0m, \u001b[38;5;34m32\u001b[0m)             │              \u001b[38;5;34m0\u001b[0m │ mlp_students_embeddin… │\n",
              "│ (\u001b[38;5;33mFlatten\u001b[0m)                 │                        │                │                        │\n",
              "├───────────────────────────┼────────────────────────┼────────────────┼────────────────────────┤\n",
              "│ mlp_courses_vector        │ (\u001b[38;5;45mNone\u001b[0m, \u001b[38;5;34m32\u001b[0m)             │              \u001b[38;5;34m0\u001b[0m │ mlp_courses_embedding… │\n",
              "│ (\u001b[38;5;33mFlatten\u001b[0m)                 │                        │                │                        │\n",
              "├───────────────────────────┼────────────────────────┼────────────────┼────────────────────────┤\n",
              "│ concatenate_12            │ (\u001b[38;5;45mNone\u001b[0m, \u001b[38;5;34m64\u001b[0m)             │              \u001b[38;5;34m0\u001b[0m │ mlp_student_vector[\u001b[38;5;34m0\u001b[0m]… │\n",
              "│ (\u001b[38;5;33mConcatenate\u001b[0m)             │                        │                │ mlp_courses_vector[\u001b[38;5;34m0\u001b[0m]… │\n",
              "├───────────────────────────┼────────────────────────┼────────────────┼────────────────────────┤\n",
              "│ layer1 (\u001b[38;5;33mDense\u001b[0m)            │ (\u001b[38;5;45mNone\u001b[0m, \u001b[38;5;34m128\u001b[0m)            │          \u001b[38;5;34m8,320\u001b[0m │ concatenate_12[\u001b[38;5;34m0\u001b[0m][\u001b[38;5;34m0\u001b[0m]   │\n",
              "├───────────────────────────┼────────────────────────┼────────────────┼────────────────────────┤\n",
              "│ layer1_batch_normalizati… │ (\u001b[38;5;45mNone\u001b[0m, \u001b[38;5;34m128\u001b[0m)            │            \u001b[38;5;34m512\u001b[0m │ layer1[\u001b[38;5;34m0\u001b[0m][\u001b[38;5;34m0\u001b[0m]           │\n",
              "│ (\u001b[38;5;33mBatchNormalization\u001b[0m)      │                        │                │                        │\n",
              "├───────────────────────────┼────────────────────────┼────────────────┼────────────────────────┤\n",
              "│ dropout_18 (\u001b[38;5;33mDropout\u001b[0m)      │ (\u001b[38;5;45mNone\u001b[0m, \u001b[38;5;34m128\u001b[0m)            │              \u001b[38;5;34m0\u001b[0m │ layer1_batch_normaliz… │\n",
              "├───────────────────────────┼────────────────────────┼────────────────┼────────────────────────┤\n",
              "│ layer2 (\u001b[38;5;33mDense\u001b[0m)            │ (\u001b[38;5;45mNone\u001b[0m, \u001b[38;5;34m64\u001b[0m)             │          \u001b[38;5;34m8,256\u001b[0m │ dropout_18[\u001b[38;5;34m0\u001b[0m][\u001b[38;5;34m0\u001b[0m]       │\n",
              "├───────────────────────────┼────────────────────────┼────────────────┼────────────────────────┤\n",
              "│ mf_students_embeddings    │ (\u001b[38;5;45mNone\u001b[0m, \u001b[38;5;34m1\u001b[0m, \u001b[38;5;34m32\u001b[0m)          │         \u001b[38;5;34m40,800\u001b[0m │ students_input[\u001b[38;5;34m0\u001b[0m][\u001b[38;5;34m0\u001b[0m]   │\n",
              "│ (\u001b[38;5;33mEmbedding\u001b[0m)               │                        │                │                        │\n",
              "├───────────────────────────┼────────────────────────┼────────────────┼────────────────────────┤\n",
              "│ mf_courses_embeddings     │ (\u001b[38;5;45mNone\u001b[0m, \u001b[38;5;34m1\u001b[0m, \u001b[38;5;34m32\u001b[0m)          │            \u001b[38;5;34m736\u001b[0m │ courses_input[\u001b[38;5;34m0\u001b[0m][\u001b[38;5;34m0\u001b[0m]    │\n",
              "│ (\u001b[38;5;33mEmbedding\u001b[0m)               │                        │                │                        │\n",
              "├───────────────────────────┼────────────────────────┼────────────────┼────────────────────────┤\n",
              "│ layer2_batch_normalizati… │ (\u001b[38;5;45mNone\u001b[0m, \u001b[38;5;34m64\u001b[0m)             │            \u001b[38;5;34m256\u001b[0m │ layer2[\u001b[38;5;34m0\u001b[0m][\u001b[38;5;34m0\u001b[0m]           │\n",
              "│ (\u001b[38;5;33mBatchNormalization\u001b[0m)      │                        │                │                        │\n",
              "├───────────────────────────┼────────────────────────┼────────────────┼────────────────────────┤\n",
              "│ student_vector_mf         │ (\u001b[38;5;45mNone\u001b[0m, \u001b[38;5;34m32\u001b[0m)             │              \u001b[38;5;34m0\u001b[0m │ mf_students_embedding… │\n",
              "│ (\u001b[38;5;33mFlatten\u001b[0m)                 │                        │                │                        │\n",
              "├───────────────────────────┼────────────────────────┼────────────────┼────────────────────────┤\n",
              "│ courses_vector_mf         │ (\u001b[38;5;45mNone\u001b[0m, \u001b[38;5;34m32\u001b[0m)             │              \u001b[38;5;34m0\u001b[0m │ mf_courses_embeddings… │\n",
              "│ (\u001b[38;5;33mFlatten\u001b[0m)                 │                        │                │                        │\n",
              "├───────────────────────────┼────────────────────────┼────────────────┼────────────────────────┤\n",
              "│ dropout_19 (\u001b[38;5;33mDropout\u001b[0m)      │ (\u001b[38;5;45mNone\u001b[0m, \u001b[38;5;34m64\u001b[0m)             │              \u001b[38;5;34m0\u001b[0m │ layer2_batch_normaliz… │\n",
              "├───────────────────────────┼────────────────────────┼────────────────┼────────────────────────┤\n",
              "│ mf_dot_product (\u001b[38;5;33mDot\u001b[0m)      │ (\u001b[38;5;45mNone\u001b[0m, \u001b[38;5;34m1\u001b[0m)              │              \u001b[38;5;34m0\u001b[0m │ student_vector_mf[\u001b[38;5;34m0\u001b[0m][\u001b[38;5;34m…\u001b[0m │\n",
              "│                           │                        │                │ courses_vector_mf[\u001b[38;5;34m0\u001b[0m][\u001b[38;5;34m…\u001b[0m │\n",
              "├───────────────────────────┼────────────────────────┼────────────────┼────────────────────────┤\n",
              "│ layer3 (\u001b[38;5;33mDense\u001b[0m)            │ (\u001b[38;5;45mNone\u001b[0m, \u001b[38;5;34m32\u001b[0m)             │          \u001b[38;5;34m2,080\u001b[0m │ dropout_19[\u001b[38;5;34m0\u001b[0m][\u001b[38;5;34m0\u001b[0m]       │\n",
              "├───────────────────────────┼────────────────────────┼────────────────┼────────────────────────┤\n",
              "│ concatenate_13            │ (\u001b[38;5;45mNone\u001b[0m, \u001b[38;5;34m33\u001b[0m)             │              \u001b[38;5;34m0\u001b[0m │ mf_dot_product[\u001b[38;5;34m0\u001b[0m][\u001b[38;5;34m0\u001b[0m],  │\n",
              "│ (\u001b[38;5;33mConcatenate\u001b[0m)             │                        │                │ layer3[\u001b[38;5;34m0\u001b[0m][\u001b[38;5;34m0\u001b[0m]           │\n",
              "├───────────────────────────┼────────────────────────┼────────────────┼────────────────────────┤\n",
              "│ dropout_20 (\u001b[38;5;33mDropout\u001b[0m)      │ (\u001b[38;5;45mNone\u001b[0m, \u001b[38;5;34m33\u001b[0m)             │              \u001b[38;5;34m0\u001b[0m │ concatenate_13[\u001b[38;5;34m0\u001b[0m][\u001b[38;5;34m0\u001b[0m]   │\n",
              "├───────────────────────────┼────────────────────────┼────────────────┼────────────────────────┤\n",
              "│ out (\u001b[38;5;33mDense\u001b[0m)               │ (\u001b[38;5;45mNone\u001b[0m, \u001b[38;5;34m1\u001b[0m)              │             \u001b[38;5;34m34\u001b[0m │ dropout_20[\u001b[38;5;34m0\u001b[0m][\u001b[38;5;34m0\u001b[0m]       │\n",
              "└───────────────────────────┴────────────────────────┴────────────────┴────────────────────────┘\n"
            ],
            "text/html": [
              "<pre style=\"white-space:pre;overflow-x:auto;line-height:normal;font-family:Menlo,'DejaVu Sans Mono',consolas,'Courier New',monospace\">┏━━━━━━━━━━━━━━━━━━━━━━━━━━━┳━━━━━━━━━━━━━━━━━━━━━━━━┳━━━━━━━━━━━━━━━━┳━━━━━━━━━━━━━━━━━━━━━━━━┓\n",
              "┃<span style=\"font-weight: bold\"> Layer (type)              </span>┃<span style=\"font-weight: bold\"> Output Shape           </span>┃<span style=\"font-weight: bold\">        Param # </span>┃<span style=\"font-weight: bold\"> Connected to           </span>┃\n",
              "┡━━━━━━━━━━━━━━━━━━━━━━━━━━━╇━━━━━━━━━━━━━━━━━━━━━━━━╇━━━━━━━━━━━━━━━━╇━━━━━━━━━━━━━━━━━━━━━━━━┩\n",
              "│ students_input            │ (<span style=\"color: #00d7ff; text-decoration-color: #00d7ff\">None</span>, <span style=\"color: #00af00; text-decoration-color: #00af00\">1</span>)              │              <span style=\"color: #00af00; text-decoration-color: #00af00\">0</span> │ -                      │\n",
              "│ (<span style=\"color: #0087ff; text-decoration-color: #0087ff\">InputLayer</span>)              │                        │                │                        │\n",
              "├───────────────────────────┼────────────────────────┼────────────────┼────────────────────────┤\n",
              "│ courses_input             │ (<span style=\"color: #00d7ff; text-decoration-color: #00d7ff\">None</span>, <span style=\"color: #00af00; text-decoration-color: #00af00\">1</span>)              │              <span style=\"color: #00af00; text-decoration-color: #00af00\">0</span> │ -                      │\n",
              "│ (<span style=\"color: #0087ff; text-decoration-color: #0087ff\">InputLayer</span>)              │                        │                │                        │\n",
              "├───────────────────────────┼────────────────────────┼────────────────┼────────────────────────┤\n",
              "│ mlp_students_embeddings   │ (<span style=\"color: #00d7ff; text-decoration-color: #00d7ff\">None</span>, <span style=\"color: #00af00; text-decoration-color: #00af00\">1</span>, <span style=\"color: #00af00; text-decoration-color: #00af00\">32</span>)          │         <span style=\"color: #00af00; text-decoration-color: #00af00\">40,800</span> │ students_input[<span style=\"color: #00af00; text-decoration-color: #00af00\">0</span>][<span style=\"color: #00af00; text-decoration-color: #00af00\">0</span>]   │\n",
              "│ (<span style=\"color: #0087ff; text-decoration-color: #0087ff\">Embedding</span>)               │                        │                │                        │\n",
              "├───────────────────────────┼────────────────────────┼────────────────┼────────────────────────┤\n",
              "│ mlp_courses_embeddings    │ (<span style=\"color: #00d7ff; text-decoration-color: #00d7ff\">None</span>, <span style=\"color: #00af00; text-decoration-color: #00af00\">1</span>, <span style=\"color: #00af00; text-decoration-color: #00af00\">32</span>)          │            <span style=\"color: #00af00; text-decoration-color: #00af00\">736</span> │ courses_input[<span style=\"color: #00af00; text-decoration-color: #00af00\">0</span>][<span style=\"color: #00af00; text-decoration-color: #00af00\">0</span>]    │\n",
              "│ (<span style=\"color: #0087ff; text-decoration-color: #0087ff\">Embedding</span>)               │                        │                │                        │\n",
              "├───────────────────────────┼────────────────────────┼────────────────┼────────────────────────┤\n",
              "│ mlp_student_vector        │ (<span style=\"color: #00d7ff; text-decoration-color: #00d7ff\">None</span>, <span style=\"color: #00af00; text-decoration-color: #00af00\">32</span>)             │              <span style=\"color: #00af00; text-decoration-color: #00af00\">0</span> │ mlp_students_embeddin… │\n",
              "│ (<span style=\"color: #0087ff; text-decoration-color: #0087ff\">Flatten</span>)                 │                        │                │                        │\n",
              "├───────────────────────────┼────────────────────────┼────────────────┼────────────────────────┤\n",
              "│ mlp_courses_vector        │ (<span style=\"color: #00d7ff; text-decoration-color: #00d7ff\">None</span>, <span style=\"color: #00af00; text-decoration-color: #00af00\">32</span>)             │              <span style=\"color: #00af00; text-decoration-color: #00af00\">0</span> │ mlp_courses_embedding… │\n",
              "│ (<span style=\"color: #0087ff; text-decoration-color: #0087ff\">Flatten</span>)                 │                        │                │                        │\n",
              "├───────────────────────────┼────────────────────────┼────────────────┼────────────────────────┤\n",
              "│ concatenate_12            │ (<span style=\"color: #00d7ff; text-decoration-color: #00d7ff\">None</span>, <span style=\"color: #00af00; text-decoration-color: #00af00\">64</span>)             │              <span style=\"color: #00af00; text-decoration-color: #00af00\">0</span> │ mlp_student_vector[<span style=\"color: #00af00; text-decoration-color: #00af00\">0</span>]… │\n",
              "│ (<span style=\"color: #0087ff; text-decoration-color: #0087ff\">Concatenate</span>)             │                        │                │ mlp_courses_vector[<span style=\"color: #00af00; text-decoration-color: #00af00\">0</span>]… │\n",
              "├───────────────────────────┼────────────────────────┼────────────────┼────────────────────────┤\n",
              "│ layer1 (<span style=\"color: #0087ff; text-decoration-color: #0087ff\">Dense</span>)            │ (<span style=\"color: #00d7ff; text-decoration-color: #00d7ff\">None</span>, <span style=\"color: #00af00; text-decoration-color: #00af00\">128</span>)            │          <span style=\"color: #00af00; text-decoration-color: #00af00\">8,320</span> │ concatenate_12[<span style=\"color: #00af00; text-decoration-color: #00af00\">0</span>][<span style=\"color: #00af00; text-decoration-color: #00af00\">0</span>]   │\n",
              "├───────────────────────────┼────────────────────────┼────────────────┼────────────────────────┤\n",
              "│ layer1_batch_normalizati… │ (<span style=\"color: #00d7ff; text-decoration-color: #00d7ff\">None</span>, <span style=\"color: #00af00; text-decoration-color: #00af00\">128</span>)            │            <span style=\"color: #00af00; text-decoration-color: #00af00\">512</span> │ layer1[<span style=\"color: #00af00; text-decoration-color: #00af00\">0</span>][<span style=\"color: #00af00; text-decoration-color: #00af00\">0</span>]           │\n",
              "│ (<span style=\"color: #0087ff; text-decoration-color: #0087ff\">BatchNormalization</span>)      │                        │                │                        │\n",
              "├───────────────────────────┼────────────────────────┼────────────────┼────────────────────────┤\n",
              "│ dropout_18 (<span style=\"color: #0087ff; text-decoration-color: #0087ff\">Dropout</span>)      │ (<span style=\"color: #00d7ff; text-decoration-color: #00d7ff\">None</span>, <span style=\"color: #00af00; text-decoration-color: #00af00\">128</span>)            │              <span style=\"color: #00af00; text-decoration-color: #00af00\">0</span> │ layer1_batch_normaliz… │\n",
              "├───────────────────────────┼────────────────────────┼────────────────┼────────────────────────┤\n",
              "│ layer2 (<span style=\"color: #0087ff; text-decoration-color: #0087ff\">Dense</span>)            │ (<span style=\"color: #00d7ff; text-decoration-color: #00d7ff\">None</span>, <span style=\"color: #00af00; text-decoration-color: #00af00\">64</span>)             │          <span style=\"color: #00af00; text-decoration-color: #00af00\">8,256</span> │ dropout_18[<span style=\"color: #00af00; text-decoration-color: #00af00\">0</span>][<span style=\"color: #00af00; text-decoration-color: #00af00\">0</span>]       │\n",
              "├───────────────────────────┼────────────────────────┼────────────────┼────────────────────────┤\n",
              "│ mf_students_embeddings    │ (<span style=\"color: #00d7ff; text-decoration-color: #00d7ff\">None</span>, <span style=\"color: #00af00; text-decoration-color: #00af00\">1</span>, <span style=\"color: #00af00; text-decoration-color: #00af00\">32</span>)          │         <span style=\"color: #00af00; text-decoration-color: #00af00\">40,800</span> │ students_input[<span style=\"color: #00af00; text-decoration-color: #00af00\">0</span>][<span style=\"color: #00af00; text-decoration-color: #00af00\">0</span>]   │\n",
              "│ (<span style=\"color: #0087ff; text-decoration-color: #0087ff\">Embedding</span>)               │                        │                │                        │\n",
              "├───────────────────────────┼────────────────────────┼────────────────┼────────────────────────┤\n",
              "│ mf_courses_embeddings     │ (<span style=\"color: #00d7ff; text-decoration-color: #00d7ff\">None</span>, <span style=\"color: #00af00; text-decoration-color: #00af00\">1</span>, <span style=\"color: #00af00; text-decoration-color: #00af00\">32</span>)          │            <span style=\"color: #00af00; text-decoration-color: #00af00\">736</span> │ courses_input[<span style=\"color: #00af00; text-decoration-color: #00af00\">0</span>][<span style=\"color: #00af00; text-decoration-color: #00af00\">0</span>]    │\n",
              "│ (<span style=\"color: #0087ff; text-decoration-color: #0087ff\">Embedding</span>)               │                        │                │                        │\n",
              "├───────────────────────────┼────────────────────────┼────────────────┼────────────────────────┤\n",
              "│ layer2_batch_normalizati… │ (<span style=\"color: #00d7ff; text-decoration-color: #00d7ff\">None</span>, <span style=\"color: #00af00; text-decoration-color: #00af00\">64</span>)             │            <span style=\"color: #00af00; text-decoration-color: #00af00\">256</span> │ layer2[<span style=\"color: #00af00; text-decoration-color: #00af00\">0</span>][<span style=\"color: #00af00; text-decoration-color: #00af00\">0</span>]           │\n",
              "│ (<span style=\"color: #0087ff; text-decoration-color: #0087ff\">BatchNormalization</span>)      │                        │                │                        │\n",
              "├───────────────────────────┼────────────────────────┼────────────────┼────────────────────────┤\n",
              "│ student_vector_mf         │ (<span style=\"color: #00d7ff; text-decoration-color: #00d7ff\">None</span>, <span style=\"color: #00af00; text-decoration-color: #00af00\">32</span>)             │              <span style=\"color: #00af00; text-decoration-color: #00af00\">0</span> │ mf_students_embedding… │\n",
              "│ (<span style=\"color: #0087ff; text-decoration-color: #0087ff\">Flatten</span>)                 │                        │                │                        │\n",
              "├───────────────────────────┼────────────────────────┼────────────────┼────────────────────────┤\n",
              "│ courses_vector_mf         │ (<span style=\"color: #00d7ff; text-decoration-color: #00d7ff\">None</span>, <span style=\"color: #00af00; text-decoration-color: #00af00\">32</span>)             │              <span style=\"color: #00af00; text-decoration-color: #00af00\">0</span> │ mf_courses_embeddings… │\n",
              "│ (<span style=\"color: #0087ff; text-decoration-color: #0087ff\">Flatten</span>)                 │                        │                │                        │\n",
              "├───────────────────────────┼────────────────────────┼────────────────┼────────────────────────┤\n",
              "│ dropout_19 (<span style=\"color: #0087ff; text-decoration-color: #0087ff\">Dropout</span>)      │ (<span style=\"color: #00d7ff; text-decoration-color: #00d7ff\">None</span>, <span style=\"color: #00af00; text-decoration-color: #00af00\">64</span>)             │              <span style=\"color: #00af00; text-decoration-color: #00af00\">0</span> │ layer2_batch_normaliz… │\n",
              "├───────────────────────────┼────────────────────────┼────────────────┼────────────────────────┤\n",
              "│ mf_dot_product (<span style=\"color: #0087ff; text-decoration-color: #0087ff\">Dot</span>)      │ (<span style=\"color: #00d7ff; text-decoration-color: #00d7ff\">None</span>, <span style=\"color: #00af00; text-decoration-color: #00af00\">1</span>)              │              <span style=\"color: #00af00; text-decoration-color: #00af00\">0</span> │ student_vector_mf[<span style=\"color: #00af00; text-decoration-color: #00af00\">0</span>][<span style=\"color: #00af00; text-decoration-color: #00af00\">…</span> │\n",
              "│                           │                        │                │ courses_vector_mf[<span style=\"color: #00af00; text-decoration-color: #00af00\">0</span>][<span style=\"color: #00af00; text-decoration-color: #00af00\">…</span> │\n",
              "├───────────────────────────┼────────────────────────┼────────────────┼────────────────────────┤\n",
              "│ layer3 (<span style=\"color: #0087ff; text-decoration-color: #0087ff\">Dense</span>)            │ (<span style=\"color: #00d7ff; text-decoration-color: #00d7ff\">None</span>, <span style=\"color: #00af00; text-decoration-color: #00af00\">32</span>)             │          <span style=\"color: #00af00; text-decoration-color: #00af00\">2,080</span> │ dropout_19[<span style=\"color: #00af00; text-decoration-color: #00af00\">0</span>][<span style=\"color: #00af00; text-decoration-color: #00af00\">0</span>]       │\n",
              "├───────────────────────────┼────────────────────────┼────────────────┼────────────────────────┤\n",
              "│ concatenate_13            │ (<span style=\"color: #00d7ff; text-decoration-color: #00d7ff\">None</span>, <span style=\"color: #00af00; text-decoration-color: #00af00\">33</span>)             │              <span style=\"color: #00af00; text-decoration-color: #00af00\">0</span> │ mf_dot_product[<span style=\"color: #00af00; text-decoration-color: #00af00\">0</span>][<span style=\"color: #00af00; text-decoration-color: #00af00\">0</span>],  │\n",
              "│ (<span style=\"color: #0087ff; text-decoration-color: #0087ff\">Concatenate</span>)             │                        │                │ layer3[<span style=\"color: #00af00; text-decoration-color: #00af00\">0</span>][<span style=\"color: #00af00; text-decoration-color: #00af00\">0</span>]           │\n",
              "├───────────────────────────┼────────────────────────┼────────────────┼────────────────────────┤\n",
              "│ dropout_20 (<span style=\"color: #0087ff; text-decoration-color: #0087ff\">Dropout</span>)      │ (<span style=\"color: #00d7ff; text-decoration-color: #00d7ff\">None</span>, <span style=\"color: #00af00; text-decoration-color: #00af00\">33</span>)             │              <span style=\"color: #00af00; text-decoration-color: #00af00\">0</span> │ concatenate_13[<span style=\"color: #00af00; text-decoration-color: #00af00\">0</span>][<span style=\"color: #00af00; text-decoration-color: #00af00\">0</span>]   │\n",
              "├───────────────────────────┼────────────────────────┼────────────────┼────────────────────────┤\n",
              "│ out (<span style=\"color: #0087ff; text-decoration-color: #0087ff\">Dense</span>)               │ (<span style=\"color: #00d7ff; text-decoration-color: #00d7ff\">None</span>, <span style=\"color: #00af00; text-decoration-color: #00af00\">1</span>)              │             <span style=\"color: #00af00; text-decoration-color: #00af00\">34</span> │ dropout_20[<span style=\"color: #00af00; text-decoration-color: #00af00\">0</span>][<span style=\"color: #00af00; text-decoration-color: #00af00\">0</span>]       │\n",
              "└───────────────────────────┴────────────────────────┴────────────────┴────────────────────────┘\n",
              "</pre>\n"
            ]
          },
          "metadata": {}
        },
        {
          "output_type": "display_data",
          "data": {
            "text/plain": [
              "\u001b[1m Total params: \u001b[0m\u001b[38;5;34m102,530\u001b[0m (400.51 KB)\n"
            ],
            "text/html": [
              "<pre style=\"white-space:pre;overflow-x:auto;line-height:normal;font-family:Menlo,'DejaVu Sans Mono',consolas,'Courier New',monospace\"><span style=\"font-weight: bold\"> Total params: </span><span style=\"color: #00af00; text-decoration-color: #00af00\">102,530</span> (400.51 KB)\n",
              "</pre>\n"
            ]
          },
          "metadata": {}
        },
        {
          "output_type": "display_data",
          "data": {
            "text/plain": [
              "\u001b[1m Trainable params: \u001b[0m\u001b[38;5;34m102,146\u001b[0m (399.01 KB)\n"
            ],
            "text/html": [
              "<pre style=\"white-space:pre;overflow-x:auto;line-height:normal;font-family:Menlo,'DejaVu Sans Mono',consolas,'Courier New',monospace\"><span style=\"font-weight: bold\"> Trainable params: </span><span style=\"color: #00af00; text-decoration-color: #00af00\">102,146</span> (399.01 KB)\n",
              "</pre>\n"
            ]
          },
          "metadata": {}
        },
        {
          "output_type": "display_data",
          "data": {
            "text/plain": [
              "\u001b[1m Non-trainable params: \u001b[0m\u001b[38;5;34m384\u001b[0m (1.50 KB)\n"
            ],
            "text/html": [
              "<pre style=\"white-space:pre;overflow-x:auto;line-height:normal;font-family:Menlo,'DejaVu Sans Mono',consolas,'Courier New',monospace\"><span style=\"font-weight: bold\"> Non-trainable params: </span><span style=\"color: #00af00; text-decoration-color: #00af00\">384</span> (1.50 KB)\n",
              "</pre>\n"
            ]
          },
          "metadata": {}
        }
      ],
      "source": [
        "model=Model(inputs=[students_input,courses_input],outputs=out,name=\"model\")\n",
        "model.compile(optimizer=Adam(learning_rate=learning_rate),loss=\"MAE\")\n",
        "model.summary()"
      ]
    },
    {
      "cell_type": "code",
      "execution_count": 493,
      "metadata": {
        "id": "UtHyXRi8vugA"
      },
      "outputs": [],
      "source": [
        "#pip install tensorflow-gpu\n"
      ]
    },
    {
      "cell_type": "code",
      "execution_count": 494,
      "metadata": {
        "colab": {
          "base_uri": "https://localhost:8080/",
          "height": 36
        },
        "id": "zfTVBKxdvugA",
        "outputId": "55bc5b7f-a983-4770-99a8-4842dba6a652"
      },
      "outputs": [
        {
          "output_type": "execute_result",
          "data": {
            "text/plain": [
              "\"import tensorflow as tf\\nprint(tf.config.list_physical_devices('GPU'))\""
            ],
            "application/vnd.google.colaboratory.intrinsic+json": {
              "type": "string"
            }
          },
          "metadata": {},
          "execution_count": 494
        }
      ],
      "source": [
        "'''import tensorflow as tf\n",
        "print(tf.config.list_physical_devices('GPU'))'''"
      ]
    },
    {
      "cell_type": "markdown",
      "metadata": {
        "id": "FS_d-D59CNTl"
      },
      "source": [
        "**Training Loop**"
      ]
    },
    {
      "cell_type": "code",
      "execution_count": 495,
      "metadata": {
        "colab": {
          "base_uri": "https://localhost:8080/"
        },
        "id": "-xhKJ48yvugA",
        "outputId": "00164657-8beb-4ca6-d948-68001fe67eb8"
      },
      "outputs": [
        {
          "output_type": "stream",
          "name": "stdout",
          "text": [
            "Epoch 1/100\n",
            "\u001b[1m843/843\u001b[0m \u001b[32m━━━━━━━━━━━━━━━━━━━━\u001b[0m\u001b[37m\u001b[0m \u001b[1m6s\u001b[0m 3ms/step - loss: 1.0153 - val_loss: 0.7452\n",
            "Epoch 2/100\n",
            "\u001b[1m843/843\u001b[0m \u001b[32m━━━━━━━━━━━━━━━━━━━━\u001b[0m\u001b[37m\u001b[0m \u001b[1m5s\u001b[0m 3ms/step - loss: 0.9732 - val_loss: 0.6669\n",
            "Epoch 3/100\n",
            "\u001b[1m843/843\u001b[0m \u001b[32m━━━━━━━━━━━━━━━━━━━━\u001b[0m\u001b[37m\u001b[0m \u001b[1m3s\u001b[0m 4ms/step - loss: 0.8875 - val_loss: 0.3422\n",
            "Epoch 4/100\n",
            "\u001b[1m843/843\u001b[0m \u001b[32m━━━━━━━━━━━━━━━━━━━━\u001b[0m\u001b[37m\u001b[0m \u001b[1m4s\u001b[0m 3ms/step - loss: 0.3823 - val_loss: 0.1601\n",
            "Epoch 5/100\n",
            "\u001b[1m843/843\u001b[0m \u001b[32m━━━━━━━━━━━━━━━━━━━━\u001b[0m\u001b[37m\u001b[0m \u001b[1m2s\u001b[0m 3ms/step - loss: 0.2007 - val_loss: 0.1394\n",
            "Epoch 6/100\n",
            "\u001b[1m843/843\u001b[0m \u001b[32m━━━━━━━━━━━━━━━━━━━━\u001b[0m\u001b[37m\u001b[0m \u001b[1m2s\u001b[0m 3ms/step - loss: 0.1838 - val_loss: 0.1228\n",
            "Epoch 7/100\n",
            "\u001b[1m843/843\u001b[0m \u001b[32m━━━━━━━━━━━━━━━━━━━━\u001b[0m\u001b[37m\u001b[0m \u001b[1m3s\u001b[0m 4ms/step - loss: 0.1685 - val_loss: 0.1218\n",
            "Epoch 8/100\n",
            "\u001b[1m843/843\u001b[0m \u001b[32m━━━━━━━━━━━━━━━━━━━━\u001b[0m\u001b[37m\u001b[0m \u001b[1m5s\u001b[0m 3ms/step - loss: 0.1556 - val_loss: 0.1137\n",
            "Epoch 9/100\n",
            "\u001b[1m843/843\u001b[0m \u001b[32m━━━━━━━━━━━━━━━━━━━━\u001b[0m\u001b[37m\u001b[0m \u001b[1m2s\u001b[0m 3ms/step - loss: 0.1542 - val_loss: 0.1072\n",
            "Epoch 10/100\n",
            "\u001b[1m843/843\u001b[0m \u001b[32m━━━━━━━━━━━━━━━━━━━━\u001b[0m\u001b[37m\u001b[0m \u001b[1m3s\u001b[0m 3ms/step - loss: 0.1505 - val_loss: 0.1092\n",
            "Epoch 11/100\n",
            "\u001b[1m843/843\u001b[0m \u001b[32m━━━━━━━━━━━━━━━━━━━━\u001b[0m\u001b[37m\u001b[0m \u001b[1m3s\u001b[0m 3ms/step - loss: 0.1467 - val_loss: 0.1070\n",
            "Epoch 12/100\n",
            "\u001b[1m843/843\u001b[0m \u001b[32m━━━━━━━━━━━━━━━━━━━━\u001b[0m\u001b[37m\u001b[0m \u001b[1m4s\u001b[0m 4ms/step - loss: 0.1486 - val_loss: 0.1055\n",
            "Epoch 13/100\n",
            "\u001b[1m843/843\u001b[0m \u001b[32m━━━━━━━━━━━━━━━━━━━━\u001b[0m\u001b[37m\u001b[0m \u001b[1m2s\u001b[0m 3ms/step - loss: 0.1358 - val_loss: 0.1056\n",
            "Epoch 14/100\n",
            "\u001b[1m843/843\u001b[0m \u001b[32m━━━━━━━━━━━━━━━━━━━━\u001b[0m\u001b[37m\u001b[0m \u001b[1m3s\u001b[0m 3ms/step - loss: 0.1395 - val_loss: 0.1059\n",
            "Epoch 15/100\n",
            "\u001b[1m843/843\u001b[0m \u001b[32m━━━━━━━━━━━━━━━━━━━━\u001b[0m\u001b[37m\u001b[0m \u001b[1m6s\u001b[0m 4ms/step - loss: 0.1394 - val_loss: 0.1056\n",
            "Epoch 16/100\n",
            "\u001b[1m843/843\u001b[0m \u001b[32m━━━━━━━━━━━━━━━━━━━━\u001b[0m\u001b[37m\u001b[0m \u001b[1m4s\u001b[0m 3ms/step - loss: 0.1388 - val_loss: 0.1044\n",
            "Epoch 17/100\n",
            "\u001b[1m843/843\u001b[0m \u001b[32m━━━━━━━━━━━━━━━━━━━━\u001b[0m\u001b[37m\u001b[0m \u001b[1m3s\u001b[0m 3ms/step - loss: 0.1350 - val_loss: 0.1015\n",
            "Epoch 18/100\n",
            "\u001b[1m843/843\u001b[0m \u001b[32m━━━━━━━━━━━━━━━━━━━━\u001b[0m\u001b[37m\u001b[0m \u001b[1m2s\u001b[0m 3ms/step - loss: 0.1348 - val_loss: 0.1089\n",
            "Epoch 19/100\n",
            "\u001b[1m843/843\u001b[0m \u001b[32m━━━━━━━━━━━━━━━━━━━━\u001b[0m\u001b[37m\u001b[0m \u001b[1m3s\u001b[0m 3ms/step - loss: 0.1298 - val_loss: 0.1005\n",
            "Epoch 20/100\n",
            "\u001b[1m843/843\u001b[0m \u001b[32m━━━━━━━━━━━━━━━━━━━━\u001b[0m\u001b[37m\u001b[0m \u001b[1m4s\u001b[0m 4ms/step - loss: 0.1262 - val_loss: 0.0965\n",
            "Epoch 21/100\n",
            "\u001b[1m843/843\u001b[0m \u001b[32m━━━━━━━━━━━━━━━━━━━━\u001b[0m\u001b[37m\u001b[0m \u001b[1m2s\u001b[0m 3ms/step - loss: 0.1277 - val_loss: 0.0968\n",
            "Epoch 22/100\n",
            "\u001b[1m843/843\u001b[0m \u001b[32m━━━━━━━━━━━━━━━━━━━━\u001b[0m\u001b[37m\u001b[0m \u001b[1m3s\u001b[0m 3ms/step - loss: 0.1261 - val_loss: 0.0930\n",
            "Epoch 23/100\n",
            "\u001b[1m843/843\u001b[0m \u001b[32m━━━━━━━━━━━━━━━━━━━━\u001b[0m\u001b[37m\u001b[0m \u001b[1m2s\u001b[0m 3ms/step - loss: 0.1262 - val_loss: 0.0887\n",
            "Epoch 24/100\n",
            "\u001b[1m843/843\u001b[0m \u001b[32m━━━━━━━━━━━━━━━━━━━━\u001b[0m\u001b[37m\u001b[0m \u001b[1m2s\u001b[0m 3ms/step - loss: 0.1228 - val_loss: 0.0971\n",
            "Epoch 25/100\n",
            "\u001b[1m843/843\u001b[0m \u001b[32m━━━━━━━━━━━━━━━━━━━━\u001b[0m\u001b[37m\u001b[0m \u001b[1m4s\u001b[0m 5ms/step - loss: 0.1210 - val_loss: 0.0976\n",
            "Epoch 26/100\n",
            "\u001b[1m843/843\u001b[0m \u001b[32m━━━━━━━━━━━━━━━━━━━━\u001b[0m\u001b[37m\u001b[0m \u001b[1m2s\u001b[0m 3ms/step - loss: 0.1232 - val_loss: 0.1041\n",
            "Epoch 27/100\n",
            "\u001b[1m843/843\u001b[0m \u001b[32m━━━━━━━━━━━━━━━━━━━━\u001b[0m\u001b[37m\u001b[0m \u001b[1m3s\u001b[0m 3ms/step - loss: 0.1190 - val_loss: 0.0861\n",
            "Epoch 28/100\n",
            "\u001b[1m843/843\u001b[0m \u001b[32m━━━━━━━━━━━━━━━━━━━━\u001b[0m\u001b[37m\u001b[0m \u001b[1m2s\u001b[0m 3ms/step - loss: 0.1200 - val_loss: 0.0956\n",
            "Epoch 29/100\n",
            "\u001b[1m843/843\u001b[0m \u001b[32m━━━━━━━━━━━━━━━━━━━━\u001b[0m\u001b[37m\u001b[0m \u001b[1m2s\u001b[0m 3ms/step - loss: 0.1150 - val_loss: 0.0905\n",
            "Epoch 30/100\n",
            "\u001b[1m843/843\u001b[0m \u001b[32m━━━━━━━━━━━━━━━━━━━━\u001b[0m\u001b[37m\u001b[0m \u001b[1m4s\u001b[0m 4ms/step - loss: 0.1113 - val_loss: 0.0887\n",
            "Epoch 31/100\n",
            "\u001b[1m843/843\u001b[0m \u001b[32m━━━━━━━━━━━━━━━━━━━━\u001b[0m\u001b[37m\u001b[0m \u001b[1m3s\u001b[0m 3ms/step - loss: 0.1114 - val_loss: 0.0922\n",
            "Epoch 31: early stopping\n",
            "Restoring model weights from the end of the best epoch: 27.\n"
          ]
        }
      ],
      "source": [
        "#with tf.device('/GPU:0'):\n",
        "history = model.fit(x=train_inputs, y=train_target, batch_size=batch_size, epochs=epochs,\n",
        "                    validation_data=(validation_inputs, validation_target), verbose=1,callbacks=[early_stopping],sample_weight =weights)"
      ]
    },
    {
      "cell_type": "code",
      "execution_count": 496,
      "metadata": {
        "colab": {
          "base_uri": "https://localhost:8080/"
        },
        "id": "RNoBSnBXvugA",
        "outputId": "9307d982-b721-4325-a218-0321266c7f84"
      },
      "outputs": [
        {
          "output_type": "stream",
          "name": "stdout",
          "text": [
            "\u001b[1m53/53\u001b[0m \u001b[32m━━━━━━━━━━━━━━━━━━━━\u001b[0m\u001b[37m\u001b[0m \u001b[1m0s\u001b[0m 4ms/step\n"
          ]
        }
      ],
      "source": [
        "model=history.model\n",
        "validation['prediction']=model.predict(x=validation_inputs)"
      ]
    },
    {
      "cell_type": "markdown",
      "source": [
        "**save model for deployment**"
      ],
      "metadata": {
        "id": "NuWOrZyy6uS7"
      }
    },
    {
      "cell_type": "code",
      "execution_count": 424,
      "metadata": {
        "id": "_8uKevFqvugA"
      },
      "outputs": [],
      "source": [
        "#model.save('/kaggle/working/ReccomenderPrototype.h5')"
      ]
    },
    {
      "cell_type": "markdown",
      "metadata": {
        "id": "CoXCGYBuvugB"
      },
      "source": [
        "# **Evaluation**"
      ]
    },
    {
      "cell_type": "markdown",
      "metadata": {
        "id": "nm_tHaEYCNTo"
      },
      "source": [
        "## **Plotting Losses**"
      ]
    },
    {
      "cell_type": "code",
      "execution_count": 425,
      "metadata": {
        "colab": {
          "base_uri": "https://localhost:8080/",
          "height": 472
        },
        "id": "kX3dnOvivugB",
        "outputId": "15e80d6a-5db2-426a-ba89-24de015e5475"
      },
      "outputs": [
        {
          "output_type": "display_data",
          "data": {
            "text/plain": [
              "<Figure size 640x480 with 1 Axes>"
            ],
            "image/png": "[encoded data removed]"
          },
          "metadata": {}
        }
      ],
      "source": [
        "\n",
        "total_epochs = len(history.history['loss'])\n",
        "\n",
        "epochz = np.arange(1, total_epochs + 1)\n",
        "\n",
        "train_loss = history.history['loss']\n",
        "val_loss = history.history['val_loss']\n",
        "\n",
        "# Plot the train and test losses\n",
        "plt.plot(epochz, train_loss, label='Train Loss')\n",
        "plt.plot(epochz, val_loss, label='Validation Loss')\n",
        "plt.xlabel('Epoch')\n",
        "plt.ylabel('Loss')\n",
        "plt.title('Train and Validation Loss')\n",
        "plt.legend()\n",
        "plt.show()\n"
      ]
    },
    {
      "cell_type": "code",
      "execution_count": null,
      "metadata": {
        "id": "A38azHhnG7g2"
      },
      "outputs": [],
      "source": [
        "\n",
        "#history = model.fit(x=validation_inputs, y=validation_target, batch_size=batch_size, epochs=epochs,\n",
        "  #                 validation_data=(validation_inputs, validation_target), verbose=1, callbacks=[early_stopping])\n"
      ]
    },
    {
      "cell_type": "code",
      "execution_count": 500,
      "metadata": {
        "colab": {
          "base_uri": "https://localhost:8080/"
        },
        "id": "h2JKeEM2vugB",
        "outputId": "68bc8ef0-71e2-4dd6-e79f-b9a3ddab77dd"
      },
      "outputs": [
        {
          "output_type": "stream",
          "name": "stdout",
          "text": [
            "\u001b[1m264/264\u001b[0m \u001b[32m━━━━━━━━━━━━━━━━━━━━\u001b[0m\u001b[37m\u001b[0m \u001b[1m0s\u001b[0m 2ms/step\n"
          ]
        }
      ],
      "source": [
        "model=history.model\n",
        "dataset['prediction']=model.predict(x=[dataset['student_id'],dataset['course_id']])"
      ]
    },
    {
      "cell_type": "markdown",
      "source": [
        "## **Predicted Vs Actual**"
      ],
      "metadata": {
        "id": "Sb8U7DOtGPiv"
      }
    },
    {
      "cell_type": "code",
      "source": [
        "dataset.head()"
      ],
      "metadata": {
        "colab": {
          "base_uri": "https://localhost:8080/",
          "height": 206
        },
        "id": "WGDAvzDUV_dE",
        "outputId": "60d3d0a5-6e96-476a-a802-6dd3f557025d"
      },
      "execution_count": 501,
      "outputs": [
        {
          "output_type": "execute_result",
          "data": {
            "text/plain": [
              "   student_id  course_id     total  prediction\n",
              "0           0          0  0.700772    0.728993\n",
              "1           0          0  0.688578    0.728993\n",
              "2           0          1  0.745721    0.732092\n",
              "3           0          1  0.744052    0.732092\n",
              "4           0          2  0.737525    0.733621"
            ],
            "text/html": [
              "\n",
              "  <div id=\"df-d199ec18-eb18-4648-9241-66939e3ac29e\" class=\"colab-df-container\">\n",
              "    <div>\n",
              "<style scoped>\n",
              "    .dataframe tbody tr th:only-of-type {\n",
              "        vertical-align: middle;\n",
              "    }\n",
              "\n",
              "    .dataframe tbody tr th {\n",
              "        vertical-align: top;\n",
              "    }\n",
              "\n",
              "    .dataframe thead th {\n",
              "        text-align: right;\n",
              "    }\n",
              "</style>\n",
              "<table border=\"1\" class=\"dataframe\">\n",
              "  <thead>\n",
              "    <tr style=\"text-align: right;\">\n",
              "      <th></th>\n",
              "      <th>student_id</th>\n",
              "      <th>course_id</th>\n",
              "      <th>total</th>\n",
              "      <th>prediction</th>\n",
              "    </tr>\n",
              "  </thead>\n",
              "  <tbody>\n",
              "    <tr>\n",
              "      <th>0</th>\n",
              "      <td>0</td>\n",
              "      <td>0</td>\n",
              "      <td>0.700772</td>\n",
              "      <td>0.728993</td>\n",
              "    </tr>\n",
              "    <tr>\n",
              "      <th>1</th>\n",
              "      <td>0</td>\n",
              "      <td>0</td>\n",
              "      <td>0.688578</td>\n",
              "      <td>0.728993</td>\n",
              "    </tr>\n",
              "    <tr>\n",
              "      <th>2</th>\n",
              "      <td>0</td>\n",
              "      <td>1</td>\n",
              "      <td>0.745721</td>\n",
              "      <td>0.732092</td>\n",
              "    </tr>\n",
              "    <tr>\n",
              "      <th>3</th>\n",
              "      <td>0</td>\n",
              "      <td>1</td>\n",
              "      <td>0.744052</td>\n",
              "      <td>0.732092</td>\n",
              "    </tr>\n",
              "    <tr>\n",
              "      <th>4</th>\n",
              "      <td>0</td>\n",
              "      <td>2</td>\n",
              "      <td>0.737525</td>\n",
              "      <td>0.733621</td>\n",
              "    </tr>\n",
              "  </tbody>\n",
              "</table>\n",
              "</div>\n",
              "    <div class=\"colab-df-buttons\">\n",
              "\n",
              "  <div class=\"colab-df-container\">\n",
              "    <button class=\"colab-df-convert\" onclick=\"convertToInteractive('df-d199ec18-eb18-4648-9241-66939e3ac29e')\"\n",
              "            title=\"Convert this dataframe to an interactive table.\"\n",
              "            style=\"display:none;\">\n",
              "\n",
              "  <svg xmlns=\"http://www.w3.org/2000/svg\" height=\"24px\" viewBox=\"0 -960 960 960\">\n",
              "    <path d=\"M120-120v-720h720v720H120Zm60-500h600v-160H180v160Zm220 220h160v-160H400v160Zm0 220h160v-160H400v160ZM180-400h160v-160H180v160Zm440 0h160v-160H620v160ZM180-180h160v-160H180v160Zm440 0h160v-160H620v160Z\"/>\n",
              "  </svg>\n",
              "    </button>\n",
              "\n",
              "  <style>\n",
              "    .colab-df-container {\n",
              "      display:flex;\n",
              "      gap: 12px;\n",
              "    }\n",
              "\n",
              "    .colab-df-convert {\n",
              "      background-color: #E8F0FE;\n",
              "      border: none;\n",
              "      border-radius: 50%;\n",
              "      cursor: pointer;\n",
              "      display: none;\n",
              "      fill: #1967D2;\n",
              "      height: 32px;\n",
              "      padding: 0 0 0 0;\n",
              "      width: 32px;\n",
              "    }\n",
              "\n",
              "    .colab-df-convert:hover {\n",
              "      background-color: #E2EBFA;\n",
              "      box-shadow: 0px 1px 2px rgba(60, 64, 67, 0.3), 0px 1px 3px 1px rgba(60, 64, 67, 0.15);\n",
              "      fill: #174EA6;\n",
              "    }\n",
              "\n",
              "    .colab-df-buttons div {\n",
              "      margin-bottom: 4px;\n",
              "    }\n",
              "\n",
              "    [theme=dark] .colab-df-convert {\n",
              "      background-color: #3B4455;\n",
              "      fill: #D2E3FC;\n",
              "    }\n",
              "\n",
              "    [theme=dark] .colab-df-convert:hover {\n",
              "      background-color: #434B5C;\n",
              "      box-shadow: 0px 1px 3px 1px rgba(0, 0, 0, 0.15);\n",
              "      filter: drop-shadow(0px 1px 2px rgba(0, 0, 0, 0.3));\n",
              "      fill: #FFFFFF;\n",
              "    }\n",
              "  </style>\n",
              "\n",
              "    <script>\n",
              "      const buttonEl =\n",
              "        document.querySelector('#df-d199ec18-eb18-4648-9241-66939e3ac29e button.colab-df-convert');\n",
              "      buttonEl.style.display =\n",
              "        google.colab.kernel.accessAllowed ? 'block' : 'none';\n",
              "\n",
              "      async function convertToInteractive(key) {\n",
              "        const element = document.querySelector('#df-d199ec18-eb18-4648-9241-66939e3ac29e');\n",
              "        const dataTable =\n",
              "          await google.colab.kernel.invokeFunction('convertToInteractive',\n",
              "                                                    [key], {});\n",
              "        if (!dataTable) return;\n",
              "\n",
              "        const docLinkHtml = 'Like what you see? Visit the ' +\n",
              "          '<a target=\"_blank\" href=https://colab.research.google.com/notebooks/data_table.ipynb>data table notebook</a>'\n",
              "          + ' to learn more about interactive tables.';\n",
              "        element.innerHTML = '';\n",
              "        dataTable['output_type'] = 'display_data';\n",
              "        await google.colab.output.renderOutput(dataTable, element);\n",
              "        const docLink = document.createElement('div');\n",
              "        docLink.innerHTML = docLinkHtml;\n",
              "        element.appendChild(docLink);\n",
              "      }\n",
              "    </script>\n",
              "  </div>\n",
              "\n",
              "\n",
              "<div id=\"df-07055e3a-7f67-404d-9046-1e82075611e0\">\n",
              "  <button class=\"colab-df-quickchart\" onclick=\"quickchart('df-07055e3a-7f67-404d-9046-1e82075611e0')\"\n",
              "            title=\"Suggest charts\"\n",
              "            style=\"display:none;\">\n",
              "\n",
              "<svg xmlns=\"http://www.w3.org/2000/svg\" height=\"24px\"viewBox=\"0 0 24 24\"\n",
              "     width=\"24px\">\n",
              "    <g>\n",
              "        <path d=\"M19 3H5c-1.1 0-2 .9-2 2v14c0 1.1.9 2 2 2h14c1.1 0 2-.9 2-2V5c0-1.1-.9-2-2-2zM9 17H7v-7h2v7zm4 0h-2V7h2v10zm4 0h-2v-4h2v4z\"/>\n",
              "    </g>\n",
              "</svg>\n",
              "  </button>\n",
              "\n",
              "<style>\n",
              "  .colab-df-quickchart {\n",
              "      --bg-color: #E8F0FE;\n",
              "      --fill-color: #1967D2;\n",
              "      --hover-bg-color: #E2EBFA;\n",
              "      --hover-fill-color: #174EA6;\n",
              "      --disabled-fill-color: #AAA;\n",
              "      --disabled-bg-color: #DDD;\n",
              "  }\n",
              "\n",
              "  [theme=dark] .colab-df-quickchart {\n",
              "      --bg-color: #3B4455;\n",
              "      --fill-color: #D2E3FC;\n",
              "      --hover-bg-color: #434B5C;\n",
              "      --hover-fill-color: #FFFFFF;\n",
              "      --disabled-bg-color: #3B4455;\n",
              "      --disabled-fill-color: #666;\n",
              "  }\n",
              "\n",
              "  .colab-df-quickchart {\n",
              "    background-color: var(--bg-color);\n",
              "    border: none;\n",
              "    border-radius: 50%;\n",
              "    cursor: pointer;\n",
              "    display: none;\n",
              "    fill: var(--fill-color);\n",
              "    height: 32px;\n",
              "    padding: 0;\n",
              "    width: 32px;\n",
              "  }\n",
              "\n",
              "  .colab-df-quickchart:hover {\n",
              "    background-color: var(--hover-bg-color);\n",
              "    box-shadow: 0 1px 2px rgba(60, 64, 67, 0.3), 0 1px 3px 1px rgba(60, 64, 67, 0.15);\n",
              "    fill: var(--button-hover-fill-color);\n",
              "  }\n",
              "\n",
              "  .colab-df-quickchart-complete:disabled,\n",
              "  .colab-df-quickchart-complete:disabled:hover {\n",
              "    background-color: var(--disabled-bg-color);\n",
              "    fill: var(--disabled-fill-color);\n",
              "    box-shadow: none;\n",
              "  }\n",
              "\n",
              "  .colab-df-spinner {\n",
              "    border: 2px solid var(--fill-color);\n",
              "    border-color: transparent;\n",
              "    border-bottom-color: var(--fill-color);\n",
              "    animation:\n",
              "      spin 1s steps(1) infinite;\n",
              "  }\n",
              "\n",
              "  @keyframes spin {\n",
              "    0% {\n",
              "      border-color: transparent;\n",
              "      border-bottom-color: var(--fill-color);\n",
              "      border-left-color: var(--fill-color);\n",
              "    }\n",
              "    20% {\n",
              "      border-color: transparent;\n",
              "      border-left-color: var(--fill-color);\n",
              "      border-top-color: var(--fill-color);\n",
              "    }\n",
              "    30% {\n",
              "      border-color: transparent;\n",
              "      border-left-color: var(--fill-color);\n",
              "      border-top-color: var(--fill-color);\n",
              "      border-right-color: var(--fill-color);\n",
              "    }\n",
              "    40% {\n",
              "      border-color: transparent;\n",
              "      border-right-color: var(--fill-color);\n",
              "      border-top-color: var(--fill-color);\n",
              "    }\n",
              "    60% {\n",
              "      border-color: transparent;\n",
              "      border-right-color: var(--fill-color);\n",
              "    }\n",
              "    80% {\n",
              "      border-color: transparent;\n",
              "      border-right-color: var(--fill-color);\n",
              "      border-bottom-color: var(--fill-color);\n",
              "    }\n",
              "    90% {\n",
              "      border-color: transparent;\n",
              "      border-bottom-color: var(--fill-color);\n",
              "    }\n",
              "  }\n",
              "</style>\n",
              "\n",
              "  <script>\n",
              "    async function quickchart(key) {\n",
              "      const quickchartButtonEl =\n",
              "        document.querySelector('#' + key + ' button');\n",
              "      quickchartButtonEl.disabled = true;  // To prevent multiple clicks.\n",
              "      quickchartButtonEl.classList.add('colab-df-spinner');\n",
              "      try {\n",
              "        const charts = await google.colab.kernel.invokeFunction(\n",
              "            'suggestCharts', [key], {});\n",
              "      } catch (error) {\n",
              "        console.error('Error during call to suggestCharts:', error);\n",
              "      }\n",
              "      quickchartButtonEl.classList.remove('colab-df-spinner');\n",
              "      quickchartButtonEl.classList.add('colab-df-quickchart-complete');\n",
              "    }\n",
              "    (() => {\n",
              "      let quickchartButtonEl =\n",
              "        document.querySelector('#df-07055e3a-7f67-404d-9046-1e82075611e0 button');\n",
              "      quickchartButtonEl.style.display =\n",
              "        google.colab.kernel.accessAllowed ? 'block' : 'none';\n",
              "    })();\n",
              "  </script>\n",
              "</div>\n",
              "\n",
              "    </div>\n",
              "  </div>\n"
            ],
            "application/vnd.google.colaboratory.intrinsic+json": {
              "type": "dataframe",
              "variable_name": "dataset",
              "summary": "{\n  \"name\": \"dataset\",\n  \"rows\": 8431,\n  \"fields\": [\n    {\n      \"column\": \"student_id\",\n      \"properties\": {\n        \"dtype\": \"number\",\n        \"std\": 313,\n        \"min\": 0,\n        \"max\": 1274,\n        \"num_unique_values\": 1275,\n        \"samples\": [\n          1179,\n          342,\n          649\n        ],\n        \"semantic_type\": \"\",\n        \"description\": \"\"\n      }\n    },\n    {\n      \"column\": \"course_id\",\n      \"properties\": {\n        \"dtype\": \"number\",\n        \"std\": 6,\n        \"min\": 0,\n        \"max\": 22,\n        \"num_unique_values\": 23,\n        \"samples\": [\n          15,\n          9,\n          0\n        ],\n        \"semantic_type\": \"\",\n        \"description\": \"\"\n      }\n    },\n    {\n      \"column\": \"total\",\n      \"properties\": {\n        \"dtype\": \"number\",\n        \"std\": 0.15056442336818007,\n        \"min\": 0.0,\n        \"max\": 1.0,\n        \"num_unique_values\": 5466,\n        \"samples\": [\n          0.7093298220050925,\n          0.27557808315760973,\n          0.7465349508779208\n        ],\n        \"semantic_type\": \"\",\n        \"description\": \"\"\n      }\n    },\n    {\n      \"column\": \"prediction\",\n      \"properties\": {\n        \"dtype\": \"float32\",\n        \"num_unique_values\": 5633,\n        \"samples\": [\n          0.6023990511894226,\n          0.7954040765762329,\n          0.7862464189529419\n        ],\n        \"semantic_type\": \"\",\n        \"description\": \"\"\n      }\n    }\n  ]\n}"
            }
          },
          "metadata": {},
          "execution_count": 501
        }
      ]
    },
    {
      "cell_type": "markdown",
      "source": [
        "##**Plotting HitRate @K curve**"
      ],
      "metadata": {
        "id": "f8KxV-kkFnO1"
      }
    },
    {
      "cell_type": "code",
      "source": [
        "top_k_values = [1,3,4,5]\n",
        "hit_rates = calculate_hitrate_at_k(dataset, top_k_values)\n",
        "\n",
        "\n",
        "\n",
        "\n",
        "plt.figure(figsize=(10, 6))\n",
        "plt.plot(top_k_values, hit_rates, marker='o', linestyle='-', color='b')\n",
        "plt.title(\"HitRate@K\", fontsize=16)\n",
        "plt.xlabel(\"K (Number of Recommendations)\", fontsize=14)\n",
        "plt.ylabel(\"Hit Rate(HR)\", fontsize=14)\n",
        "plt.xticks(top_k_values, fontsize=12)\n",
        "plt.yticks(fontsize=12)\n",
        "plt.grid(True)\n",
        "plt.show()\n"
      ],
      "metadata": {
        "colab": {
          "base_uri": "https://localhost:8080/",
          "height": 575
        },
        "id": "ss7af532OdfN",
        "outputId": "0e3193c2-9009-4157-eea1-8adcf793407d"
      },
      "execution_count": 435,
      "outputs": [
        {
          "output_type": "display_data",
          "data": {
            "text/plain": [
              "<Figure size 1000x600 with 1 Axes>"
            ],
            "image/png": "[encoded data removed]"
          },
          "metadata": {}
        }
      ]
    },
    {
      "cell_type": "markdown",
      "metadata": {
        "id": "j7QFLsCKtFwe"
      },
      "source": [
        "## **sample predictions for lower Grades**\n",
        "\n",
        "\n"
      ]
    },
    {
      "cell_type": "code",
      "execution_count": 502,
      "metadata": {
        "colab": {
          "base_uri": "https://localhost:8080/",
          "height": 676
        },
        "id": "QGXEKxOc0WWT",
        "outputId": "8644c072-2419-477a-e0af-aab943c34c59"
      },
      "outputs": [
        {
          "output_type": "execute_result",
          "data": {
            "text/plain": [
              "      student_id  course_id     total  prediction\n",
              "2592         348         12  0.468337    0.506443\n",
              "263           38          3  0.507228    0.530016\n",
              "3455         447          4  0.530518    0.618093\n",
              "1887         268          3  0.506259    0.525595\n",
              "2483         337          0  0.505160    0.599946\n",
              "1539         224          3  0.527646    0.572724\n",
              "1350         201          4  0.515882    0.559665\n",
              "5274         668         15  0.261388    0.458715\n",
              "51             7          1  0.469054    0.516409\n",
              "6686         848         21  0.566626    0.563261\n",
              "3499         451         10  0.564314    0.587189\n",
              "2336         323          1  0.561487    0.577930\n",
              "1916         272          2  0.474020    0.542691\n",
              "1513         221          3  0.582904    0.564665\n",
              "125           16          1  0.334041    0.476382\n",
              "7119         897         18  0.571240    0.692149\n",
              "1569         227         12  0.454832    0.504878\n",
              "1854         265          4  0.568175    0.577547\n",
              "2337         323          1  0.562073    0.577930\n",
              "3647         469          0  0.567421    0.595176"
            ],
            "text/html": [
              "\n",
              "  <div id=\"df-79b93dd8-e758-4e52-a456-7b5aee0599b6\" class=\"colab-df-container\">\n",
              "    <div>\n",
              "<style scoped>\n",
              "    .dataframe tbody tr th:only-of-type {\n",
              "        vertical-align: middle;\n",
              "    }\n",
              "\n",
              "    .dataframe tbody tr th {\n",
              "        vertical-align: top;\n",
              "    }\n",
              "\n",
              "    .dataframe thead th {\n",
              "        text-align: right;\n",
              "    }\n",
              "</style>\n",
              "<table border=\"1\" class=\"dataframe\">\n",
              "  <thead>\n",
              "    <tr style=\"text-align: right;\">\n",
              "      <th></th>\n",
              "      <th>student_id</th>\n",
              "      <th>course_id</th>\n",
              "      <th>total</th>\n",
              "      <th>prediction</th>\n",
              "    </tr>\n",
              "  </thead>\n",
              "  <tbody>\n",
              "    <tr>\n",
              "      <th>2592</th>\n",
              "      <td>348</td>\n",
              "      <td>12</td>\n",
              "      <td>0.468337</td>\n",
              "      <td>0.506443</td>\n",
              "    </tr>\n",
              "    <tr>\n",
              "      <th>263</th>\n",
              "      <td>38</td>\n",
              "      <td>3</td>\n",
              "      <td>0.507228</td>\n",
              "      <td>0.530016</td>\n",
              "    </tr>\n",
              "    <tr>\n",
              "      <th>3455</th>\n",
              "      <td>447</td>\n",
              "      <td>4</td>\n",
              "      <td>0.530518</td>\n",
              "      <td>0.618093</td>\n",
              "    </tr>\n",
              "    <tr>\n",
              "      <th>1887</th>\n",
              "      <td>268</td>\n",
              "      <td>3</td>\n",
              "      <td>0.506259</td>\n",
              "      <td>0.525595</td>\n",
              "    </tr>\n",
              "    <tr>\n",
              "      <th>2483</th>\n",
              "      <td>337</td>\n",
              "      <td>0</td>\n",
              "      <td>0.505160</td>\n",
              "      <td>0.599946</td>\n",
              "    </tr>\n",
              "    <tr>\n",
              "      <th>1539</th>\n",
              "      <td>224</td>\n",
              "      <td>3</td>\n",
              "      <td>0.527646</td>\n",
              "      <td>0.572724</td>\n",
              "    </tr>\n",
              "    <tr>\n",
              "      <th>1350</th>\n",
              "      <td>201</td>\n",
              "      <td>4</td>\n",
              "      <td>0.515882</td>\n",
              "      <td>0.559665</td>\n",
              "    </tr>\n",
              "    <tr>\n",
              "      <th>5274</th>\n",
              "      <td>668</td>\n",
              "      <td>15</td>\n",
              "      <td>0.261388</td>\n",
              "      <td>0.458715</td>\n",
              "    </tr>\n",
              "    <tr>\n",
              "      <th>51</th>\n",
              "      <td>7</td>\n",
              "      <td>1</td>\n",
              "      <td>0.469054</td>\n",
              "      <td>0.516409</td>\n",
              "    </tr>\n",
              "    <tr>\n",
              "      <th>6686</th>\n",
              "      <td>848</td>\n",
              "      <td>21</td>\n",
              "      <td>0.566626</td>\n",
              "      <td>0.563261</td>\n",
              "    </tr>\n",
              "    <tr>\n",
              "      <th>3499</th>\n",
              "      <td>451</td>\n",
              "      <td>10</td>\n",
              "      <td>0.564314</td>\n",
              "      <td>0.587189</td>\n",
              "    </tr>\n",
              "    <tr>\n",
              "      <th>2336</th>\n",
              "      <td>323</td>\n",
              "      <td>1</td>\n",
              "      <td>0.561487</td>\n",
              "      <td>0.577930</td>\n",
              "    </tr>\n",
              "    <tr>\n",
              "      <th>1916</th>\n",
              "      <td>272</td>\n",
              "      <td>2</td>\n",
              "      <td>0.474020</td>\n",
              "      <td>0.542691</td>\n",
              "    </tr>\n",
              "    <tr>\n",
              "      <th>1513</th>\n",
              "      <td>221</td>\n",
              "      <td>3</td>\n",
              "      <td>0.582904</td>\n",
              "      <td>0.564665</td>\n",
              "    </tr>\n",
              "    <tr>\n",
              "      <th>125</th>\n",
              "      <td>16</td>\n",
              "      <td>1</td>\n",
              "      <td>0.334041</td>\n",
              "      <td>0.476382</td>\n",
              "    </tr>\n",
              "    <tr>\n",
              "      <th>7119</th>\n",
              "      <td>897</td>\n",
              "      <td>18</td>\n",
              "      <td>0.571240</td>\n",
              "      <td>0.692149</td>\n",
              "    </tr>\n",
              "    <tr>\n",
              "      <th>1569</th>\n",
              "      <td>227</td>\n",
              "      <td>12</td>\n",
              "      <td>0.454832</td>\n",
              "      <td>0.504878</td>\n",
              "    </tr>\n",
              "    <tr>\n",
              "      <th>1854</th>\n",
              "      <td>265</td>\n",
              "      <td>4</td>\n",
              "      <td>0.568175</td>\n",
              "      <td>0.577547</td>\n",
              "    </tr>\n",
              "    <tr>\n",
              "      <th>2337</th>\n",
              "      <td>323</td>\n",
              "      <td>1</td>\n",
              "      <td>0.562073</td>\n",
              "      <td>0.577930</td>\n",
              "    </tr>\n",
              "    <tr>\n",
              "      <th>3647</th>\n",
              "      <td>469</td>\n",
              "      <td>0</td>\n",
              "      <td>0.567421</td>\n",
              "      <td>0.595176</td>\n",
              "    </tr>\n",
              "  </tbody>\n",
              "</table>\n",
              "</div>\n",
              "    <div class=\"colab-df-buttons\">\n",
              "\n",
              "  <div class=\"colab-df-container\">\n",
              "    <button class=\"colab-df-convert\" onclick=\"convertToInteractive('df-79b93dd8-e758-4e52-a456-7b5aee0599b6')\"\n",
              "            title=\"Convert this dataframe to an interactive table.\"\n",
              "            style=\"display:none;\">\n",
              "\n",
              "  <svg xmlns=\"http://www.w3.org/2000/svg\" height=\"24px\" viewBox=\"0 -960 960 960\">\n",
              "    <path d=\"M120-120v-720h720v720H120Zm60-500h600v-160H180v160Zm220 220h160v-160H400v160Zm0 220h160v-160H400v160ZM180-400h160v-160H180v160Zm440 0h160v-160H620v160ZM180-180h160v-160H180v160Zm440 0h160v-160H620v160Z\"/>\n",
              "  </svg>\n",
              "    </button>\n",
              "\n",
              "  <style>\n",
              "    .colab-df-container {\n",
              "      display:flex;\n",
              "      gap: 12px;\n",
              "    }\n",
              "\n",
              "    .colab-df-convert {\n",
              "      background-color: #E8F0FE;\n",
              "      border: none;\n",
              "      border-radius: 50%;\n",
              "      cursor: pointer;\n",
              "      display: none;\n",
              "      fill: #1967D2;\n",
              "      height: 32px;\n",
              "      padding: 0 0 0 0;\n",
              "      width: 32px;\n",
              "    }\n",
              "\n",
              "    .colab-df-convert:hover {\n",
              "      background-color: #E2EBFA;\n",
              "      box-shadow: 0px 1px 2px rgba(60, 64, 67, 0.3), 0px 1px 3px 1px rgba(60, 64, 67, 0.15);\n",
              "      fill: #174EA6;\n",
              "    }\n",
              "\n",
              "    .colab-df-buttons div {\n",
              "      margin-bottom: 4px;\n",
              "    }\n",
              "\n",
              "    [theme=dark] .colab-df-convert {\n",
              "      background-color: #3B4455;\n",
              "      fill: #D2E3FC;\n",
              "    }\n",
              "\n",
              "    [theme=dark] .colab-df-convert:hover {\n",
              "      background-color: #434B5C;\n",
              "      box-shadow: 0px 1px 3px 1px rgba(0, 0, 0, 0.15);\n",
              "      filter: drop-shadow(0px 1px 2px rgba(0, 0, 0, 0.3));\n",
              "      fill: #FFFFFF;\n",
              "    }\n",
              "  </style>\n",
              "\n",
              "    <script>\n",
              "      const buttonEl =\n",
              "        document.querySelector('#df-79b93dd8-e758-4e52-a456-7b5aee0599b6 button.colab-df-convert');\n",
              "      buttonEl.style.display =\n",
              "        google.colab.kernel.accessAllowed ? 'block' : 'none';\n",
              "\n",
              "      async function convertToInteractive(key) {\n",
              "        const element = document.querySelector('#df-79b93dd8-e758-4e52-a456-7b5aee0599b6');\n",
              "        const dataTable =\n",
              "          await google.colab.kernel.invokeFunction('convertToInteractive',\n",
              "                                                    [key], {});\n",
              "        if (!dataTable) return;\n",
              "\n",
              "        const docLinkHtml = 'Like what you see? Visit the ' +\n",
              "          '<a target=\"_blank\" href=https://colab.research.google.com/notebooks/data_table.ipynb>data table notebook</a>'\n",
              "          + ' to learn more about interactive tables.';\n",
              "        element.innerHTML = '';\n",
              "        dataTable['output_type'] = 'display_data';\n",
              "        await google.colab.output.renderOutput(dataTable, element);\n",
              "        const docLink = document.createElement('div');\n",
              "        docLink.innerHTML = docLinkHtml;\n",
              "        element.appendChild(docLink);\n",
              "      }\n",
              "    </script>\n",
              "  </div>\n",
              "\n",
              "\n",
              "<div id=\"df-6e89991e-cac7-4447-bfc4-e46f313d5e19\">\n",
              "  <button class=\"colab-df-quickchart\" onclick=\"quickchart('df-6e89991e-cac7-4447-bfc4-e46f313d5e19')\"\n",
              "            title=\"Suggest charts\"\n",
              "            style=\"display:none;\">\n",
              "\n",
              "<svg xmlns=\"http://www.w3.org/2000/svg\" height=\"24px\"viewBox=\"0 0 24 24\"\n",
              "     width=\"24px\">\n",
              "    <g>\n",
              "        <path d=\"M19 3H5c-1.1 0-2 .9-2 2v14c0 1.1.9 2 2 2h14c1.1 0 2-.9 2-2V5c0-1.1-.9-2-2-2zM9 17H7v-7h2v7zm4 0h-2V7h2v10zm4 0h-2v-4h2v4z\"/>\n",
              "    </g>\n",
              "</svg>\n",
              "  </button>\n",
              "\n",
              "<style>\n",
              "  .colab-df-quickchart {\n",
              "      --bg-color: #E8F0FE;\n",
              "      --fill-color: #1967D2;\n",
              "      --hover-bg-color: #E2EBFA;\n",
              "      --hover-fill-color: #174EA6;\n",
              "      --disabled-fill-color: #AAA;\n",
              "      --disabled-bg-color: #DDD;\n",
              "  }\n",
              "\n",
              "  [theme=dark] .colab-df-quickchart {\n",
              "      --bg-color: #3B4455;\n",
              "      --fill-color: #D2E3FC;\n",
              "      --hover-bg-color: #434B5C;\n",
              "      --hover-fill-color: #FFFFFF;\n",
              "      --disabled-bg-color: #3B4455;\n",
              "      --disabled-fill-color: #666;\n",
              "  }\n",
              "\n",
              "  .colab-df-quickchart {\n",
              "    background-color: var(--bg-color);\n",
              "    border: none;\n",
              "    border-radius: 50%;\n",
              "    cursor: pointer;\n",
              "    display: none;\n",
              "    fill: var(--fill-color);\n",
              "    height: 32px;\n",
              "    padding: 0;\n",
              "    width: 32px;\n",
              "  }\n",
              "\n",
              "  .colab-df-quickchart:hover {\n",
              "    background-color: var(--hover-bg-color);\n",
              "    box-shadow: 0 1px 2px rgba(60, 64, 67, 0.3), 0 1px 3px 1px rgba(60, 64, 67, 0.15);\n",
              "    fill: var(--button-hover-fill-color);\n",
              "  }\n",
              "\n",
              "  .colab-df-quickchart-complete:disabled,\n",
              "  .colab-df-quickchart-complete:disabled:hover {\n",
              "    background-color: var(--disabled-bg-color);\n",
              "    fill: var(--disabled-fill-color);\n",
              "    box-shadow: none;\n",
              "  }\n",
              "\n",
              "  .colab-df-spinner {\n",
              "    border: 2px solid var(--fill-color);\n",
              "    border-color: transparent;\n",
              "    border-bottom-color: var(--fill-color);\n",
              "    animation:\n",
              "      spin 1s steps(1) infinite;\n",
              "  }\n",
              "\n",
              "  @keyframes spin {\n",
              "    0% {\n",
              "      border-color: transparent;\n",
              "      border-bottom-color: var(--fill-color);\n",
              "      border-left-color: var(--fill-color);\n",
              "    }\n",
              "    20% {\n",
              "      border-color: transparent;\n",
              "      border-left-color: var(--fill-color);\n",
              "      border-top-color: var(--fill-color);\n",
              "    }\n",
              "    30% {\n",
              "      border-color: transparent;\n",
              "      border-left-color: var(--fill-color);\n",
              "      border-top-color: var(--fill-color);\n",
              "      border-right-color: var(--fill-color);\n",
              "    }\n",
              "    40% {\n",
              "      border-color: transparent;\n",
              "      border-right-color: var(--fill-color);\n",
              "      border-top-color: var(--fill-color);\n",
              "    }\n",
              "    60% {\n",
              "      border-color: transparent;\n",
              "      border-right-color: var(--fill-color);\n",
              "    }\n",
              "    80% {\n",
              "      border-color: transparent;\n",
              "      border-right-color: var(--fill-color);\n",
              "      border-bottom-color: var(--fill-color);\n",
              "    }\n",
              "    90% {\n",
              "      border-color: transparent;\n",
              "      border-bottom-color: var(--fill-color);\n",
              "    }\n",
              "  }\n",
              "</style>\n",
              "\n",
              "  <script>\n",
              "    async function quickchart(key) {\n",
              "      const quickchartButtonEl =\n",
              "        document.querySelector('#' + key + ' button');\n",
              "      quickchartButtonEl.disabled = true;  // To prevent multiple clicks.\n",
              "      quickchartButtonEl.classList.add('colab-df-spinner');\n",
              "      try {\n",
              "        const charts = await google.colab.kernel.invokeFunction(\n",
              "            'suggestCharts', [key], {});\n",
              "      } catch (error) {\n",
              "        console.error('Error during call to suggestCharts:', error);\n",
              "      }\n",
              "      quickchartButtonEl.classList.remove('colab-df-spinner');\n",
              "      quickchartButtonEl.classList.add('colab-df-quickchart-complete');\n",
              "    }\n",
              "    (() => {\n",
              "      let quickchartButtonEl =\n",
              "        document.querySelector('#df-6e89991e-cac7-4447-bfc4-e46f313d5e19 button');\n",
              "      quickchartButtonEl.style.display =\n",
              "        google.colab.kernel.accessAllowed ? 'block' : 'none';\n",
              "    })();\n",
              "  </script>\n",
              "</div>\n",
              "\n",
              "    </div>\n",
              "  </div>\n"
            ],
            "application/vnd.google.colaboratory.intrinsic+json": {
              "type": "dataframe",
              "variable_name": "filtered_rows",
              "summary": "{\n  \"name\": \"filtered_rows\",\n  \"rows\": 284,\n  \"fields\": [\n    {\n      \"column\": \"student_id\",\n      \"properties\": {\n        \"dtype\": \"number\",\n        \"std\": 265,\n        \"min\": 1,\n        \"max\": 1239,\n        \"num_unique_values\": 204,\n        \"samples\": [\n          897,\n          848,\n          962\n        ],\n        \"semantic_type\": \"\",\n        \"description\": \"\"\n      }\n    },\n    {\n      \"column\": \"course_id\",\n      \"properties\": {\n        \"dtype\": \"number\",\n        \"std\": 5,\n        \"min\": 0,\n        \"max\": 22,\n        \"num_unique_values\": 20,\n        \"samples\": [\n          12,\n          19,\n          11\n        ],\n        \"semantic_type\": \"\",\n        \"description\": \"\"\n      }\n    },\n    {\n      \"column\": \"total\",\n      \"properties\": {\n        \"dtype\": \"number\",\n        \"std\": 0.07593007621383731,\n        \"min\": 0.145434346715794,\n        \"max\": 0.5999994778287994,\n        \"num_unique_values\": 284,\n        \"samples\": [\n          0.5666261581412846,\n          0.4624970651346577,\n          0.5688688761639684\n        ],\n        \"semantic_type\": \"\",\n        \"description\": \"\"\n      }\n    },\n    {\n      \"column\": \"prediction\",\n      \"properties\": {\n        \"dtype\": \"float32\",\n        \"num_unique_values\": 254,\n        \"samples\": [\n          0.5654211640357971,\n          0.5596648454666138,\n          0.5626637935638428\n        ],\n        \"semantic_type\": \"\",\n        \"description\": \"\"\n      }\n    }\n  ]\n}"
            }
          },
          "metadata": {},
          "execution_count": 502
        }
      ],
      "source": [
        "filtered_rows = validation[validation['total'] < 0.6]\n",
        "filtered_rows.head(20)"
      ]
    },
    {
      "cell_type": "markdown",
      "source": [
        "## **actual vs predicted for a random student**"
      ],
      "metadata": {
        "id": "S0HEy6VqD1jT"
      }
    },
    {
      "cell_type": "code",
      "execution_count": 503,
      "metadata": {
        "colab": {
          "base_uri": "https://localhost:8080/",
          "height": 175
        },
        "id": "ImjpW_QbvugB",
        "outputId": "18e5c9de-b165-4527-f596-1dd8ff7e8c25"
      },
      "outputs": [
        {
          "output_type": "execute_result",
          "data": {
            "text/plain": [
              "      student_id  course_id     total  prediction\n",
              "1885         267          2  0.618356    0.467126\n",
              "1877         267          6  0.516570    0.550072\n",
              "1879         267          7  0.466612    0.535118\n",
              "1878         267          7  0.450419    0.535118"
            ],
            "text/html": [
              "\n",
              "  <div id=\"df-c5f82c0c-ac78-4e45-9e0f-2642cf19fc69\" class=\"colab-df-container\">\n",
              "    <div>\n",
              "<style scoped>\n",
              "    .dataframe tbody tr th:only-of-type {\n",
              "        vertical-align: middle;\n",
              "    }\n",
              "\n",
              "    .dataframe tbody tr th {\n",
              "        vertical-align: top;\n",
              "    }\n",
              "\n",
              "    .dataframe thead th {\n",
              "        text-align: right;\n",
              "    }\n",
              "</style>\n",
              "<table border=\"1\" class=\"dataframe\">\n",
              "  <thead>\n",
              "    <tr style=\"text-align: right;\">\n",
              "      <th></th>\n",
              "      <th>student_id</th>\n",
              "      <th>course_id</th>\n",
              "      <th>total</th>\n",
              "      <th>prediction</th>\n",
              "    </tr>\n",
              "  </thead>\n",
              "  <tbody>\n",
              "    <tr>\n",
              "      <th>1885</th>\n",
              "      <td>267</td>\n",
              "      <td>2</td>\n",
              "      <td>0.618356</td>\n",
              "      <td>0.467126</td>\n",
              "    </tr>\n",
              "    <tr>\n",
              "      <th>1877</th>\n",
              "      <td>267</td>\n",
              "      <td>6</td>\n",
              "      <td>0.516570</td>\n",
              "      <td>0.550072</td>\n",
              "    </tr>\n",
              "    <tr>\n",
              "      <th>1879</th>\n",
              "      <td>267</td>\n",
              "      <td>7</td>\n",
              "      <td>0.466612</td>\n",
              "      <td>0.535118</td>\n",
              "    </tr>\n",
              "    <tr>\n",
              "      <th>1878</th>\n",
              "      <td>267</td>\n",
              "      <td>7</td>\n",
              "      <td>0.450419</td>\n",
              "      <td>0.535118</td>\n",
              "    </tr>\n",
              "  </tbody>\n",
              "</table>\n",
              "</div>\n",
              "    <div class=\"colab-df-buttons\">\n",
              "\n",
              "  <div class=\"colab-df-container\">\n",
              "    <button class=\"colab-df-convert\" onclick=\"convertToInteractive('df-c5f82c0c-ac78-4e45-9e0f-2642cf19fc69')\"\n",
              "            title=\"Convert this dataframe to an interactive table.\"\n",
              "            style=\"display:none;\">\n",
              "\n",
              "  <svg xmlns=\"http://www.w3.org/2000/svg\" height=\"24px\" viewBox=\"0 -960 960 960\">\n",
              "    <path d=\"M120-120v-720h720v720H120Zm60-500h600v-160H180v160Zm220 220h160v-160H400v160Zm0 220h160v-160H400v160ZM180-400h160v-160H180v160Zm440 0h160v-160H620v160ZM180-180h160v-160H180v160Zm440 0h160v-160H620v160Z\"/>\n",
              "  </svg>\n",
              "    </button>\n",
              "\n",
              "  <style>\n",
              "    .colab-df-container {\n",
              "      display:flex;\n",
              "      gap: 12px;\n",
              "    }\n",
              "\n",
              "    .colab-df-convert {\n",
              "      background-color: #E8F0FE;\n",
              "      border: none;\n",
              "      border-radius: 50%;\n",
              "      cursor: pointer;\n",
              "      display: none;\n",
              "      fill: #1967D2;\n",
              "      height: 32px;\n",
              "      padding: 0 0 0 0;\n",
              "      width: 32px;\n",
              "    }\n",
              "\n",
              "    .colab-df-convert:hover {\n",
              "      background-color: #E2EBFA;\n",
              "      box-shadow: 0px 1px 2px rgba(60, 64, 67, 0.3), 0px 1px 3px 1px rgba(60, 64, 67, 0.15);\n",
              "      fill: #174EA6;\n",
              "    }\n",
              "\n",
              "    .colab-df-buttons div {\n",
              "      margin-bottom: 4px;\n",
              "    }\n",
              "\n",
              "    [theme=dark] .colab-df-convert {\n",
              "      background-color: #3B4455;\n",
              "      fill: #D2E3FC;\n",
              "    }\n",
              "\n",
              "    [theme=dark] .colab-df-convert:hover {\n",
              "      background-color: #434B5C;\n",
              "      box-shadow: 0px 1px 3px 1px rgba(0, 0, 0, 0.15);\n",
              "      filter: drop-shadow(0px 1px 2px rgba(0, 0, 0, 0.3));\n",
              "      fill: #FFFFFF;\n",
              "    }\n",
              "  </style>\n",
              "\n",
              "    <script>\n",
              "      const buttonEl =\n",
              "        document.querySelector('#df-c5f82c0c-ac78-4e45-9e0f-2642cf19fc69 button.colab-df-convert');\n",
              "      buttonEl.style.display =\n",
              "        google.colab.kernel.accessAllowed ? 'block' : 'none';\n",
              "\n",
              "      async function convertToInteractive(key) {\n",
              "        const element = document.querySelector('#df-c5f82c0c-ac78-4e45-9e0f-2642cf19fc69');\n",
              "        const dataTable =\n",
              "          await google.colab.kernel.invokeFunction('convertToInteractive',\n",
              "                                                    [key], {});\n",
              "        if (!dataTable) return;\n",
              "\n",
              "        const docLinkHtml = 'Like what you see? Visit the ' +\n",
              "          '<a target=\"_blank\" href=https://colab.research.google.com/notebooks/data_table.ipynb>data table notebook</a>'\n",
              "          + ' to learn more about interactive tables.';\n",
              "        element.innerHTML = '';\n",
              "        dataTable['output_type'] = 'display_data';\n",
              "        await google.colab.output.renderOutput(dataTable, element);\n",
              "        const docLink = document.createElement('div');\n",
              "        docLink.innerHTML = docLinkHtml;\n",
              "        element.appendChild(docLink);\n",
              "      }\n",
              "    </script>\n",
              "  </div>\n",
              "\n",
              "\n",
              "<div id=\"df-37ed98b9-b8a4-4bf0-b011-6d014f142320\">\n",
              "  <button class=\"colab-df-quickchart\" onclick=\"quickchart('df-37ed98b9-b8a4-4bf0-b011-6d014f142320')\"\n",
              "            title=\"Suggest charts\"\n",
              "            style=\"display:none;\">\n",
              "\n",
              "<svg xmlns=\"http://www.w3.org/2000/svg\" height=\"24px\"viewBox=\"0 0 24 24\"\n",
              "     width=\"24px\">\n",
              "    <g>\n",
              "        <path d=\"M19 3H5c-1.1 0-2 .9-2 2v14c0 1.1.9 2 2 2h14c1.1 0 2-.9 2-2V5c0-1.1-.9-2-2-2zM9 17H7v-7h2v7zm4 0h-2V7h2v10zm4 0h-2v-4h2v4z\"/>\n",
              "    </g>\n",
              "</svg>\n",
              "  </button>\n",
              "\n",
              "<style>\n",
              "  .colab-df-quickchart {\n",
              "      --bg-color: #E8F0FE;\n",
              "      --fill-color: #1967D2;\n",
              "      --hover-bg-color: #E2EBFA;\n",
              "      --hover-fill-color: #174EA6;\n",
              "      --disabled-fill-color: #AAA;\n",
              "      --disabled-bg-color: #DDD;\n",
              "  }\n",
              "\n",
              "  [theme=dark] .colab-df-quickchart {\n",
              "      --bg-color: #3B4455;\n",
              "      --fill-color: #D2E3FC;\n",
              "      --hover-bg-color: #434B5C;\n",
              "      --hover-fill-color: #FFFFFF;\n",
              "      --disabled-bg-color: #3B4455;\n",
              "      --disabled-fill-color: #666;\n",
              "  }\n",
              "\n",
              "  .colab-df-quickchart {\n",
              "    background-color: var(--bg-color);\n",
              "    border: none;\n",
              "    border-radius: 50%;\n",
              "    cursor: pointer;\n",
              "    display: none;\n",
              "    fill: var(--fill-color);\n",
              "    height: 32px;\n",
              "    padding: 0;\n",
              "    width: 32px;\n",
              "  }\n",
              "\n",
              "  .colab-df-quickchart:hover {\n",
              "    background-color: var(--hover-bg-color);\n",
              "    box-shadow: 0 1px 2px rgba(60, 64, 67, 0.3), 0 1px 3px 1px rgba(60, 64, 67, 0.15);\n",
              "    fill: var(--button-hover-fill-color);\n",
              "  }\n",
              "\n",
              "  .colab-df-quickchart-complete:disabled,\n",
              "  .colab-df-quickchart-complete:disabled:hover {\n",
              "    background-color: var(--disabled-bg-color);\n",
              "    fill: var(--disabled-fill-color);\n",
              "    box-shadow: none;\n",
              "  }\n",
              "\n",
              "  .colab-df-spinner {\n",
              "    border: 2px solid var(--fill-color);\n",
              "    border-color: transparent;\n",
              "    border-bottom-color: var(--fill-color);\n",
              "    animation:\n",
              "      spin 1s steps(1) infinite;\n",
              "  }\n",
              "\n",
              "  @keyframes spin {\n",
              "    0% {\n",
              "      border-color: transparent;\n",
              "      border-bottom-color: var(--fill-color);\n",
              "      border-left-color: var(--fill-color);\n",
              "    }\n",
              "    20% {\n",
              "      border-color: transparent;\n",
              "      border-left-color: var(--fill-color);\n",
              "      border-top-color: var(--fill-color);\n",
              "    }\n",
              "    30% {\n",
              "      border-color: transparent;\n",
              "      border-left-color: var(--fill-color);\n",
              "      border-top-color: var(--fill-color);\n",
              "      border-right-color: var(--fill-color);\n",
              "    }\n",
              "    40% {\n",
              "      border-color: transparent;\n",
              "      border-right-color: var(--fill-color);\n",
              "      border-top-color: var(--fill-color);\n",
              "    }\n",
              "    60% {\n",
              "      border-color: transparent;\n",
              "      border-right-color: var(--fill-color);\n",
              "    }\n",
              "    80% {\n",
              "      border-color: transparent;\n",
              "      border-right-color: var(--fill-color);\n",
              "      border-bottom-color: var(--fill-color);\n",
              "    }\n",
              "    90% {\n",
              "      border-color: transparent;\n",
              "      border-bottom-color: var(--fill-color);\n",
              "    }\n",
              "  }\n",
              "</style>\n",
              "\n",
              "  <script>\n",
              "    async function quickchart(key) {\n",
              "      const quickchartButtonEl =\n",
              "        document.querySelector('#' + key + ' button');\n",
              "      quickchartButtonEl.disabled = true;  // To prevent multiple clicks.\n",
              "      quickchartButtonEl.classList.add('colab-df-spinner');\n",
              "      try {\n",
              "        const charts = await google.colab.kernel.invokeFunction(\n",
              "            'suggestCharts', [key], {});\n",
              "      } catch (error) {\n",
              "        console.error('Error during call to suggestCharts:', error);\n",
              "      }\n",
              "      quickchartButtonEl.classList.remove('colab-df-spinner');\n",
              "      quickchartButtonEl.classList.add('colab-df-quickchart-complete');\n",
              "    }\n",
              "    (() => {\n",
              "      let quickchartButtonEl =\n",
              "        document.querySelector('#df-37ed98b9-b8a4-4bf0-b011-6d014f142320 button');\n",
              "      quickchartButtonEl.style.display =\n",
              "        google.colab.kernel.accessAllowed ? 'block' : 'none';\n",
              "    })();\n",
              "  </script>\n",
              "</div>\n",
              "\n",
              "    </div>\n",
              "  </div>\n"
            ],
            "application/vnd.google.colaboratory.intrinsic+json": {
              "type": "dataframe",
              "variable_name": "prefered_courses",
              "summary": "{\n  \"name\": \"prefered_courses\",\n  \"rows\": 4,\n  \"fields\": [\n    {\n      \"column\": \"student_id\",\n      \"properties\": {\n        \"dtype\": \"number\",\n        \"std\": 0,\n        \"min\": 267,\n        \"max\": 267,\n        \"num_unique_values\": 1,\n        \"samples\": [\n          267\n        ],\n        \"semantic_type\": \"\",\n        \"description\": \"\"\n      }\n    },\n    {\n      \"column\": \"course_id\",\n      \"properties\": {\n        \"dtype\": \"number\",\n        \"std\": 2,\n        \"min\": 2,\n        \"max\": 7,\n        \"num_unique_values\": 3,\n        \"samples\": [\n          2\n        ],\n        \"semantic_type\": \"\",\n        \"description\": \"\"\n      }\n    },\n    {\n      \"column\": \"total\",\n      \"properties\": {\n        \"dtype\": \"number\",\n        \"std\": 0.07567669691513844,\n        \"min\": 0.45041918275009135,\n        \"max\": 0.6183562370619247,\n        \"num_unique_values\": 4,\n        \"samples\": [\n          0.5165700710460633\n        ],\n        \"semantic_type\": \"\",\n        \"description\": \"\"\n      }\n    },\n    {\n      \"column\": \"prediction\",\n      \"properties\": {\n        \"dtype\": \"float32\",\n        \"num_unique_values\": 3,\n        \"samples\": [\n          0.4671255648136139\n        ],\n        \"semantic_type\": \"\",\n        \"description\": \"\"\n      }\n    }\n  ]\n}"
            }
          },
          "metadata": {},
          "execution_count": 503
        }
      ],
      "source": [
        "target_student=random.choice(validation['student_id'].unique())\n",
        "prefered_courses=validation.loc[validation['student_id'] == target_student].sort_values(by='total', ascending=False)\n",
        "prefered_courses.head()"
      ]
    },
    {
      "cell_type": "markdown",
      "metadata": {
        "id": "Wn68QcXfvugB"
      },
      "source": [
        "## **Plotting actual vs Predicted**\n",
        "\n"
      ]
    },
    {
      "cell_type": "code",
      "execution_count": 504,
      "metadata": {
        "colab": {
          "base_uri": "https://localhost:8080/",
          "height": 564
        },
        "id": "V_15g4Ok72K-",
        "outputId": "9a5663aa-20f3-4401-c7c1-dfd45230d0b7"
      },
      "outputs": [
        {
          "output_type": "display_data",
          "data": {
            "text/plain": [
              "<Figure size 800x600 with 1 Axes>"
            ],
            "image/png": "[encoded data removed]"
          },
          "metadata": {}
        }
      ],
      "source": [
        "\n",
        "\n",
        "plt.figure(figsize=(8, 6))\n",
        "plt.scatter(dataset['total'], dataset['prediction'], s=32, alpha=0.8)\n",
        "plt.gca().spines['top'].set_visible(False)\n",
        "plt.gca().spines['right'].set_visible(False)\n",
        "\n",
        "# range where total equals prediction\n",
        "min_val = min(dataset['total'].min(), dataset['prediction'].min())\n",
        "max_val = max(dataset['total'].max(), dataset['prediction'].max())\n",
        "\n",
        "\n",
        "plt.plot([min_val, max_val], [min_val, max_val], color='red', linewidth=4, label='Total = Prediction')#total=predicted_line\n",
        "\n",
        "\n",
        "plt.xlabel('Total')\n",
        "plt.ylabel('Prediction')\n",
        "plt.title('actual vs Prediction with Total = Prediction Line')\n",
        "plt.legend()\n",
        "\n",
        "plt.show()\n"
      ]
    },
    {
      "cell_type": "markdown",
      "source": [
        "# **Inference**"
      ],
      "metadata": {
        "id": "jePAiUw1-QLc"
      }
    },
    {
      "cell_type": "code",
      "source": [
        "dataset.head()"
      ],
      "metadata": {
        "id": "EsPjJN6V8Qqg",
        "outputId": "55b1b337-f3b4-4b4d-e296-6feff8d07a7d",
        "colab": {
          "base_uri": "https://localhost:8080/",
          "height": 206
        }
      },
      "execution_count": 433,
      "outputs": [
        {
          "output_type": "execute_result",
          "data": {
            "text/plain": [
              "   student_id  course_id     total  prediction\n",
              "0           0          0  0.696942    0.717652\n",
              "1           0          1  0.742556    0.758504\n",
              "2           0          2  0.719467    0.773395\n",
              "3           0          3  0.732792    0.743080\n",
              "4           1          2  0.676668    0.674517"
            ],
            "text/html": [
              "\n",
              "  <div id=\"df-dabca622-d967-4f24-8890-8a01af3e29d3\" class=\"colab-df-container\">\n",
              "    <div>\n",
              "<style scoped>\n",
              "    .dataframe tbody tr th:only-of-type {\n",
              "        vertical-align: middle;\n",
              "    }\n",
              "\n",
              "    .dataframe tbody tr th {\n",
              "        vertical-align: top;\n",
              "    }\n",
              "\n",
              "    .dataframe thead th {\n",
              "        text-align: right;\n",
              "    }\n",
              "</style>\n",
              "<table border=\"1\" class=\"dataframe\">\n",
              "  <thead>\n",
              "    <tr style=\"text-align: right;\">\n",
              "      <th></th>\n",
              "      <th>student_id</th>\n",
              "      <th>course_id</th>\n",
              "      <th>total</th>\n",
              "      <th>prediction</th>\n",
              "    </tr>\n",
              "  </thead>\n",
              "  <tbody>\n",
              "    <tr>\n",
              "      <th>0</th>\n",
              "      <td>0</td>\n",
              "      <td>0</td>\n",
              "      <td>0.696942</td>\n",
              "      <td>0.717652</td>\n",
              "    </tr>\n",
              "    <tr>\n",
              "      <th>1</th>\n",
              "      <td>0</td>\n",
              "      <td>1</td>\n",
              "      <td>0.742556</td>\n",
              "      <td>0.758504</td>\n",
              "    </tr>\n",
              "    <tr>\n",
              "      <th>2</th>\n",
              "      <td>0</td>\n",
              "      <td>2</td>\n",
              "      <td>0.719467</td>\n",
              "      <td>0.773395</td>\n",
              "    </tr>\n",
              "    <tr>\n",
              "      <th>3</th>\n",
              "      <td>0</td>\n",
              "      <td>3</td>\n",
              "      <td>0.732792</td>\n",
              "      <td>0.743080</td>\n",
              "    </tr>\n",
              "    <tr>\n",
              "      <th>4</th>\n",
              "      <td>1</td>\n",
              "      <td>2</td>\n",
              "      <td>0.676668</td>\n",
              "      <td>0.674517</td>\n",
              "    </tr>\n",
              "  </tbody>\n",
              "</table>\n",
              "</div>\n",
              "    <div class=\"colab-df-buttons\">\n",
              "\n",
              "  <div class=\"colab-df-container\">\n",
              "    <button class=\"colab-df-convert\" onclick=\"convertToInteractive('df-dabca622-d967-4f24-8890-8a01af3e29d3')\"\n",
              "            title=\"Convert this dataframe to an interactive table.\"\n",
              "            style=\"display:none;\">\n",
              "\n",
              "  <svg xmlns=\"http://www.w3.org/2000/svg\" height=\"24px\" viewBox=\"0 -960 960 960\">\n",
              "    <path d=\"M120-120v-720h720v720H120Zm60-500h600v-160H180v160Zm220 220h160v-160H400v160Zm0 220h160v-160H400v160ZM180-400h160v-160H180v160Zm440 0h160v-160H620v160ZM180-180h160v-160H180v160Zm440 0h160v-160H620v160Z\"/>\n",
              "  </svg>\n",
              "    </button>\n",
              "\n",
              "  <style>\n",
              "    .colab-df-container {\n",
              "      display:flex;\n",
              "      gap: 12px;\n",
              "    }\n",
              "\n",
              "    .colab-df-convert {\n",
              "      background-color: #E8F0FE;\n",
              "      border: none;\n",
              "      border-radius: 50%;\n",
              "      cursor: pointer;\n",
              "      display: none;\n",
              "      fill: #1967D2;\n",
              "      height: 32px;\n",
              "      padding: 0 0 0 0;\n",
              "      width: 32px;\n",
              "    }\n",
              "\n",
              "    .colab-df-convert:hover {\n",
              "      background-color: #E2EBFA;\n",
              "      box-shadow: 0px 1px 2px rgba(60, 64, 67, 0.3), 0px 1px 3px 1px rgba(60, 64, 67, 0.15);\n",
              "      fill: #174EA6;\n",
              "    }\n",
              "\n",
              "    .colab-df-buttons div {\n",
              "      margin-bottom: 4px;\n",
              "    }\n",
              "\n",
              "    [theme=dark] .colab-df-convert {\n",
              "      background-color: #3B4455;\n",
              "      fill: #D2E3FC;\n",
              "    }\n",
              "\n",
              "    [theme=dark] .colab-df-convert:hover {\n",
              "      background-color: #434B5C;\n",
              "      box-shadow: 0px 1px 3px 1px rgba(0, 0, 0, 0.15);\n",
              "      filter: drop-shadow(0px 1px 2px rgba(0, 0, 0, 0.3));\n",
              "      fill: #FFFFFF;\n",
              "    }\n",
              "  </style>\n",
              "\n",
              "    <script>\n",
              "      const buttonEl =\n",
              "        document.querySelector('#df-dabca622-d967-4f24-8890-8a01af3e29d3 button.colab-df-convert');\n",
              "      buttonEl.style.display =\n",
              "        google.colab.kernel.accessAllowed ? 'block' : 'none';\n",
              "\n",
              "      async function convertToInteractive(key) {\n",
              "        const element = document.querySelector('#df-dabca622-d967-4f24-8890-8a01af3e29d3');\n",
              "        const dataTable =\n",
              "          await google.colab.kernel.invokeFunction('convertToInteractive',\n",
              "                                                    [key], {});\n",
              "        if (!dataTable) return;\n",
              "\n",
              "        const docLinkHtml = 'Like what you see? Visit the ' +\n",
              "          '<a target=\"_blank\" href=https://colab.research.google.com/notebooks/data_table.ipynb>data table notebook</a>'\n",
              "          + ' to learn more about interactive tables.';\n",
              "        element.innerHTML = '';\n",
              "        dataTable['output_type'] = 'display_data';\n",
              "        await google.colab.output.renderOutput(dataTable, element);\n",
              "        const docLink = document.createElement('div');\n",
              "        docLink.innerHTML = docLinkHtml;\n",
              "        element.appendChild(docLink);\n",
              "      }\n",
              "    </script>\n",
              "  </div>\n",
              "\n",
              "\n",
              "<div id=\"df-be1be60f-cd8a-42b6-894f-2443390046ae\">\n",
              "  <button class=\"colab-df-quickchart\" onclick=\"quickchart('df-be1be60f-cd8a-42b6-894f-2443390046ae')\"\n",
              "            title=\"Suggest charts\"\n",
              "            style=\"display:none;\">\n",
              "\n",
              "<svg xmlns=\"http://www.w3.org/2000/svg\" height=\"24px\"viewBox=\"0 0 24 24\"\n",
              "     width=\"24px\">\n",
              "    <g>\n",
              "        <path d=\"M19 3H5c-1.1 0-2 .9-2 2v14c0 1.1.9 2 2 2h14c1.1 0 2-.9 2-2V5c0-1.1-.9-2-2-2zM9 17H7v-7h2v7zm4 0h-2V7h2v10zm4 0h-2v-4h2v4z\"/>\n",
              "    </g>\n",
              "</svg>\n",
              "  </button>\n",
              "\n",
              "<style>\n",
              "  .colab-df-quickchart {\n",
              "      --bg-color: #E8F0FE;\n",
              "      --fill-color: #1967D2;\n",
              "      --hover-bg-color: #E2EBFA;\n",
              "      --hover-fill-color: #174EA6;\n",
              "      --disabled-fill-color: #AAA;\n",
              "      --disabled-bg-color: #DDD;\n",
              "  }\n",
              "\n",
              "  [theme=dark] .colab-df-quickchart {\n",
              "      --bg-color: #3B4455;\n",
              "      --fill-color: #D2E3FC;\n",
              "      --hover-bg-color: #434B5C;\n",
              "      --hover-fill-color: #FFFFFF;\n",
              "      --disabled-bg-color: #3B4455;\n",
              "      --disabled-fill-color: #666;\n",
              "  }\n",
              "\n",
              "  .colab-df-quickchart {\n",
              "    background-color: var(--bg-color);\n",
              "    border: none;\n",
              "    border-radius: 50%;\n",
              "    cursor: pointer;\n",
              "    display: none;\n",
              "    fill: var(--fill-color);\n",
              "    height: 32px;\n",
              "    padding: 0;\n",
              "    width: 32px;\n",
              "  }\n",
              "\n",
              "  .colab-df-quickchart:hover {\n",
              "    background-color: var(--hover-bg-color);\n",
              "    box-shadow: 0 1px 2px rgba(60, 64, 67, 0.3), 0 1px 3px 1px rgba(60, 64, 67, 0.15);\n",
              "    fill: var(--button-hover-fill-color);\n",
              "  }\n",
              "\n",
              "  .colab-df-quickchart-complete:disabled,\n",
              "  .colab-df-quickchart-complete:disabled:hover {\n",
              "    background-color: var(--disabled-bg-color);\n",
              "    fill: var(--disabled-fill-color);\n",
              "    box-shadow: none;\n",
              "  }\n",
              "\n",
              "  .colab-df-spinner {\n",
              "    border: 2px solid var(--fill-color);\n",
              "    border-color: transparent;\n",
              "    border-bottom-color: var(--fill-color);\n",
              "    animation:\n",
              "      spin 1s steps(1) infinite;\n",
              "  }\n",
              "\n",
              "  @keyframes spin {\n",
              "    0% {\n",
              "      border-color: transparent;\n",
              "      border-bottom-color: var(--fill-color);\n",
              "      border-left-color: var(--fill-color);\n",
              "    }\n",
              "    20% {\n",
              "      border-color: transparent;\n",
              "      border-left-color: var(--fill-color);\n",
              "      border-top-color: var(--fill-color);\n",
              "    }\n",
              "    30% {\n",
              "      border-color: transparent;\n",
              "      border-left-color: var(--fill-color);\n",
              "      border-top-color: var(--fill-color);\n",
              "      border-right-color: var(--fill-color);\n",
              "    }\n",
              "    40% {\n",
              "      border-color: transparent;\n",
              "      border-right-color: var(--fill-color);\n",
              "      border-top-color: var(--fill-color);\n",
              "    }\n",
              "    60% {\n",
              "      border-color: transparent;\n",
              "      border-right-color: var(--fill-color);\n",
              "    }\n",
              "    80% {\n",
              "      border-color: transparent;\n",
              "      border-right-color: var(--fill-color);\n",
              "      border-bottom-color: var(--fill-color);\n",
              "    }\n",
              "    90% {\n",
              "      border-color: transparent;\n",
              "      border-bottom-color: var(--fill-color);\n",
              "    }\n",
              "  }\n",
              "</style>\n",
              "\n",
              "  <script>\n",
              "    async function quickchart(key) {\n",
              "      const quickchartButtonEl =\n",
              "        document.querySelector('#' + key + ' button');\n",
              "      quickchartButtonEl.disabled = true;  // To prevent multiple clicks.\n",
              "      quickchartButtonEl.classList.add('colab-df-spinner');\n",
              "      try {\n",
              "        const charts = await google.colab.kernel.invokeFunction(\n",
              "            'suggestCharts', [key], {});\n",
              "      } catch (error) {\n",
              "        console.error('Error during call to suggestCharts:', error);\n",
              "      }\n",
              "      quickchartButtonEl.classList.remove('colab-df-spinner');\n",
              "      quickchartButtonEl.classList.add('colab-df-quickchart-complete');\n",
              "    }\n",
              "    (() => {\n",
              "      let quickchartButtonEl =\n",
              "        document.querySelector('#df-be1be60f-cd8a-42b6-894f-2443390046ae button');\n",
              "      quickchartButtonEl.style.display =\n",
              "        google.colab.kernel.accessAllowed ? 'block' : 'none';\n",
              "    })();\n",
              "  </script>\n",
              "</div>\n",
              "\n",
              "    </div>\n",
              "  </div>\n"
            ],
            "application/vnd.google.colaboratory.intrinsic+json": {
              "type": "dataframe",
              "variable_name": "dataset",
              "summary": "{\n  \"name\": \"dataset\",\n  \"rows\": 5721,\n  \"fields\": [\n    {\n      \"column\": \"student_id\",\n      \"properties\": {\n        \"dtype\": \"number\",\n        \"std\": 318,\n        \"min\": 0,\n        \"max\": 1274,\n        \"num_unique_values\": 1275,\n        \"samples\": [\n          1179,\n          342,\n          649\n        ],\n        \"semantic_type\": \"\",\n        \"description\": \"\"\n      }\n    },\n    {\n      \"column\": \"course_id\",\n      \"properties\": {\n        \"dtype\": \"number\",\n        \"std\": 6,\n        \"min\": 0,\n        \"max\": 22,\n        \"num_unique_values\": 23,\n        \"samples\": [\n          15,\n          9,\n          0\n        ],\n        \"semantic_type\": \"\",\n        \"description\": \"\"\n      }\n    },\n    {\n      \"column\": \"total\",\n      \"properties\": {\n        \"dtype\": \"number\",\n        \"std\": 0.15074364549952857,\n        \"min\": 0.0,\n        \"max\": 1.0,\n        \"num_unique_values\": 2756,\n        \"samples\": [\n          0.6791466636429201,\n          0.5414337185668925,\n          0.7316284828001519\n        ],\n        \"semantic_type\": \"\",\n        \"description\": \"\"\n      }\n    },\n    {\n      \"column\": \"prediction\",\n      \"properties\": {\n        \"dtype\": \"float32\",\n        \"num_unique_values\": 5633,\n        \"samples\": [\n          0.6771535873413086,\n          0.7244617342948914,\n          0.8818440437316895\n        ],\n        \"semantic_type\": \"\",\n        \"description\": \"\"\n      }\n    }\n  ]\n}"
            }
          },
          "metadata": {},
          "execution_count": 433
        }
      ]
    },
    {
      "cell_type": "markdown",
      "source": [
        "**sample recommendation list for student #20**"
      ],
      "metadata": {
        "id": "p-WzyodREgOh"
      }
    },
    {
      "cell_type": "code",
      "execution_count": 508,
      "metadata": {
        "id": "vx_ghlpfvugC",
        "colab": {
          "base_uri": "https://localhost:8080/"
        },
        "outputId": "ae828a74-90dc-4748-c1ba-a9ef0dd53936"
      },
      "outputs": [
        {
          "output_type": "stream",
          "name": "stdout",
          "text": [
            "\u001b[1m1/1\u001b[0m \u001b[32m━━━━━━━━━━━━━━━━━━━━\u001b[0m\u001b[37m\u001b[0m \u001b[1m0s\u001b[0m 23ms/step\n"
          ]
        },
        {
          "output_type": "execute_result",
          "data": {
            "text/plain": [
              "['DATA SECURITY',\n",
              " 'Multimedia&Virtual Reality Systems',\n",
              " 'COMPUTER SYSTEMS PERFORMANCE ANALYSIS',\n",
              " 'Web Engineering',\n",
              " 'INTRO.TO SOFTWARE ENG']"
            ]
          },
          "metadata": {},
          "execution_count": 508
        }
      ],
      "source": [
        "student_input=20\n",
        "courses=dataset['course_id'].unique()\n",
        "\n",
        "get_topk_recommendations(model, student_input, courses).map(lambda x:courses_name[x]).tolist()"
      ]
    }
  ],
  "metadata": {
    "colab": {
      "provenance": [],
      "collapsed_sections": [
        "0Yw9S-IGMT_p"
      ]
    },
    "kaggle": {
      "accelerator": "none",
      "dataSources": [
        {
          "datasetId": 4931226,
          "sourceId": 8300508,
          "sourceType": "datasetVersion"
        },
        {
          "datasetId": 4986618,
          "sourceId": 8384554,
          "sourceType": "datasetVersion"
        }
      ],
      "dockerImageVersionId": 30698,
      "isGpuEnabled": false,
      "isInternetEnabled": true,
      "language": "python",
      "sourceType": "notebook"
    },
    "kernelspec": {
      "display_name": "Python 3",
      "name": "python3"
    },
    "language_info": {
      "codemirror_mode": {
        "name": "ipython",
        "version": 3
      },
      "file_extension": ".py",
      "mimetype": "text/x-python",
      "name": "python",
      "nbconvert_exporter": "python",
      "pygments_lexer": "ipython3",
      "version": "3.10.13"
    }
  },
  "nbformat": 4,
  "nbformat_minor": 0
}